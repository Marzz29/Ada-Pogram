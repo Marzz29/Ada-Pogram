{
 "cells": [
  {
   "cell_type": "code",
   "execution_count": 21,
   "metadata": {},
   "outputs": [],
   "source": [
    "def love():\n",
    "    # prompt the user to enter the scores with the input() function\n",
    "    singleness = input(\"Enter your singleness score (must be 1): \")\n",
    "    maturity = input(\"Enter your maturity score (1-10): \")\n",
    "    intelligence = input(\"Enter your intelligence score (1-10): \")\n",
    "    trust = input(\"Enter your trust score (1-10): \")\n",
    "    love = input(\"Enter your love score (1-10): \")\n",
    "\n",
    "    # check if the inputs are valid numbers\n",
    "    for score in [singleness, maturity, intelligence, trust, love]:\n",
    "        if not score.isdigit() or int(score) > 10 or int(score) < 1:\n",
    "            # print an error message and return from the function if it is not\n",
    "            print(\"Kindly input a number between 1 and 10\")\n",
    "            return\n",
    "\n",
    "    # convert the inputs to integers after confirming they are valid numbers\n",
    "    singleness = int(singleness)\n",
    "    maturity = int(maturity)\n",
    "    intelligence = int(intelligence)\n",
    "    trust = int(trust)\n",
    "    love = int(love)\n",
    "\n",
    "    # check if the singleness score is equal to 1\n",
    "    if singleness != 1:\n",
    "        # print an error message and return from the function if it is not\n",
    "        print(\"Kindly input the number 1 for singleness\")\n",
    "        return\n",
    "\n",
    "    # calculate the total score\n",
    "    total_score = maturity + intelligence + trust + love + singleness\n",
    "\n",
    "    # check if the total score is at least 21\n",
    "    if total_score >= 21:\n",
    "        # print a congratulatory message\n",
    "        print(\"Congrats! You are closer to your desired romantic relationship\")\n",
    "    else:\n",
    "        # print a message indicating that the user is not eligible for a romantic relationship\n",
    "        print(\"Sorry, you are not eligible for a romantic relationship yet\")\n",
    "\n"
   ]
  },
  {
   "cell_type": "code",
   "execution_count": 24,
   "metadata": {},
   "outputs": [
    {
     "name": "stdout",
     "output_type": "stream",
     "text": [
      "Kindly input a number between 1 and 10\n"
     ]
    }
   ],
   "source": [
    "love ()"
   ]
  }
 ],
 "metadata": {
  "kernelspec": {
   "display_name": "Python 3",
   "language": "python",
   "name": "python3"
  },
  "language_info": {
   "codemirror_mode": {
    "name": "ipython",
    "version": 3
   },
   "file_extension": ".py",
   "mimetype": "text/x-python",
   "name": "python",
   "nbconvert_exporter": "python",
   "pygments_lexer": "ipython3",
   "version": "3.11.1"
  },
  "orig_nbformat": 4,
  "vscode": {
   "interpreter": {
    "hash": "1f6a27bcfbe46a917dbd192f4a82657396dda26148bae633192e8d28c70725f1"
   }
  }
 },
 "nbformat": 4,
 "nbformat_minor": 2
}
