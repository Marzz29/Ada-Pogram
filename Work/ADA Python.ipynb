{
 "cells": [
  {
   "attachments": {},
   "cell_type": "markdown",
   "id": "8bbfba74",
   "metadata": {},
   "source": [
    "## Python Collections\n",
    "Lists, Tuples, Sets, and Dictionaries\n"
   ]
  },
  {
   "attachments": {},
   "cell_type": "markdown",
   "id": "7b23a805",
   "metadata": {},
   "source": [
    "## Create empty lists, tuples, sets, and dicts.\n",
    "There are two ways you can create this. You can use the different bractes associated with each collection or use their respective functions."
   ]
  },
  {
   "cell_type": "code",
   "execution_count": 1,
   "id": "89d0000a",
   "metadata": {},
   "outputs": [
    {
     "name": "stdout",
     "output_type": "stream",
     "text": [
      "<class 'list'>\n",
      "<class 'list'>\n",
      "<class 'tuple'>\n",
      "<class 'tuple'>\n",
      "<class 'set'>\n",
      "<class 'set'>\n",
      "<class 'dict'>\n",
      "<class 'dict'>\n"
     ]
    }
   ],
   "source": [
    "list1 = []\n",
    "list2 = list()\n",
    "print(type(list1))\n",
    "print(type(list2))\n",
    "\n",
    "tuple1 = ()\n",
    "tuple2 = tuple()\n",
    "print(type(tuple1))\n",
    "print(type(tuple2))\n",
    "\n",
    "set1 = {*()}\n",
    "set2 = set()\n",
    "print(type(set1))\n",
    "print(type(set2))\n",
    "\n",
    "dict1 = {}\n",
    "dict2 = dict()\n",
    "print(type(dict1))\n",
    "print(type(dict2))"
   ]
  },
  {
   "attachments": {},
   "cell_type": "markdown",
   "id": "23ad931e",
   "metadata": {},
   "source": [
    "## Create non-empty lists, tuples, sets, and dicts.\n",
    "Note\n",
    "- In a set, duplicate values are not allowed and a set also counts 'True' as '1' and 'False' as '0'\n",
    "- A set and a dictionary use curlybraces but in a dictionary, each item contained must consist of a key and a value. This means that where there is no '1: apple', it is a set.\n",
    "- When you use the dictionary function you are not allowed to put a list or a tuple in the function. The two would return an error. If it is a set, it would print normally."
   ]
  },
  {
   "cell_type": "code",
   "execution_count": 3,
   "id": "d892a855",
   "metadata": {},
   "outputs": [
    {
     "name": "stdout",
     "output_type": "stream",
     "text": [
      "[1, 2, 2, True, 'a', 'a', 'c'] [1, 2, 2, True, 'a', 'a', 'c'] [1, 2, 2, True, 'a', 'a', 'c'] ['c', 1, 2, 'a']\n"
     ]
    }
   ],
   "source": [
    "# LISTS\n",
    "list3 = [1, 2, 2, True, 'a', 'a', 'c'] # A list\n",
    "list4 = list([1, 2, 2, True, 'a', 'a', 'c']) # A list within a list\n",
    "list5 = list((1, 2, 2, True, 'a', 'a', 'c')) # A tuple within a list\n",
    "list6 = list({1, 2, 2, True, 'a', 'a', 'c'}) # A set within a list\n",
    "\n",
    "print(list3, list4, list5, list6)"
   ]
  },
  {
   "cell_type": "code",
   "execution_count": 5,
   "id": "e26d7be9",
   "metadata": {},
   "outputs": [
    {
     "name": "stdout",
     "output_type": "stream",
     "text": [
      "(1, 2, 2, True, 'a', 'a', 'c') (1, 2, 2, True, 'a', 'a', 'c') (1, 2, 2, True, 'a', 'a', 'c') ('c', 1, 2, 'a')\n"
     ]
    }
   ],
   "source": [
    "# TUPLES\n",
    "tuple3 = (1, 2, 2, True, 'a', 'a', 'c') # A tuple\n",
    "tuple4 = tuple([1, 2, 2, True, 'a', 'a', 'c']) # A list within a tuple\n",
    "tuple5 = tuple((1, 2, 2, True, 'a', 'a', 'c')) # A tuple within a tuple\n",
    "tuple6 = tuple({1, 2, 2, True, 'a', 'a', 'c'}) # A set within a tuple\n",
    "\n",
    "print(tuple3, tuple4, tuple5, tuple6)"
   ]
  },
  {
   "cell_type": "code",
   "execution_count": 7,
   "id": "514820aa",
   "metadata": {},
   "outputs": [
    {
     "name": "stdout",
     "output_type": "stream",
     "text": [
      "{'c', 1, 2, 'a'} {'c', 1, 2, 'a'} {'c', 1, 2, 'a'} {'c', 1, 2, 'a'}\n"
     ]
    }
   ],
   "source": [
    "# SETS\n",
    "set3 = {1, 2, 2, True, 'a', 'a', 'c'} # A set\n",
    "set4 = set([1, 2, 2, True, 'a', 'a', 'c']) # A list within a set\n",
    "set5 = set((1, 2, 2, True, 'a', 'a', 'c')) # A tuple within a set\n",
    "set6 = set({1, 2, 2, True, 'a', 'a', 'c'}) # A set within a set\n",
    "\n",
    "print(set3, set4, set5, set6)"
   ]
  },
  {
   "cell_type": "code",
   "execution_count": 9,
   "id": "5043e16b",
   "metadata": {},
   "outputs": [
    {
     "name": "stdout",
     "output_type": "stream",
     "text": [
      "{1: 'apple', 2: 'cherry', 3: 'strawberry'} {1: 'apple', 2: 'cherry', 3: 'strawberry'}\n"
     ]
    }
   ],
   "source": [
    "#DICTIONARIES\n",
    "dict3 = {1: 'apple', 2: 'cherry', 3:'strawberry'}\n",
    "dict4 = dict({1: 'apple', 2: 'cherry', 3:'strawberry'}) #A set within a dictionary\n",
    "\n",
    "print(dict3, dict4)"
   ]
  },
  {
   "attachments": {},
   "cell_type": "markdown",
   "id": "d9934873",
   "metadata": {},
   "source": [
    "## Accessing Data (Indexing)\n",
    "- List items are indexed, the first index starts from 0 and the second 1\n",
    "- A slice returns the items between the two indexes stated. It would not return theitem in the position of the second index.\n",
    "- In sets, you can not access individual items because by definition, they are unordered"
   ]
  },
  {
   "cell_type": "code",
   "execution_count": 15,
   "id": "0ca08b4f",
   "metadata": {},
   "outputs": [
    {
     "name": "stdout",
     "output_type": "stream",
     "text": [
      "True\n",
      "c\n",
      "[1, 2, 2, True, 'a']\n"
     ]
    }
   ],
   "source": [
    "#LIST\n",
    "list7 = [1, 2, 2, True, 'a', 'a', 'c']\n",
    "print(list7[3]) # Access at index\n",
    "print(list7[-1]) # Access from back\n",
    "print(list7[0:5]) # Slice"
   ]
  },
  {
   "cell_type": "code",
   "execution_count": 17,
   "id": "73856158",
   "metadata": {},
   "outputs": [
    {
     "name": "stdout",
     "output_type": "stream",
     "text": [
      "1\n",
      "a\n",
      "(1, 2, 2, True, 'a', 'a', 'c')\n"
     ]
    }
   ],
   "source": [
    "#TUPLES\n",
    "tuple7 = (1, 2, 2, True, 'a', 'a', 'c')\n",
    "print(tuple7[0]) # Access at index\n",
    "print(tuple7[-2]) # Access from back\n",
    "print(tuple7[0:7]) # Slice"
   ]
  },
  {
   "cell_type": "code",
   "execution_count": 20,
   "id": "42ead9b2",
   "metadata": {},
   "outputs": [],
   "source": [
    "#SETS\n",
    "set7 = {1, 2, 2, True, 'a', 'a', 'c'}\n",
    "print(set7[0]) #This would return an error"
   ]
  },
  {
   "cell_type": "code",
   "execution_count": null,
   "id": "06cda015",
   "metadata": {},
   "outputs": [],
   "source": [
    "#DICTIONARIES\n",
    "dict7 = dict({1: \"apple\", 2: \"cherry\", 3: \"strawberry\"})\n",
    "print(dict7[2]) # Access at key!\n",
    "print(dict7.keys()) # Keys\n",
    "print(dict7.values()) # Values\n",
    "print(dict7.items()) # Key Value Pairs"
   ]
  },
  {
   "cell_type": "markdown",
   "id": "50ebead1",
   "metadata": {},
   "source": [
    "## List\n",
    "List indexing starts its positioning from 0 and not 1"
   ]
  },
  {
   "cell_type": "code",
   "execution_count": 2,
   "id": "34bddf57",
   "metadata": {},
   "outputs": [],
   "source": [
    "shopping = ['cabbage', 'ice','fruits']"
   ]
  },
  {
   "attachments": {},
   "cell_type": "markdown",
   "id": "73a7aa2b",
   "metadata": {},
   "source": [
    "Indexing in lists is using the position of an item to access a variable\n",
    "- This is the syntax for indexing\n",
    "- There are two ways you can index in python, zero based indexing and "
   ]
  },
  {
   "cell_type": "code",
   "execution_count": 3,
   "id": "7182bd9a",
   "metadata": {},
   "outputs": [
    {
     "data": {
      "text/plain": [
       "'cabbage'"
      ]
     },
     "execution_count": 3,
     "metadata": {},
     "output_type": "execute_result"
    }
   ],
   "source": [
    "shopping[0] #This is zero based indexing"
   ]
  },
  {
   "cell_type": "code",
   "execution_count": null,
   "id": "b7657351",
   "metadata": {},
   "outputs": [],
   "source": [
    "# What if you want to add "
   ]
  }
 ],
 "metadata": {
  "kernelspec": {
   "display_name": "Python 3",
   "language": "python",
   "name": "python3"
  },
  "language_info": {
   "codemirror_mode": {
    "name": "ipython",
    "version": 3
   },
   "file_extension": ".py",
   "mimetype": "text/x-python",
   "name": "python",
   "nbconvert_exporter": "python",
   "pygments_lexer": "ipython3",
   "version": "3.11.1"
  },
  "vscode": {
   "interpreter": {
    "hash": "1f6a27bcfbe46a917dbd192f4a82657396dda26148bae633192e8d28c70725f1"
   }
  }
 },
 "nbformat": 4,
 "nbformat_minor": 5
}
