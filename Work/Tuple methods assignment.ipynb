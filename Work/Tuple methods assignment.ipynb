{
 "cells": [
  {
   "attachments": {},
   "cell_type": "markdown",
   "metadata": {},
   "source": [
    "# What are Tuples?\n",
    "Tuples are ordered, unchangeable, and can contain duplicate elements. They are useful for data that shouldn't be changed, like the coordinates of an object.\n",
    "\n",
    "Here are examples of using tuple methods in Python."
   ]
  },
  {
   "attachments": {},
   "cell_type": "markdown",
   "metadata": {},
   "source": [
    "# 1. COUNT() "
   ]
  },
  {
   "cell_type": "code",
   "execution_count": 2,
   "metadata": {},
   "outputs": [
    {
     "name": "stdout",
     "output_type": "stream",
     "text": [
      "3\n"
     ]
    }
   ],
   "source": [
    "# Define a tuple\n",
    "numbers = (1, 2, 3, 2, 4, 2)\n",
    "\n",
    "# Use the count method to count the number of occurrences of 2 in the tuple\n",
    "count = numbers.count(2)\n",
    "print(count) # Output: 3"
   ]
  },
  {
   "attachments": {},
   "cell_type": "markdown",
   "metadata": {},
   "source": [
    "# 2. INDEX()"
   ]
  },
  {
   "cell_type": "code",
   "execution_count": 3,
   "metadata": {},
   "outputs": [
    {
     "name": "stdout",
     "output_type": "stream",
     "text": [
      "1\n"
     ]
    }
   ],
   "source": [
    "# Define a tuple\n",
    "colors = (\"red\", \"green\", \"blue\")\n",
    "\n",
    "# Use the index method to find the index of \"green\" in the tuple\n",
    "index = colors.index(\"green\")\n",
    "print(index) # Output: 1"
   ]
  },
  {
   "attachments": {},
   "cell_type": "markdown",
   "metadata": {},
   "source": [
    "# 3. LEN(TUPLE)"
   ]
  },
  {
   "cell_type": "code",
   "execution_count": 4,
   "metadata": {},
   "outputs": [
    {
     "name": "stdout",
     "output_type": "stream",
     "text": [
      "3\n"
     ]
    }
   ],
   "source": [
    "# Define a tuple\n",
    "fruits = (\"apple\", \"banana\", \"cherry\")\n",
    "\n",
    "# Use the len function to find the length of the tuple\n",
    "length = len(fruits)\n",
    "print(length) # Output: 3"
   ]
  },
  {
   "attachments": {},
   "cell_type": "markdown",
   "metadata": {},
   "source": [
    "# 4. MIN(TUPLE)"
   ]
  },
  {
   "cell_type": "code",
   "execution_count": 5,
   "metadata": {},
   "outputs": [
    {
     "name": "stdout",
     "output_type": "stream",
     "text": [
      "1\n"
     ]
    }
   ],
   "source": [
    "# Define a tuple\n",
    "numbers = (5, 2, 7, 9, 1)\n",
    "\n",
    "# Use the min function to find the smallest number in the tuple\n",
    "minimum = min(numbers)\n",
    "print(minimum) # Output: 1\n"
   ]
  },
  {
   "attachments": {},
   "cell_type": "markdown",
   "metadata": {},
   "source": [
    "# 5. MAX(TUPLE)"
   ]
  },
  {
   "cell_type": "code",
   "execution_count": 8,
   "metadata": {},
   "outputs": [
    {
     "name": "stdout",
     "output_type": "stream",
     "text": [
      "9\n"
     ]
    }
   ],
   "source": [
    "# Define a tuple\n",
    "numbers = (5, 2, 7, 9, 1)\n",
    "\n",
    "# Use the max function to find the largest number in the tuple\n",
    "maximum = max(numbers)\n",
    "print(maximum) # Output: 9"
   ]
  },
  {
   "attachments": {},
   "cell_type": "markdown",
   "metadata": {},
   "source": [
    "# 6. SUM(TUPLE)"
   ]
  },
  {
   "cell_type": "code",
   "execution_count": 6,
   "metadata": {},
   "outputs": [
    {
     "name": "stdout",
     "output_type": "stream",
     "text": [
      "15\n"
     ]
    }
   ],
   "source": [
    "# Define a tuple\n",
    "numbers = (1, 2, 3, 4, 5)\n",
    "\n",
    "# Use the sum function to find the sum of all numbers in the tuple\n",
    "total = sum(numbers)\n",
    "print(total) # Output: 15"
   ]
  },
  {
   "attachments": {},
   "cell_type": "markdown",
   "metadata": {},
   "source": [
    "# 7. SORTED(TUPLE)"
   ]
  },
  {
   "cell_type": "code",
   "execution_count": 7,
   "metadata": {},
   "outputs": [
    {
     "name": "stdout",
     "output_type": "stream",
     "text": [
      "[1, 2, 5, 7, 9]\n"
     ]
    }
   ],
   "source": [
    "# Define a tuple\n",
    "numbers = (5, 2, 7, 9, 1)\n",
    "\n",
    "# Use the sorted function to sort the numbers in the tuple\n",
    "sorted_numbers = sorted(numbers)\n",
    "print(sorted_numbers) # Output: [1, 2, 5, 7, 9]"
   ]
  },
  {
   "attachments": {},
   "cell_type": "markdown",
   "metadata": {},
   "source": [
    "# Tuple Practice\n",
    "\n",
    "There are other elements that can work with tuples, such as strings, booleans, and other data structures like lists and dictionaries."
   ]
  },
  {
   "cell_type": "code",
   "execution_count": 9,
   "metadata": {},
   "outputs": [
    {
     "name": "stdout",
     "output_type": "stream",
     "text": [
      "Name: John Doe\n",
      "Age: 32\n",
      "Hobbies: ['reading', 'traveling']\n",
      "Address: {'city': 'London', 'country': 'UK'}\n"
     ]
    }
   ],
   "source": [
    "# Define a tuple with various elements\n",
    "person = (\"John Doe\", 32, [\"reading\", \"traveling\"], {\"city\": \"London\", \"country\": \"UK\"})\n",
    "\n",
    "# Access elements by index\n",
    "name = person[0]\n",
    "age = person[1]\n",
    "hobbies = person[2]\n",
    "address = person[3]\n",
    "\n",
    "print(\"Name:\", name) # Output: Name: John Doe\n",
    "print(\"Age:\", age) # Output: Age: 32\n",
    "print(\"Hobbies:\", hobbies) # Output: Hobbies: ['reading', 'traveling']\n",
    "print(\"Address:\", address) # Output: Address: {'city': 'London', 'country': 'UK'}\n"
   ]
  }
 ],
 "metadata": {
  "kernelspec": {
   "display_name": "Python 3",
   "language": "python",
   "name": "python3"
  },
  "language_info": {
   "codemirror_mode": {
    "name": "ipython",
    "version": 3
   },
   "file_extension": ".py",
   "mimetype": "text/x-python",
   "name": "python",
   "nbconvert_exporter": "python",
   "pygments_lexer": "ipython3",
   "version": "3.11.1"
  },
  "orig_nbformat": 4,
  "vscode": {
   "interpreter": {
    "hash": "1f6a27bcfbe46a917dbd192f4a82657396dda26148bae633192e8d28c70725f1"
   }
  }
 },
 "nbformat": 4,
 "nbformat_minor": 2
}
