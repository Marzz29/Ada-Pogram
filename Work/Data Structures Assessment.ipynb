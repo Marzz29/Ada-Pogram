{
 "cells": [
  {
   "cell_type": "code",
   "execution_count": 35,
   "metadata": {},
   "outputs": [],
   "source": [
    "students = {             \n",
    "            'data':         \n",
    "                {'name': list(set(['Amaka disappoint', 'Nedu japan', 'Pretty cynthia', 'Nedu japan', 'Pretty cynthia', 'Pretty cynthia'])),\n",
    "                'scores': [45, 67, 87]},\n",
    "            'frontend': \n",
    "                {'name': list(set(('jon doe', 'john doe', 'john doe', 'jon bellion', 'jon bellion', 'john bellcat', 'jon doe'))),\n",
    "                'scores': [77, 92, 89, 98]},\n",
    "            'backend': \n",
    "                {'name': list(set({'ada ada', 'pyhon ezege', 'dog catcher', 'bitrus beetroot', 'doja cat', 'beja rat'})),\n",
    "                'scores': [81, 96, 88, 65, 90, 80]}\n",
    "                }\n",
    "\n",
    "# I can not comment beside it cause it is long\n",
    "# Created a variable called students which contains a dictionary\n",
    "# The first key in the variable is named data\n",
    "# The value for the data key is another dictionary which are the name and scores key\n",
    "# The value for the name key is a list of unique student names. This is because I converted it to a set.\n",
    "# The question asked us to convert it back to a list (Helped to keep the values ordered)\n",
    "# The values for the key scores are in a list so that they can correspond with the unique values of the names key\n",
    "# The second key in the students variable is frontend which also follows the same steps\n",
    "# The third key in the students variable is backend which also follows the same steps"
   ]
  },
  {
   "cell_type": "code",
   "execution_count": 38,
   "metadata": {},
   "outputs": [
    {
     "name": "stdout",
     "output_type": "stream",
     "text": [
      "The top students are: Pretty cynthia with score of 87 for data track , jon bellion with score of 98 for frontend track and doja cat with score of 96 for backend track\n"
     ]
    }
   ],
   "source": [
    "print('The top students are:', students['data']['name'][2], 'with score of', students['data']['scores'][2], 'for', list(students.keys())[0], 'track',\n",
    "        ',', students['frontend']['name'][3], 'with score of', students['frontend']['scores'][3], 'for', list(students.keys())[1], 'track',\n",
    "        'and', students['backend']['name'][1], 'with score of', students['backend']['scores'][1], 'for', list(students.keys())[2], 'track')\n",
    "        \n",
    "# The use of comma was really helpful in bringing this into fruition       \n",
    "# The top students information is obtained from the students variable (nested dictionary) by accessing the values of the name and scores keys\n",
    "# For getting the track of each student, the keys of the students variable are converted to a list and the indexing is used to access the required track information"
   ]
  }
 ],
 "metadata": {
  "kernelspec": {
   "display_name": "Python 3",
   "language": "python",
   "name": "python3"
  },
  "language_info": {
   "codemirror_mode": {
    "name": "ipython",
    "version": 3
   },
   "file_extension": ".py",
   "mimetype": "text/x-python",
   "name": "python",
   "nbconvert_exporter": "python",
   "pygments_lexer": "ipython3",
   "version": "3.11.1"
  },
  "orig_nbformat": 4,
  "vscode": {
   "interpreter": {
    "hash": "1f6a27bcfbe46a917dbd192f4a82657396dda26148bae633192e8d28c70725f1"
   }
  }
 },
 "nbformat": 4,
 "nbformat_minor": 2
}
