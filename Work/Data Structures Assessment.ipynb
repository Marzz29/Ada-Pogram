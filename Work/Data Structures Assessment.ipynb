{
 "cells": [
  {
   "cell_type": "code",
   "execution_count": 19,
   "metadata": {},
   "outputs": [],
   "source": [
    "students = {'frontend': \n",
    "                {'name': \n",
    "                    {'Amaka disappoint', 'Nedu japan', 'Pretty cynthia', 'Nedu japan', 'Pretty cynthia', 'Pretty cynthia'},\n",
    "                        'scores': [88, 98, 45]\n",
    "                },\n",
    "            'backend':\n",
    "                {'name':\n",
    "                    {'jon doe', 'john doe', 'john doe', 'jon bellion', 'jon bellion', 'john bellcat', 'jon doe'},\n",
    "                        'scores': [67, 99, 86, 33]\n",
    "                },\n",
    "            'data':\n",
    "                {'name':\n",
    "                    {'ada ada', 'pyhon ezege', 'dog catcher', 'bitrus beetroot', 'doja cat', 'beja rat'},\n",
    "                        'scores': [56, 76, 88, 93, 99, 100]\n",
    "                }\n",
    "                }\n",
    "            "
   ]
  },
  {
   "cell_type": "code",
   "execution_count": 15,
   "metadata": {},
   "outputs": [
    {
     "name": "stdout",
     "output_type": "stream",
     "text": [
      "{'frontend': {'name': {'Nedu japan', 'Pretty cynthia', 'Amaka disappoint'}, 'scores': [88, 98, 45]}, 'backend': {'name': {'john doe', 'jon bellion', 'john bellcat', 'jon doe'}, 'scores': [67, 99, 86, 33]}, 'data': {'name': {'beja rat', 'bitrus beetroot', 'doja cat', 'dog catcher', 'ada ada', 'pyhon ezege'}, 'scores': [56, 76, 88, 93, 99, 100]}}\n"
     ]
    }
   ],
   "source": [
    "print(students)"
   ]
  },
  {
   "cell_type": "code",
   "execution_count": null,
   "metadata": {},
   "outputs": [],
   "source": []
  }
 ],
 "metadata": {
  "kernelspec": {
   "display_name": "Python 3",
   "language": "python",
   "name": "python3"
  },
  "language_info": {
   "codemirror_mode": {
    "name": "ipython",
    "version": 3
   },
   "file_extension": ".py",
   "mimetype": "text/x-python",
   "name": "python",
   "nbconvert_exporter": "python",
   "pygments_lexer": "ipython3",
   "version": "3.11.1"
  },
  "orig_nbformat": 4,
  "vscode": {
   "interpreter": {
    "hash": "1f6a27bcfbe46a917dbd192f4a82657396dda26148bae633192e8d28c70725f1"
   }
  }
 },
 "nbformat": 4,
 "nbformat_minor": 2
}
