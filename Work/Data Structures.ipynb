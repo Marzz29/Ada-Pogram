{
 "cells": [
  {
   "cell_type": "markdown",
   "metadata": {},
   "source": [
    "# Lists\n",
    "\n",
    "Lists are used to store multiple items in a single variable.\n",
    "\n",
    "List items are ordered, changeable, and allow duplicate values.\n",
    "\n",
    "Lists are created using square brackets:\n",
    "\n",
    "List items are indexed, the first item has index [0], the second item has index [1] etc.\n",
    "\n",
    "When we say that lists are ordered, it means that the items have a defined order, and that order will not change.\n",
    "\n",
    "If you add new items to a list, the new items will be placed at the end of the list.\n",
    "\n",
    "The list is changeable, meaning that we can change, add, and remove items in a list after it has been created.\n",
    "\n",
    "Since lists are indexed, lists can have items with the same value:"
   ]
  },
  {
   "cell_type": "code",
   "execution_count": 3,
   "metadata": {},
   "outputs": [],
   "source": [
    "person = ['John Doe', 24, True, 99.9]\n",
    "people = [['John Doe', 24, True, 99.9], ['John Do', 24, True, 99.9], ['John Dee', 24, True, 99.9], 'John Die'] # nested list"
   ]
  },
  {
   "cell_type": "markdown",
   "metadata": {},
   "source": [
    "varibale naming conventins\n",
    "- start a letter\n",
    "- ensure readability\n",
    "- no spaces"
   ]
  },
  {
   "cell_type": "code",
   "execution_count": 115,
   "metadata": {},
   "outputs": [],
   "source": [
    "# readablility \n",
    "\n",
    "number = 100_000_000_000_000 \n",
    "my_phone_numbers = [90987654321, 8159979124, 8112345578]\n",
    "_myFriends_ = ['jesus', 'God', 'akeem']"
   ]
  },
  {
   "cell_type": "code",
   "execution_count": 60,
   "metadata": {},
   "outputs": [],
   "source": [
    "shoppingList = ['bean', 'crayfish', 'pepper', 'maggi'] # first - bean, second - cf"
   ]
  },
  {
   "cell_type": "markdown",
   "metadata": {},
   "source": [
    "## Accessing list items\n",
    "- indexing"
   ]
  },
  {
   "cell_type": "code",
   "execution_count": 16,
   "metadata": {},
   "outputs": [
    {
     "data": {
      "text/plain": [
       "'bean'"
      ]
     },
     "execution_count": 16,
     "metadata": {},
     "output_type": "execute_result"
    }
   ],
   "source": [
    "# index the first list element = bean\n",
    "# 'bean'(1), 'crayfish'(2), 'pepper'(3), 'maggi'(4)\n",
    "# use list var to locate desired item\n",
    "\n",
    "# shoppingList index 1 []\n",
    "\n",
    "shoppingList[0] # zero-based indexing\n",
    "\n",
    "# list variable\n",
    "# indexing []\n",
    "# index of desired item"
   ]
  },
  {
   "cell_type": "code",
   "execution_count": 19,
   "metadata": {},
   "outputs": [
    {
     "data": {
      "text/plain": [
       "['crayfish', 'pepper']"
      ]
     },
     "execution_count": 19,
     "metadata": {},
     "output_type": "execute_result"
    }
   ],
   "source": [
    "a = shoppingList[1:3] # subsetting/slicing, step-size\n"
   ]
  },
  {
   "cell_type": "code",
   "execution_count": 23,
   "metadata": {},
   "outputs": [
    {
     "data": {
      "text/plain": [
       "('bean', 'maggi')"
      ]
     },
     "execution_count": 23,
     "metadata": {},
     "output_type": "execute_result"
    }
   ],
   "source": [
    "t = shoppingList[0], shoppingList[3] "
   ]
  },
  {
   "cell_type": "code",
   "execution_count": 24,
   "metadata": {},
   "outputs": [
    {
     "data": {
      "text/plain": [
       "'maggi'"
      ]
     },
     "execution_count": 24,
     "metadata": {},
     "output_type": "execute_result"
    }
   ],
   "source": [
    "shoppingList[-1]"
   ]
  },
  {
   "cell_type": "code",
   "execution_count": 30,
   "metadata": {},
   "outputs": [
    {
     "data": {
      "text/plain": [
       "['crayfish', 'pepper', 'maggi']"
      ]
     },
     "execution_count": 30,
     "metadata": {},
     "output_type": "execute_result"
    }
   ],
   "source": [
    "shoppingList[-3:]"
   ]
  },
  {
   "cell_type": "markdown",
   "metadata": {},
   "source": [
    "## Changing list items\n",
    "- indexing\n",
    "- reassignment"
   ]
  },
  {
   "cell_type": "code",
   "execution_count": 61,
   "metadata": {},
   "outputs": [],
   "source": [
    "shoppingList[0] = 'rice'\n",
    "shoppingList[2] = 'tomatoes'"
   ]
  },
  {
   "cell_type": "code",
   "execution_count": 48,
   "metadata": {},
   "outputs": [
    {
     "data": {
      "text/plain": [
       "['rice', 'crayfish', 'tomatoes', 'maggi']"
      ]
     },
     "execution_count": 48,
     "metadata": {},
     "output_type": "execute_result"
    }
   ],
   "source": [
    "shoppingList"
   ]
  },
  {
   "cell_type": "markdown",
   "metadata": {},
   "source": [
    "## Adding list items\n",
    "- append()\n",
    "- insert()\n",
    "- extend()"
   ]
  },
  {
   "cell_type": "code",
   "execution_count": null,
   "metadata": {},
   "outputs": [],
   "source": [
    "shoppingList.append('pepper')\n",
    "shoppingList"
   ]
  },
  {
   "cell_type": "code",
   "execution_count": 63,
   "metadata": {},
   "outputs": [
    {
     "data": {
      "text/plain": [
       "['rice', 'tomatoes', 'meat', 'crayfish', 'tomatoes', 'maggi', 'pepper']"
      ]
     },
     "execution_count": 63,
     "metadata": {},
     "output_type": "execute_result"
    }
   ],
   "source": [
    "shoppingList.insert(1, 'tomatoes')\n",
    "shoppingList.insert(2, 'meat')\n",
    "shoppingList"
   ]
  },
  {
   "cell_type": "code",
   "execution_count": 64,
   "metadata": {},
   "outputs": [
    {
     "data": {
      "text/plain": [
       "['rice',\n",
       " 'tomatoes',\n",
       " 'meat',\n",
       " 'crayfish',\n",
       " 'tomatoes',\n",
       " 'maggi',\n",
       " 'pepper',\n",
       " 'cabbage',\n",
       " 'mayo']"
      ]
     },
     "execution_count": 64,
     "metadata": {},
     "output_type": "execute_result"
    }
   ],
   "source": [
    "shoppingList.extend(['cabbage', 'mayo'])\n",
    "shoppingList"
   ]
  },
  {
   "cell_type": "code",
   "execution_count": 72,
   "metadata": {},
   "outputs": [
    {
     "data": {
      "text/plain": [
       "['rice',\n",
       " 'tomatoes',\n",
       " 'meat',\n",
       " 'crayfish',\n",
       " 'tomatoes',\n",
       " 'maggi',\n",
       " 'pepper',\n",
       " 'cabbage',\n",
       " 'mayo',\n",
       " 'cabbage',\n",
       " 'mayo']"
      ]
     },
     "execution_count": 72,
     "metadata": {},
     "output_type": "execute_result"
    }
   ],
   "source": [
    "tempList = shoppingList.copy()\n",
    "tempList.extend({'cabbage':1, 'mayo':2}) # could also be a tuple\n",
    "tempList"
   ]
  },
  {
   "cell_type": "markdown",
   "metadata": {},
   "source": [
    "## Removing list items\n",
    "- .remove()\n",
    "- .pop()\n",
    "- del\n",
    "- .clear()"
   ]
  },
  {
   "cell_type": "code",
   "execution_count": 73,
   "metadata": {},
   "outputs": [
    {
     "data": {
      "text/plain": [
       "['rice',\n",
       " 'meat',\n",
       " 'crayfish',\n",
       " 'tomatoes',\n",
       " 'maggi',\n",
       " 'pepper',\n",
       " 'cabbage',\n",
       " 'mayo',\n",
       " 'cabbage',\n",
       " 'mayo']"
      ]
     },
     "execution_count": 73,
     "metadata": {},
     "output_type": "execute_result"
    }
   ],
   "source": [
    "tempList.remove('tomatoes')\n",
    "tempList"
   ]
  },
  {
   "cell_type": "code",
   "execution_count": 75,
   "metadata": {},
   "outputs": [
    {
     "data": {
      "text/plain": [
       "['rice',\n",
       " 'meat',\n",
       " 'crayfish',\n",
       " 'tomatoes',\n",
       " 'maggi',\n",
       " 'pepper',\n",
       " 'cabbage',\n",
       " 'cabbage']"
      ]
     },
     "execution_count": 75,
     "metadata": {},
     "output_type": "execute_result"
    }
   ],
   "source": [
    "tempList.pop() # could pass index as arg\n",
    "tempList"
   ]
  },
  {
   "cell_type": "code",
   "execution_count": 77,
   "metadata": {},
   "outputs": [
    {
     "ename": "NameError",
     "evalue": "name 'tempList' is not defined",
     "output_type": "error",
     "traceback": [
      "\u001b[0;31m---------------------------------------------------------------------------\u001b[0m",
      "\u001b[0;31mNameError\u001b[0m                                 Traceback (most recent call last)",
      "\u001b[0;32m<ipython-input-77-add3233397eb>\u001b[0m in \u001b[0;36m<module>\u001b[0;34m\u001b[0m\n\u001b[1;32m      1\u001b[0m \u001b[0;32mdel\u001b[0m \u001b[0mtempList\u001b[0m\u001b[0;34m\u001b[0m\u001b[0;34m\u001b[0m\u001b[0m\n\u001b[0;32m----> 2\u001b[0;31m \u001b[0mtempList\u001b[0m\u001b[0;34m\u001b[0m\u001b[0;34m\u001b[0m\u001b[0m\n\u001b[0m",
      "\u001b[0;31mNameError\u001b[0m: name 'tempList' is not defined"
     ]
    }
   ],
   "source": [
    "del tempList\n",
    "tempList"
   ]
  },
  {
   "cell_type": "code",
   "execution_count": 78,
   "metadata": {},
   "outputs": [
    {
     "data": {
      "text/plain": [
       "[]"
      ]
     },
     "execution_count": 78,
     "metadata": {},
     "output_type": "execute_result"
    }
   ],
   "source": [
    "tempList = shoppingList.copy()\n",
    "tempList.clear()\n",
    "tempList"
   ]
  },
  {
   "cell_type": "markdown",
   "metadata": {},
   "source": [
    "## Sort lists\n",
    "- .sort()\n",
    "- .reverse()"
   ]
  },
  {
   "cell_type": "code",
   "execution_count": 86,
   "metadata": {},
   "outputs": [
    {
     "name": "stdout",
     "output_type": "stream",
     "text": [
      "None\n"
     ]
    },
    {
     "data": {
      "text/plain": [
       "[8112345578, 8159979124, 90987654321]"
      ]
     },
     "execution_count": 86,
     "metadata": {},
     "output_type": "execute_result"
    }
   ],
   "source": [
    "print(my_phone_numbers.sort())\n",
    "my_phone_numbers"
   ]
  },
  {
   "cell_type": "code",
   "execution_count": 87,
   "metadata": {},
   "outputs": [
    {
     "data": {
      "text/plain": [
       "['cabbage',\n",
       " 'crayfish',\n",
       " 'maggi',\n",
       " 'mayo',\n",
       " 'meat',\n",
       " 'pepper',\n",
       " 'rice',\n",
       " 'tomatoes',\n",
       " 'tomatoes']"
      ]
     },
     "execution_count": 87,
     "metadata": {},
     "output_type": "execute_result"
    }
   ],
   "source": [
    "shoppingList"
   ]
  },
  {
   "cell_type": "code",
   "execution_count": 88,
   "metadata": {},
   "outputs": [
    {
     "data": {
      "text/plain": [
       "[90987654321, 8159979124, 8112345578]"
      ]
     },
     "execution_count": 88,
     "metadata": {},
     "output_type": "execute_result"
    }
   ],
   "source": [
    "my_phone_numbers.reverse()\n",
    "my_phone_numbers"
   ]
  },
  {
   "cell_type": "code",
   "execution_count": 89,
   "metadata": {},
   "outputs": [
    {
     "data": {
      "text/plain": [
       "['tomatoes',\n",
       " 'tomatoes',\n",
       " 'rice',\n",
       " 'pepper',\n",
       " 'meat',\n",
       " 'mayo',\n",
       " 'maggi',\n",
       " 'crayfish',\n",
       " 'cabbage']"
      ]
     },
     "execution_count": 89,
     "metadata": {},
     "output_type": "execute_result"
    }
   ],
   "source": [
    "shoppingList.reverse()\n",
    "shoppingList"
   ]
  },
  {
   "cell_type": "markdown",
   "metadata": {},
   "source": [
    "## Copy lists\n",
    "- .copy()\n",
    "- list()"
   ]
  },
  {
   "cell_type": "code",
   "execution_count": 79,
   "metadata": {},
   "outputs": [
    {
     "data": {
      "text/plain": [
       "['rice',\n",
       " 'tomatoes',\n",
       " 'meat',\n",
       " 'crayfish',\n",
       " 'tomatoes',\n",
       " 'maggi',\n",
       " 'pepper',\n",
       " 'cabbage',\n",
       " 'mayo']"
      ]
     },
     "execution_count": 79,
     "metadata": {},
     "output_type": "execute_result"
    }
   ],
   "source": [
    "tempList = list(shoppingList) # same as using .copy method\n",
    "tempList"
   ]
  },
  {
   "cell_type": "markdown",
   "metadata": {},
   "source": [
    "## Join lists\n",
    "- addition\n",
    "- append()"
   ]
  },
  {
   "cell_type": "code",
   "execution_count": 116,
   "metadata": {},
   "outputs": [
    {
     "data": {
      "text/plain": [
       "[90987654321,\n",
       " 8159979124,\n",
       " 8112345578,\n",
       " 'tomatoes',\n",
       " 'tomatoes',\n",
       " 'rice',\n",
       " 'pepper',\n",
       " 'meat',\n",
       " 'mayo',\n",
       " 'maggi',\n",
       " 'crayfish',\n",
       " 'cabbage']"
      ]
     },
     "execution_count": 116,
     "metadata": {},
     "output_type": "execute_result"
    }
   ],
   "source": [
    "demoList = my_phone_numbers + shoppingList\n",
    "demoList"
   ]
  },
  {
   "cell_type": "code",
   "execution_count": 117,
   "metadata": {},
   "outputs": [
    {
     "data": {
      "text/plain": [
       "9"
      ]
     },
     "execution_count": 117,
     "metadata": {},
     "output_type": "execute_result"
    }
   ],
   "source": [
    "# len()\n",
    "len(shoppingList)"
   ]
  },
  {
   "cell_type": "code",
   "execution_count": 124,
   "metadata": {},
   "outputs": [
    {
     "data": {
      "text/plain": [
       "2"
      ]
     },
     "execution_count": 124,
     "metadata": {},
     "output_type": "execute_result"
    }
   ],
   "source": [
    "shoppingList.count(shoppingList[0])"
   ]
  },
  {
   "cell_type": "markdown",
   "metadata": {},
   "source": [
    "## List methods\n",
    "- append()\n",
    "- clear()\t\n",
    "- copy()\t\n",
    "- count()\t\n",
    "- extend()\t\n",
    "- index()\t\n",
    "- insert()\t\n",
    "- pop()\t\n",
    "- remove()\t\n",
    "- reverse()\t\n",
    "- sort()\n",
    "\n",
    "## TBD\n",
    "- Looping lists\n",
    "- List comprehension"
   ]
  },
  {
   "cell_type": "markdown",
   "metadata": {},
   "source": [
    "# Tuples\n",
    "\n",
    "Tuples are used to store multiple items in a single variable.\n",
    "\n",
    "A tuple is a collection which is ordered and unchangeable.\n",
    "\n",
    "Tuples are written with round brackets.\n",
    "\n",
    "Tuple items are ordered, unchangeable, and allow duplicate values.\n",
    "\n",
    "Tuple items are indexed, the first item has index [0], the second item has index [1] etc.\n",
    "\n",
    "Tuples have a defined order, and that order will not change.\n",
    "\n",
    "Tuples are unchangeable, meaning that we cannot change, add or remove items after the tuple has been created.\n",
    "\n",
    "Since tuples are indexed, they can have items with the same value:"
   ]
  },
  {
   "cell_type": "code",
   "execution_count": null,
   "metadata": {},
   "outputs": [],
   "source": [
    "mastiffDogs = (\"Boerboels\", \"Bull Mastiff\", \"Tibetan Mastiff\", \"Boerboels\", \"Neapolitan Mastiff\")\n",
    "all_dogs = (('GSD', 'Dobberman'), ('Pitbull', 'Cane corso'), ('Boerboel'))"
   ]
  },
  {
   "cell_type": "markdown",
   "metadata": {},
   "source": [
    "## Accessing tuples\n",
    "- indexing"
   ]
  },
  {
   "cell_type": "markdown",
   "metadata": {},
   "source": [
    "## Updating tuples\n",
    "- indexing\n",
    "- reassignment \n",
    "- unpacking "
   ]
  },
  {
   "cell_type": "markdown",
   "metadata": {},
   "source": [
    "## Tuple methods\n",
    "- count()\n",
    "- index()\n",
    "\n",
    "## TBD\n",
    "- Looping tuples\n",
    "- Joining tuples"
   ]
  },
  {
   "cell_type": "code",
   "execution_count": 141,
   "metadata": {},
   "outputs": [
    {
     "name": "stdout",
     "output_type": "stream",
     "text": [
      "ball\n",
      "second ball\n",
      "third ball\n"
     ]
    }
   ],
   "source": [
    "toys = ('ball', 'second ball', 'third ball') # packing\n",
    "\n",
    "(red, blue, green) = toys # unpaking\n",
    "\n",
    "print(red)\n",
    "print(blue)\n",
    "print(green)"
   ]
  },
  {
   "cell_type": "code",
   "execution_count": 144,
   "metadata": {},
   "outputs": [
    {
     "data": {
      "text/plain": [
       "1"
      ]
     },
     "execution_count": 144,
     "metadata": {},
     "output_type": "execute_result"
    }
   ],
   "source": [
    "food = (1,2)\n",
    "food[0]"
   ]
  },
  {
   "cell_type": "code",
   "execution_count": 142,
   "metadata": {},
   "outputs": [
    {
     "data": {
      "text/plain": [
       "[1, 2]"
      ]
     },
     "execution_count": 142,
     "metadata": {},
     "output_type": "execute_result"
    }
   ],
   "source": [
    "t = (1, 2)\n",
    "l = list(t)\n",
    "l"
   ]
  },
  {
   "cell_type": "code",
   "execution_count": 143,
   "metadata": {},
   "outputs": [
    {
     "data": {
      "text/plain": [
       "(1, 2)"
      ]
     },
     "execution_count": 143,
     "metadata": {},
     "output_type": "execute_result"
    }
   ],
   "source": [
    "t = tuple(l)\n",
    "t"
   ]
  },
  {
   "cell_type": "markdown",
   "metadata": {},
   "source": [
    "# Sets\n",
    "\n",
    "Sets are used to store multiple items in a single variable.\n",
    "\n",
    "A set is a collection which is unordered, unchangeable*, and unindexed.\n",
    "\n",
    "Sets are written with curly brackets.\n",
    "\n",
    "Set items are unordered, unchangeable, and do not allow duplicate values.\n",
    "\n",
    "Unordered means that the items in a set do not have a defined order.\n",
    "\n",
    "Set items can appear in a different order every time you use them, and cannot be referred to by index or key.\n",
    "\n",
    "Set items are unchangeable, meaning that we cannot change the items after the set has been created.\n",
    "\n",
    "Sets cannot have two items with the same value."
   ]
  },
  {
   "cell_type": "code",
   "execution_count": null,
   "metadata": {},
   "outputs": [],
   "source": [
    "_math = {'protactor', 'protactor', 'compass', 'divider', 'ruler', 'set-square'}"
   ]
  },
  {
   "cell_type": "markdown",
   "metadata": {},
   "source": [
    "## Accessing sets\n",
    "- in statement"
   ]
  },
  {
   "cell_type": "markdown",
   "metadata": {},
   "source": [
    "## Updating sets\n",
    "- .add()\n",
    "- .update()\n",
    "- .remove()\n",
    "- .discard()\n",
    "- .pop()\n",
    "- .clear()\n",
    "- del"
   ]
  },
  {
   "cell_type": "markdown",
   "metadata": {},
   "source": [
    "## Set methods\n",
    "- add()\t\n",
    "- clear()\t\n",
    "- copy()\t\n",
    "- difference()\n",
    "- difference_update()\t\n",
    "- discard()\t\n",
    "- intersection()\t\n",
    "- intersection_update()\t\n",
    "- isdisjoint()\n",
    "- issubset()\t\n",
    "- issuperset()\n",
    "- pop()\t\n",
    "- remove()\t\n",
    "- symmetric_difference()\n",
    "- symmetric_difference_update()\t\n",
    "- union()\n",
    "- update()\n",
    "\n",
    "## TBD\n",
    "- Looping sets\n",
    "- Joining sets"
   ]
  },
  {
   "cell_type": "markdown",
   "metadata": {},
   "source": [
    "# Dictionaries\n",
    "\n",
    "Dictionaries are used to store data values in key:value pairs.\n",
    "\n",
    "A dictionary is a collection which is ordered*, changeable and do not allow duplicates.\n",
    "\n",
    "Dictionaries are written with curly brackets, and have keys and values:\n",
    "\n",
    "Dictionary items are ordered, changeable, and does not allow duplicates.\n",
    "\n",
    "Dictionary items are presented in key:value pairs, and can be referred to by using the key name.\n",
    "\n",
    "When we say that dictionaries are ordered, it means that the items have a defined order, and that order will not change.\n",
    "\n",
    "Unordered means that the items does not have a defined order, you cannot refer to an item by using an index.\n",
    "\n",
    "Dictionaries are changeable, meaning that we can change, add or remove items after the dictionary has been created.\n",
    "\n",
    "Dictionaries cannot have two items with the same key:"
   ]
  },
  {
   "cell_type": "code",
   "execution_count": null,
   "metadata": {},
   "outputs": [],
   "source": [
    "elements = {\"hydrogen\": 1, \"helium\": 2, \"carbon\": 6}\n",
    "\n",
    "gases = {\"hydrogen\": {\"number\": 1,\n",
    "                         \"weight\": 1.00794,\n",
    "                         \"symbol\": \"H\"},\n",
    "              \"helium\": {\"number\": 2,\n",
    "                         \"weight\": 4.002602,\n",
    "                         \"symbol\": \"He\"}}\n",
    "\n",
    "gender = {\n",
    "    'male':['Boy', 'Man', 'XY'],\n",
    "    'female':['Girl', 'Woman', 'YY']\n",
    "}"
   ]
  },
  {
   "cell_type": "markdown",
   "metadata": {},
   "source": [
    "## Accessing itmms\n",
    "- indexing\n",
    "- .get()\n",
    "- .keys()\n",
    "- .values()\n",
    "- .items()"
   ]
  },
  {
   "cell_type": "markdown",
   "metadata": {},
   "source": [
    "## Updating items\n",
    "- indexing\n",
    "- .update()\n",
    "- .pop()\n",
    "- .popitem()\n",
    "- del\n",
    "- .clear()"
   ]
  },
  {
   "cell_type": "markdown",
   "metadata": {},
   "source": [
    "## Dictionary methods\n",
    "- clear()\t\n",
    "- copy()\n",
    "- fromkeys()\n",
    "- get()\t\n",
    "- items()\n",
    "- keys()\t\n",
    "- pop()\t\n",
    "- popitem()\n",
    "- setdefault()\n",
    "- update()\n",
    "- values()"
   ]
  }
 ],
 "metadata": {
  "interpreter": {
   "hash": "40d3a090f54c6569ab1632332b64b2c03c39dcf918b08424e98f38b5ae0af88f"
  },
  "kernelspec": {
   "display_name": "Python 3.8.8 ('base')",
   "language": "python",
   "name": "python3"
  },
  "language_info": {
   "codemirror_mode": {
    "name": "ipython",
    "version": 3
   },
   "file_extension": ".py",
   "mimetype": "text/x-python",
   "name": "python",
   "nbconvert_exporter": "python",
   "pygments_lexer": "ipython3",
   "version": "3.8.8"
  }
 },
 "nbformat": 4,
 "nbformat_minor": 0
}
