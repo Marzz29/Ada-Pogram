{
 "cells": [
  {
   "cell_type": "code",
   "execution_count": 38,
   "id": "13a9d4c1",
   "metadata": {},
   "outputs": [
    {
     "name": "stdout",
     "output_type": "stream",
     "text": [
      "b\n"
     ]
    }
   ],
   "source": [
    "a = 'b'\n",
    "print (a)"
   ]
  },
  {
   "cell_type": "markdown",
   "id": "c1b71c94",
   "metadata": {},
   "source": [
    "Variables (Strings, Boolean and Numbers)"
   ]
  },
  {
   "cell_type": "code",
   "execution_count": 1,
   "id": "b0d3a58a",
   "metadata": {},
   "outputs": [
    {
     "name": "stdout",
     "output_type": "stream",
     "text": [
      "20\n"
     ]
    }
   ],
   "source": [
    "a,b,c,d = (10,20,30,40)\n",
    "print(b)\n",
    "\n"
   ]
  },
  {
   "cell_type": "code",
   "execution_count": 4,
   "id": "224410e8",
   "metadata": {},
   "outputs": [],
   "source": [
    "a = 90\n",
    "b = 0.99\n",
    "c = 'Cringe'"
   ]
  },
  {
   "cell_type": "code",
   "execution_count": 6,
   "id": "def642a4",
   "metadata": {},
   "outputs": [
    {
     "data": {
      "text/plain": [
       "int"
      ]
     },
     "execution_count": 6,
     "metadata": {},
     "output_type": "execute_result"
    }
   ],
   "source": [
    "type (a)"
   ]
  },
  {
   "cell_type": "code",
   "execution_count": 7,
   "id": "3ab95c28",
   "metadata": {},
   "outputs": [
    {
     "data": {
      "text/plain": [
       "0"
      ]
     },
     "execution_count": 7,
     "metadata": {},
     "output_type": "execute_result"
    }
   ],
   "source": [
    "int(0.99)"
   ]
  },
  {
   "cell_type": "code",
   "execution_count": 8,
   "id": "0f7b0abe",
   "metadata": {},
   "outputs": [
    {
     "data": {
      "text/plain": [
       "90.0"
      ]
     },
     "execution_count": 8,
     "metadata": {},
     "output_type": "execute_result"
    }
   ],
   "source": [
    "float(a)"
   ]
  },
  {
   "cell_type": "code",
   "execution_count": 9,
   "id": "1e9ae310",
   "metadata": {},
   "outputs": [],
   "source": [
    "d= True"
   ]
  },
  {
   "cell_type": "code",
   "execution_count": 11,
   "id": "f5066e6c",
   "metadata": {},
   "outputs": [
    {
     "data": {
      "text/plain": [
       "bool"
      ]
     },
     "execution_count": 11,
     "metadata": {},
     "output_type": "execute_result"
    }
   ],
   "source": [
    "type(d)"
   ]
  },
  {
   "cell_type": "code",
   "execution_count": 12,
   "id": "bc1edff8",
   "metadata": {},
   "outputs": [
    {
     "name": "stdout",
     "output_type": "stream",
     "text": [
      "100 days\n"
     ]
    }
   ],
   "source": [
    "#how to print two variables on one line\n",
    "m = 100\n",
    "print(m ,'days')"
   ]
  },
  {
   "cell_type": "code",
   "execution_count": 17,
   "id": "f169727c",
   "metadata": {},
   "outputs": [
    {
     "data": {
      "text/plain": [
       "'100 days'"
      ]
     },
     "execution_count": 17,
     "metadata": {},
     "output_type": "execute_result"
    }
   ],
   "source": [
    "#To run without using the print function, you have to change the variable to a string. \n",
    "#It is just that it would print it with quotations.\n",
    "str(m)+ ' days'\n"
   ]
  },
  {
   "cell_type": "code",
   "execution_count": 16,
   "id": "d143989f",
   "metadata": {},
   "outputs": [],
   "source": [
    "#print must have a bracket after ()\n",
    "#A string must be in quotation marks\n",
    "#Types of variables: Strings,Numbers(Integers and Floats),Boolean\n",
    "#Boolean first letter must be capital if not it would result in an error"
   ]
  },
  {
   "cell_type": "markdown",
   "id": "77315c35",
   "metadata": {},
   "source": [
    "Arithmetic Operators"
   ]
  },
  {
   "cell_type": "code",
   "execution_count": 19,
   "id": "50dca750",
   "metadata": {},
   "outputs": [
    {
     "data": {
      "text/plain": [
       "(3, 1)"
      ]
     },
     "execution_count": 19,
     "metadata": {},
     "output_type": "execute_result"
    }
   ],
   "source": [
    "1 + 2, 2-1"
   ]
  },
  {
   "cell_type": "code",
   "execution_count": 20,
   "id": "0e10ecd3",
   "metadata": {},
   "outputs": [
    {
     "data": {
      "text/plain": [
       "(5.333333333333333, 5.0)"
      ]
     },
     "execution_count": 20,
     "metadata": {},
     "output_type": "execute_result"
    }
   ],
   "source": [
    "16/3, 15/3"
   ]
  },
  {
   "cell_type": "code",
   "execution_count": 21,
   "id": "94e9cfb6",
   "metadata": {},
   "outputs": [
    {
     "data": {
      "text/plain": [
       "1"
      ]
     },
     "execution_count": 21,
     "metadata": {},
     "output_type": "execute_result"
    }
   ],
   "source": [
    "# To obtain the remainder, you use the percentage sign %\n",
    "16 % 3"
   ]
  },
  {
   "cell_type": "code",
   "execution_count": 22,
   "id": "af2a69c5",
   "metadata": {
    "scrolled": true
   },
   "outputs": [
    {
     "data": {
      "text/plain": [
       "15"
      ]
     },
     "execution_count": 22,
     "metadata": {},
     "output_type": "execute_result"
    }
   ],
   "source": [
    "5*3"
   ]
  },
  {
   "cell_type": "code",
   "execution_count": 23,
   "id": "85443442",
   "metadata": {},
   "outputs": [],
   "source": [
    "#You can also assign arithmetic operators to variables\n",
    "x = 5*5"
   ]
  },
  {
   "cell_type": "code",
   "execution_count": 24,
   "id": "6273bfed",
   "metadata": {
    "scrolled": true
   },
   "outputs": [
    {
     "name": "stdout",
     "output_type": "stream",
     "text": [
      "25\n"
     ]
    }
   ],
   "source": [
    "print (x)"
   ]
  },
  {
   "cell_type": "code",
   "execution_count": 25,
   "id": "cad238b4",
   "metadata": {},
   "outputs": [
    {
     "data": {
      "text/plain": [
       "25"
      ]
     },
     "execution_count": 25,
     "metadata": {},
     "output_type": "execute_result"
    }
   ],
   "source": [
    "#To calculate a number to the power of another, you use the double star operator\n",
    "5**2"
   ]
  },
  {
   "cell_type": "markdown",
   "id": "b53e56d3",
   "metadata": {},
   "source": [
    "How to find the position of a string variable"
   ]
  },
  {
   "cell_type": "code",
   "execution_count": 28,
   "id": "ac14cfd7",
   "metadata": {},
   "outputs": [
    {
     "name": "stdout",
     "output_type": "stream",
     "text": [
      "d\n"
     ]
    }
   ],
   "source": [
    "print('Friday'[3])"
   ]
  },
  {
   "cell_type": "markdown",
   "id": "9d63f0a5",
   "metadata": {},
   "source": [
    "IF statements"
   ]
  },
  {
   "cell_type": "code",
   "execution_count": 2,
   "id": "6d95d2b3",
   "metadata": {},
   "outputs": [
    {
     "name": "stdout",
     "output_type": "stream",
     "text": [
      "Hooray!\n"
     ]
    }
   ],
   "source": [
    "if 5 == 15/3:\n",
    "    print('Hooray!')"
   ]
  },
  {
   "cell_type": "code",
   "execution_count": 4,
   "id": "461b8b9f",
   "metadata": {},
   "outputs": [],
   "source": [
    "if 5 == 18/3:\n",
    "    print('Hooray!')\n",
    "#The code won't run because it has not been told what to do if it does not equal it. \n",
    "#This is where IF ELSE comes to play\n",
    "#You can also use other comparison operators in the IF statement"
   ]
  },
  {
   "cell_type": "code",
   "execution_count": 6,
   "id": "5b0c3eb1",
   "metadata": {},
   "outputs": [
    {
     "name": "stdout",
     "output_type": "stream",
     "text": [
      "No\n"
     ]
    }
   ],
   "source": [
    "x = 1\n",
    "if x > 3:\n",
    "    print('Yes')\n",
    "else:\n",
    "    print('No')"
   ]
  },
  {
   "cell_type": "markdown",
   "id": "9b723d53",
   "metadata": {},
   "source": [
    "**Functions**"
   ]
  },
  {
   "cell_type": "code",
   "execution_count": 4,
   "id": "6a9dfef3",
   "metadata": {},
   "outputs": [
    {
     "data": {
      "text/plain": [
       "10"
      ]
     },
     "execution_count": 4,
     "metadata": {},
     "output_type": "execute_result"
    }
   ],
   "source": [
    "def addition(x,y,z):\n",
    "    c = (x + y + z)\n",
    "    return (c)\n",
    "\n",
    "addition(2,3,5)"
   ]
  },
  {
   "cell_type": "code",
   "execution_count": 39,
   "id": "a96ba190",
   "metadata": {},
   "outputs": [
    {
     "data": {
      "text/plain": [
       "20.6"
      ]
     },
     "execution_count": 39,
     "metadata": {},
     "output_type": "execute_result"
    }
   ],
   "source": [
    "addition(5.6,7,8)"
   ]
  },
  {
   "cell_type": "code",
   "execution_count": 8,
   "id": "63979820",
   "metadata": {},
   "outputs": [
    {
     "name": "stdout",
     "output_type": "stream",
     "text": [
      "0\n",
      "2\n",
      "4\n",
      "6\n",
      "8\n"
     ]
    }
   ],
   "source": [
    "#While loop\n",
    "\n",
    "i = 0\n",
    "while i < 10:\n",
    "    print (i)\n",
    "    i += 2  "
   ]
  },
  {
   "cell_type": "code",
   "execution_count": 2,
   "id": "b169b0ca",
   "metadata": {},
   "outputs": [
    {
     "name": "stdout",
     "output_type": "stream",
     "text": [
      "first item: 1\n"
     ]
    }
   ],
   "source": [
    "mylist = [1, 2, 3]\n",
    "#To print the first value in the list,\n",
    "print ('first item:', mylist [0])"
   ]
  },
  {
   "cell_type": "code",
   "execution_count": null,
   "id": "387ddde8",
   "metadata": {},
   "outputs": [],
   "source": [
    "#Array"
   ]
  },
  {
   "cell_type": "code",
   "execution_count": 7,
   "id": "c8d74026",
   "metadata": {},
   "outputs": [
    {
     "data": {
      "image/png": "[encoded data removed]",
      "text/plain": [
       "<Figure size 432x288 with 1 Axes>"
      ]
     },
     "metadata": {
      "needs_background": "light"
     },
     "output_type": "display_data"
    }
   ],
   "source": [
    "import matplotlib.pyplot as plt #import the library used for plotting\n",
    "import numpy as np\n",
    "myarray1 = np.array([1, 2, 3]) \n",
    "myarray2 = np.array([4 ,5, 6])\n",
    "\n",
    "plt.plot(myarray1,myarray2)\n",
    "plt.xlabel('myarray1')\n",
    "plt.ylabel('myarray2')\n",
    "plt.title('My linear Graph')\n",
    "plt.show()"
   ]
  },
  {
   "cell_type": "code",
   "execution_count": 8,
   "id": "e87bdbab",
   "metadata": {},
   "outputs": [
    {
     "data": {
      "image/png": "[encoded data removed]",
      "text/plain": [
       "<Figure size 432x288 with 1 Axes>"
      ]
     },
     "metadata": {
      "needs_background": "light"
     },
     "output_type": "display_data"
    }
   ],
   "source": [
    "import matplotlib.pyplot as plt #import the library used for plotting\n",
    "import numpy as np\n",
    "myarray1 = np.array([1, 2, 3]) \n",
    "myarray2 = np.array([4 ,5, 6])\n",
    "\n",
    "plt.scatter(myarray1,myarray2)\n",
    "plt.xlabel('myarray1')\n",
    "plt.ylabel('myarray2')\n",
    "plt.title('My linear Graph')\n",
    "plt.show()"
   ]
  },
  {
   "cell_type": "code",
   "execution_count": 9,
   "id": "bcd6ef88",
   "metadata": {},
   "outputs": [
    {
     "data": {
      "text/html": [
       "<div>\n",
       "<style scoped>\n",
       "    .dataframe tbody tr th:only-of-type {\n",
       "        vertical-align: middle;\n",
       "    }\n",
       "\n",
       "    .dataframe tbody tr th {\n",
       "        vertical-align: top;\n",
       "    }\n",
       "\n",
       "    .dataframe thead th {\n",
       "        text-align: right;\n",
       "    }\n",
       "</style>\n",
       "<table border=\"1\" class=\"dataframe\">\n",
       "  <thead>\n",
       "    <tr style=\"text-align: right;\">\n",
       "      <th></th>\n",
       "      <th>ID</th>\n",
       "      <th>Marital Status</th>\n",
       "      <th>Gender</th>\n",
       "      <th>Income</th>\n",
       "      <th>Children</th>\n",
       "      <th>Education</th>\n",
       "      <th>Occupation</th>\n",
       "      <th>Home Owner</th>\n",
       "      <th>Cars</th>\n",
       "      <th>Commute Distance</th>\n",
       "      <th>Region</th>\n",
       "      <th>Age</th>\n",
       "      <th>Purchased Bike</th>\n",
       "    </tr>\n",
       "  </thead>\n",
       "  <tbody>\n",
       "    <tr>\n",
       "      <th>0</th>\n",
       "      <td>12496</td>\n",
       "      <td>M</td>\n",
       "      <td>F</td>\n",
       "      <td>$40,000.00</td>\n",
       "      <td>1</td>\n",
       "      <td>Bachelors</td>\n",
       "      <td>Skilled Manual</td>\n",
       "      <td>Yes</td>\n",
       "      <td>0</td>\n",
       "      <td>0-1 Miles</td>\n",
       "      <td>Europe</td>\n",
       "      <td>42</td>\n",
       "      <td>No</td>\n",
       "    </tr>\n",
       "    <tr>\n",
       "      <th>1</th>\n",
       "      <td>24107</td>\n",
       "      <td>M</td>\n",
       "      <td>M</td>\n",
       "      <td>$30,000.00</td>\n",
       "      <td>3</td>\n",
       "      <td>Partial College</td>\n",
       "      <td>Clerical</td>\n",
       "      <td>Yes</td>\n",
       "      <td>1</td>\n",
       "      <td>0-1 Miles</td>\n",
       "      <td>Europe</td>\n",
       "      <td>43</td>\n",
       "      <td>No</td>\n",
       "    </tr>\n",
       "    <tr>\n",
       "      <th>2</th>\n",
       "      <td>14177</td>\n",
       "      <td>M</td>\n",
       "      <td>M</td>\n",
       "      <td>$80,000.00</td>\n",
       "      <td>5</td>\n",
       "      <td>Partial College</td>\n",
       "      <td>Professional</td>\n",
       "      <td>No</td>\n",
       "      <td>2</td>\n",
       "      <td>2-5 Miles</td>\n",
       "      <td>Europe</td>\n",
       "      <td>60</td>\n",
       "      <td>No</td>\n",
       "    </tr>\n",
       "    <tr>\n",
       "      <th>3</th>\n",
       "      <td>24381</td>\n",
       "      <td>S</td>\n",
       "      <td>M</td>\n",
       "      <td>$70,000.00</td>\n",
       "      <td>0</td>\n",
       "      <td>Bachelors</td>\n",
       "      <td>Professional</td>\n",
       "      <td>Yes</td>\n",
       "      <td>1</td>\n",
       "      <td>5-10 Miles</td>\n",
       "      <td>Pacific</td>\n",
       "      <td>41</td>\n",
       "      <td>Yes</td>\n",
       "    </tr>\n",
       "    <tr>\n",
       "      <th>4</th>\n",
       "      <td>25597</td>\n",
       "      <td>S</td>\n",
       "      <td>M</td>\n",
       "      <td>$30,000.00</td>\n",
       "      <td>0</td>\n",
       "      <td>Bachelors</td>\n",
       "      <td>Clerical</td>\n",
       "      <td>No</td>\n",
       "      <td>0</td>\n",
       "      <td>0-1 Miles</td>\n",
       "      <td>Europe</td>\n",
       "      <td>36</td>\n",
       "      <td>Yes</td>\n",
       "    </tr>\n",
       "    <tr>\n",
       "      <th>...</th>\n",
       "      <td>...</td>\n",
       "      <td>...</td>\n",
       "      <td>...</td>\n",
       "      <td>...</td>\n",
       "      <td>...</td>\n",
       "      <td>...</td>\n",
       "      <td>...</td>\n",
       "      <td>...</td>\n",
       "      <td>...</td>\n",
       "      <td>...</td>\n",
       "      <td>...</td>\n",
       "      <td>...</td>\n",
       "      <td>...</td>\n",
       "    </tr>\n",
       "    <tr>\n",
       "      <th>1021</th>\n",
       "      <td>16466</td>\n",
       "      <td>S</td>\n",
       "      <td>F</td>\n",
       "      <td>$20,000.00</td>\n",
       "      <td>0</td>\n",
       "      <td>Partial High School</td>\n",
       "      <td>Manual</td>\n",
       "      <td>No</td>\n",
       "      <td>2</td>\n",
       "      <td>0-1 Miles</td>\n",
       "      <td>Europe</td>\n",
       "      <td>32</td>\n",
       "      <td>Yes</td>\n",
       "    </tr>\n",
       "    <tr>\n",
       "      <th>1022</th>\n",
       "      <td>19273</td>\n",
       "      <td>M</td>\n",
       "      <td>F</td>\n",
       "      <td>$20,000.00</td>\n",
       "      <td>2</td>\n",
       "      <td>Partial College</td>\n",
       "      <td>Manual</td>\n",
       "      <td>Yes</td>\n",
       "      <td>0</td>\n",
       "      <td>0-1 Miles</td>\n",
       "      <td>Europe</td>\n",
       "      <td>63</td>\n",
       "      <td>No</td>\n",
       "    </tr>\n",
       "    <tr>\n",
       "      <th>1023</th>\n",
       "      <td>22400</td>\n",
       "      <td>M</td>\n",
       "      <td>M</td>\n",
       "      <td>$10,000.00</td>\n",
       "      <td>0</td>\n",
       "      <td>Partial College</td>\n",
       "      <td>Manual</td>\n",
       "      <td>No</td>\n",
       "      <td>1</td>\n",
       "      <td>0-1 Miles</td>\n",
       "      <td>Pacific</td>\n",
       "      <td>26</td>\n",
       "      <td>Yes</td>\n",
       "    </tr>\n",
       "    <tr>\n",
       "      <th>1024</th>\n",
       "      <td>20942</td>\n",
       "      <td>S</td>\n",
       "      <td>F</td>\n",
       "      <td>$20,000.00</td>\n",
       "      <td>0</td>\n",
       "      <td>High School</td>\n",
       "      <td>Manual</td>\n",
       "      <td>No</td>\n",
       "      <td>1</td>\n",
       "      <td>5-10 Miles</td>\n",
       "      <td>Europe</td>\n",
       "      <td>31</td>\n",
       "      <td>No</td>\n",
       "    </tr>\n",
       "    <tr>\n",
       "      <th>1025</th>\n",
       "      <td>18484</td>\n",
       "      <td>S</td>\n",
       "      <td>M</td>\n",
       "      <td>$80,000.00</td>\n",
       "      <td>2</td>\n",
       "      <td>High School</td>\n",
       "      <td>Skilled Manual</td>\n",
       "      <td>No</td>\n",
       "      <td>2</td>\n",
       "      <td>1-2 Miles</td>\n",
       "      <td>Pacific</td>\n",
       "      <td>50</td>\n",
       "      <td>Yes</td>\n",
       "    </tr>\n",
       "  </tbody>\n",
       "</table>\n",
       "<p>1026 rows × 13 columns</p>\n",
       "</div>"
      ],
      "text/plain": [
       "         ID Marital Status Gender      Income  Children            Education  \\\n",
       "0     12496              M      F  $40,000.00         1            Bachelors   \n",
       "1     24107              M      M  $30,000.00         3      Partial College   \n",
       "2     14177              M      M  $80,000.00         5      Partial College   \n",
       "3     24381              S      M  $70,000.00         0            Bachelors   \n",
       "4     25597              S      M  $30,000.00         0            Bachelors   \n",
       "...     ...            ...    ...         ...       ...                  ...   \n",
       "1021  16466              S      F  $20,000.00         0  Partial High School   \n",
       "1022  19273              M      F  $20,000.00         2      Partial College   \n",
       "1023  22400              M      M  $10,000.00         0      Partial College   \n",
       "1024  20942              S      F  $20,000.00         0          High School   \n",
       "1025  18484              S      M  $80,000.00         2          High School   \n",
       "\n",
       "          Occupation Home Owner  Cars Commute Distance   Region  Age  \\\n",
       "0     Skilled Manual        Yes     0        0-1 Miles   Europe   42   \n",
       "1           Clerical        Yes     1        0-1 Miles   Europe   43   \n",
       "2       Professional         No     2        2-5 Miles   Europe   60   \n",
       "3       Professional        Yes     1       5-10 Miles  Pacific   41   \n",
       "4           Clerical         No     0        0-1 Miles   Europe   36   \n",
       "...              ...        ...   ...              ...      ...  ...   \n",
       "1021          Manual         No     2        0-1 Miles   Europe   32   \n",
       "1022          Manual        Yes     0        0-1 Miles   Europe   63   \n",
       "1023          Manual         No     1        0-1 Miles  Pacific   26   \n",
       "1024          Manual         No     1       5-10 Miles   Europe   31   \n",
       "1025  Skilled Manual         No     2        1-2 Miles  Pacific   50   \n",
       "\n",
       "     Purchased Bike  \n",
       "0                No  \n",
       "1                No  \n",
       "2                No  \n",
       "3               Yes  \n",
       "4               Yes  \n",
       "...             ...  \n",
       "1021            Yes  \n",
       "1022             No  \n",
       "1023            Yes  \n",
       "1024             No  \n",
       "1025            Yes  \n",
       "\n",
       "[1026 rows x 13 columns]"
      ]
     },
     "execution_count": 9,
     "metadata": {},
     "output_type": "execute_result"
    }
   ],
   "source": [
    "import pandas as pd\n",
    "filename = \"C:/Users/HP/Documents/testfile.csv\"\n",
    "df = pd.read_csv(filename)\n",
    "df"
   ]
  },
  {
   "cell_type": "code",
   "execution_count": 10,
   "id": "90918243",
   "metadata": {},
   "outputs": [
    {
     "data": {
      "text/html": [
       "<div>\n",
       "<style scoped>\n",
       "    .dataframe tbody tr th:only-of-type {\n",
       "        vertical-align: middle;\n",
       "    }\n",
       "\n",
       "    .dataframe tbody tr th {\n",
       "        vertical-align: top;\n",
       "    }\n",
       "\n",
       "    .dataframe thead th {\n",
       "        text-align: right;\n",
       "    }\n",
       "</style>\n",
       "<table border=\"1\" class=\"dataframe\">\n",
       "  <thead>\n",
       "    <tr style=\"text-align: right;\">\n",
       "      <th></th>\n",
       "      <th>ID</th>\n",
       "      <th>Gender</th>\n",
       "    </tr>\n",
       "  </thead>\n",
       "  <tbody>\n",
       "    <tr>\n",
       "      <th>0</th>\n",
       "      <td>12496</td>\n",
       "      <td>F</td>\n",
       "    </tr>\n",
       "    <tr>\n",
       "      <th>1</th>\n",
       "      <td>24107</td>\n",
       "      <td>M</td>\n",
       "    </tr>\n",
       "    <tr>\n",
       "      <th>2</th>\n",
       "      <td>14177</td>\n",
       "      <td>M</td>\n",
       "    </tr>\n",
       "    <tr>\n",
       "      <th>3</th>\n",
       "      <td>24381</td>\n",
       "      <td>M</td>\n",
       "    </tr>\n",
       "    <tr>\n",
       "      <th>4</th>\n",
       "      <td>25597</td>\n",
       "      <td>M</td>\n",
       "    </tr>\n",
       "    <tr>\n",
       "      <th>...</th>\n",
       "      <td>...</td>\n",
       "      <td>...</td>\n",
       "    </tr>\n",
       "    <tr>\n",
       "      <th>1021</th>\n",
       "      <td>16466</td>\n",
       "      <td>F</td>\n",
       "    </tr>\n",
       "    <tr>\n",
       "      <th>1022</th>\n",
       "      <td>19273</td>\n",
       "      <td>F</td>\n",
       "    </tr>\n",
       "    <tr>\n",
       "      <th>1023</th>\n",
       "      <td>22400</td>\n",
       "      <td>M</td>\n",
       "    </tr>\n",
       "    <tr>\n",
       "      <th>1024</th>\n",
       "      <td>20942</td>\n",
       "      <td>F</td>\n",
       "    </tr>\n",
       "    <tr>\n",
       "      <th>1025</th>\n",
       "      <td>18484</td>\n",
       "      <td>M</td>\n",
       "    </tr>\n",
       "  </tbody>\n",
       "</table>\n",
       "<p>1026 rows × 2 columns</p>\n",
       "</div>"
      ],
      "text/plain": [
       "         ID Gender\n",
       "0     12496      F\n",
       "1     24107      M\n",
       "2     14177      M\n",
       "3     24381      M\n",
       "4     25597      M\n",
       "...     ...    ...\n",
       "1021  16466      F\n",
       "1022  19273      F\n",
       "1023  22400      M\n",
       "1024  20942      F\n",
       "1025  18484      M\n",
       "\n",
       "[1026 rows x 2 columns]"
      ]
     },
     "execution_count": 10,
     "metadata": {},
     "output_type": "execute_result"
    }
   ],
   "source": [
    "df[['ID','Gender']]"
   ]
  },
  {
   "cell_type": "code",
   "execution_count": 11,
   "id": "a3f27924",
   "metadata": {},
   "outputs": [
    {
     "data": {
      "text/plain": [
       "ID                   int64\n",
       "Marital Status      object\n",
       "Gender              object\n",
       "Income              object\n",
       "Children             int64\n",
       "Education           object\n",
       "Occupation          object\n",
       "Home Owner          object\n",
       "Cars                 int64\n",
       "Commute Distance    object\n",
       "Region              object\n",
       "Age                  int64\n",
       "Purchased Bike      object\n",
       "dtype: object"
      ]
     },
     "execution_count": 11,
     "metadata": {},
     "output_type": "execute_result"
    }
   ],
   "source": [
    "df.dtypes"
   ]
  },
  {
   "cell_type": "code",
   "execution_count": 12,
   "id": "c0a0a4dc",
   "metadata": {},
   "outputs": [
    {
     "data": {
      "text/plain": [
       "ID                  0\n",
       "Marital Status      0\n",
       "Gender              0\n",
       "Income              0\n",
       "Children            0\n",
       "Education           0\n",
       "Occupation          0\n",
       "Home Owner          0\n",
       "Cars                0\n",
       "Commute Distance    0\n",
       "Region              0\n",
       "Age                 0\n",
       "Purchased Bike      0\n",
       "dtype: int64"
      ]
     },
     "execution_count": 12,
     "metadata": {},
     "output_type": "execute_result"
    }
   ],
   "source": [
    "df.isnull().sum()"
   ]
  },
  {
   "cell_type": "code",
   "execution_count": 13,
   "id": "3415de75",
   "metadata": {},
   "outputs": [
    {
     "name": "stdout",
     "output_type": "stream",
     "text": [
      "<class 'pandas.core.frame.DataFrame'>\n",
      "RangeIndex: 1026 entries, 0 to 1025\n",
      "Data columns (total 13 columns):\n",
      " #   Column            Non-Null Count  Dtype \n",
      "---  ------            --------------  ----- \n",
      " 0   ID                1026 non-null   int64 \n",
      " 1   Marital Status    1026 non-null   object\n",
      " 2   Gender            1026 non-null   object\n",
      " 3   Income            1026 non-null   object\n",
      " 4   Children          1026 non-null   int64 \n",
      " 5   Education         1026 non-null   object\n",
      " 6   Occupation        1026 non-null   object\n",
      " 7   Home Owner        1026 non-null   object\n",
      " 8   Cars              1026 non-null   int64 \n",
      " 9   Commute Distance  1026 non-null   object\n",
      " 10  Region            1026 non-null   object\n",
      " 11  Age               1026 non-null   int64 \n",
      " 12  Purchased Bike    1026 non-null   object\n",
      "dtypes: int64(4), object(9)\n",
      "memory usage: 104.3+ KB\n"
     ]
    }
   ],
   "source": [
    "df.info()"
   ]
  },
  {
   "cell_type": "code",
   "execution_count": 14,
   "id": "00addf12",
   "metadata": {},
   "outputs": [
    {
     "name": "stdout",
     "output_type": "stream",
     "text": [
      "1026\n"
     ]
    }
   ],
   "source": [
    "print (len(df))"
   ]
  },
  {
   "cell_type": "code",
   "execution_count": 15,
   "id": "df4a8dd3",
   "metadata": {},
   "outputs": [
    {
     "name": "stdout",
     "output_type": "stream",
     "text": [
      "[1, 4, 9]\n"
     ]
    }
   ],
   "source": [
    "# List Comprehension\n",
    "x = [1,2,3]\n",
    "# for i in x:\n",
    "#     print(i**2)\n",
    "    \n",
    "results = [i**2 for i in x]\n",
    "print(results)"
   ]
  },
  {
   "cell_type": "code",
   "execution_count": 16,
   "id": "f922f022",
   "metadata": {},
   "outputs": [
    {
     "name": "stdout",
     "output_type": "stream",
     "text": [
      "[1, 4, 9, 16]\n"
     ]
    }
   ],
   "source": [
    "#mapping\n",
    "list1 = [1,2,3,4]\n",
    "\n",
    "def square(x):\n",
    "    return (x*x)\n",
    "\n",
    "result = map(square, list1)\n",
    "print (list(result))\n",
    "# # print ()"
   ]
  },
  {
   "cell_type": "code",
   "execution_count": 17,
   "id": "f87c9559",
   "metadata": {},
   "outputs": [
    {
     "data": {
      "text/html": [
       "<div>\n",
       "<style scoped>\n",
       "    .dataframe tbody tr th:only-of-type {\n",
       "        vertical-align: middle;\n",
       "    }\n",
       "\n",
       "    .dataframe tbody tr th {\n",
       "        vertical-align: top;\n",
       "    }\n",
       "\n",
       "    .dataframe thead th {\n",
       "        text-align: right;\n",
       "    }\n",
       "</style>\n",
       "<table border=\"1\" class=\"dataframe\">\n",
       "  <thead>\n",
       "    <tr style=\"text-align: right;\">\n",
       "      <th></th>\n",
       "      <th>ID</th>\n",
       "      <th>Children</th>\n",
       "      <th>Cars</th>\n",
       "      <th>Age</th>\n",
       "    </tr>\n",
       "  </thead>\n",
       "  <tbody>\n",
       "    <tr>\n",
       "      <th>count</th>\n",
       "      <td>1026.000000</td>\n",
       "      <td>1026.000000</td>\n",
       "      <td>1026.000000</td>\n",
       "      <td>1026.000000</td>\n",
       "    </tr>\n",
       "    <tr>\n",
       "      <th>mean</th>\n",
       "      <td>19969.196881</td>\n",
       "      <td>1.892788</td>\n",
       "      <td>1.437622</td>\n",
       "      <td>44.138402</td>\n",
       "    </tr>\n",
       "    <tr>\n",
       "      <th>std</th>\n",
       "      <td>5332.672942</td>\n",
       "      <td>1.626670</td>\n",
       "      <td>1.125538</td>\n",
       "      <td>11.349282</td>\n",
       "    </tr>\n",
       "    <tr>\n",
       "      <th>min</th>\n",
       "      <td>11000.000000</td>\n",
       "      <td>0.000000</td>\n",
       "      <td>0.000000</td>\n",
       "      <td>25.000000</td>\n",
       "    </tr>\n",
       "    <tr>\n",
       "      <th>25%</th>\n",
       "      <td>15304.750000</td>\n",
       "      <td>0.000000</td>\n",
       "      <td>1.000000</td>\n",
       "      <td>35.000000</td>\n",
       "    </tr>\n",
       "    <tr>\n",
       "      <th>50%</th>\n",
       "      <td>19744.000000</td>\n",
       "      <td>2.000000</td>\n",
       "      <td>1.000000</td>\n",
       "      <td>43.000000</td>\n",
       "    </tr>\n",
       "    <tr>\n",
       "      <th>75%</th>\n",
       "      <td>24457.750000</td>\n",
       "      <td>3.000000</td>\n",
       "      <td>2.000000</td>\n",
       "      <td>52.000000</td>\n",
       "    </tr>\n",
       "    <tr>\n",
       "      <th>max</th>\n",
       "      <td>29447.000000</td>\n",
       "      <td>5.000000</td>\n",
       "      <td>4.000000</td>\n",
       "      <td>89.000000</td>\n",
       "    </tr>\n",
       "  </tbody>\n",
       "</table>\n",
       "</div>"
      ],
      "text/plain": [
       "                 ID     Children         Cars          Age\n",
       "count   1026.000000  1026.000000  1026.000000  1026.000000\n",
       "mean   19969.196881     1.892788     1.437622    44.138402\n",
       "std     5332.672942     1.626670     1.125538    11.349282\n",
       "min    11000.000000     0.000000     0.000000    25.000000\n",
       "25%    15304.750000     0.000000     1.000000    35.000000\n",
       "50%    19744.000000     2.000000     1.000000    43.000000\n",
       "75%    24457.750000     3.000000     2.000000    52.000000\n",
       "max    29447.000000     5.000000     4.000000    89.000000"
      ]
     },
     "execution_count": 17,
     "metadata": {},
     "output_type": "execute_result"
    }
   ],
   "source": [
    "df.describe()"
   ]
  },
  {
   "cell_type": "code",
   "execution_count": 18,
   "id": "59c97288",
   "metadata": {},
   "outputs": [
    {
     "data": {
      "text/html": [
       "<div>\n",
       "<style scoped>\n",
       "    .dataframe tbody tr th:only-of-type {\n",
       "        vertical-align: middle;\n",
       "    }\n",
       "\n",
       "    .dataframe tbody tr th {\n",
       "        vertical-align: top;\n",
       "    }\n",
       "\n",
       "    .dataframe thead th {\n",
       "        text-align: right;\n",
       "    }\n",
       "</style>\n",
       "<table border=\"1\" class=\"dataframe\">\n",
       "  <thead>\n",
       "    <tr style=\"text-align: right;\">\n",
       "      <th></th>\n",
       "      <th>ID</th>\n",
       "      <th>Children</th>\n",
       "      <th>Cars</th>\n",
       "      <th>Age</th>\n",
       "    </tr>\n",
       "  </thead>\n",
       "  <tbody>\n",
       "    <tr>\n",
       "      <th>ID</th>\n",
       "      <td>1.000000</td>\n",
       "      <td>-0.028781</td>\n",
       "      <td>0.036103</td>\n",
       "      <td>-0.052978</td>\n",
       "    </tr>\n",
       "    <tr>\n",
       "      <th>Children</th>\n",
       "      <td>-0.028781</td>\n",
       "      <td>1.000000</td>\n",
       "      <td>0.257447</td>\n",
       "      <td>0.530475</td>\n",
       "    </tr>\n",
       "    <tr>\n",
       "      <th>Cars</th>\n",
       "      <td>0.036103</td>\n",
       "      <td>0.257447</td>\n",
       "      <td>1.000000</td>\n",
       "      <td>0.181302</td>\n",
       "    </tr>\n",
       "    <tr>\n",
       "      <th>Age</th>\n",
       "      <td>-0.052978</td>\n",
       "      <td>0.530475</td>\n",
       "      <td>0.181302</td>\n",
       "      <td>1.000000</td>\n",
       "    </tr>\n",
       "  </tbody>\n",
       "</table>\n",
       "</div>"
      ],
      "text/plain": [
       "                ID  Children      Cars       Age\n",
       "ID        1.000000 -0.028781  0.036103 -0.052978\n",
       "Children -0.028781  1.000000  0.257447  0.530475\n",
       "Cars      0.036103  0.257447  1.000000  0.181302\n",
       "Age      -0.052978  0.530475  0.181302  1.000000"
      ]
     },
     "execution_count": 18,
     "metadata": {},
     "output_type": "execute_result"
    }
   ],
   "source": [
    "df.corr()"
   ]
  },
  {
   "cell_type": "code",
   "execution_count": 19,
   "id": "46f61d38",
   "metadata": {},
   "outputs": [
    {
     "data": {
      "image/png": "[encoded data removed]",
      "text/plain": [
       "<Figure size 432x288 with 2 Axes>"
      ]
     },
     "metadata": {
      "needs_background": "light"
     },
     "output_type": "display_data"
    }
   ],
   "source": [
    "import seaborn as sns\n",
    "import matplotlib.pyplot as plt\n",
    "# sns.set(rc={'figure.figsize':(10,10)})\n",
    "sns.heatmap(df.corr(), cmap='BuPu', annot=True)\n",
    "plt.title('correlation')\n",
    "plt.show()"
   ]
  },
  {
   "cell_type": "code",
   "execution_count": 20,
   "id": "386b19aa",
   "metadata": {},
   "outputs": [
    {
     "data": {
      "image/png": "[encoded data removed]",
      "text/plain": [
       "<Figure size 360x360 with 1 Axes>"
      ]
     },
     "metadata": {
      "needs_background": "light"
     },
     "output_type": "display_data"
    }
   ],
   "source": [
    "#Distribution plot or histogram\n",
    "sns.displot(df, x=\"Age\", color='blue')\n",
    "plt.xlabel('Age')\n",
    "plt.ylabel('Frequency')\n",
    "plt.title('Frequency of Age')\n",
    "plt.show()"
   ]
  },
  {
   "cell_type": "code",
   "execution_count": 21,
   "id": "26844e28",
   "metadata": {
    "scrolled": true
   },
   "outputs": [
    {
     "name": "stdout",
     "output_type": "stream",
     "text": [
      "Skwness: 0.5174255789500232\n"
     ]
    }
   ],
   "source": [
    "print ('Skwness:', df['Age'].skew())"
   ]
  },
  {
   "cell_type": "code",
   "execution_count": 24,
   "id": "992f6976",
   "metadata": {},
   "outputs": [
    {
     "ename": "TypeError",
     "evalue": "Neither the `x` nor `y` variable appears to be numeric.",
     "output_type": "error",
     "traceback": [
      "\u001b[1;31m---------------------------------------------------------------------------\u001b[0m",
      "\u001b[1;31mTypeError\u001b[0m                                 Traceback (most recent call last)",
      "Input \u001b[1;32mIn [24]\u001b[0m, in \u001b[0;36m<cell line: 2>\u001b[1;34m()\u001b[0m\n\u001b[0;32m      1\u001b[0m sns\u001b[38;5;241m.\u001b[39mset(rc\u001b[38;5;241m=\u001b[39m{\u001b[38;5;124m'\u001b[39m\u001b[38;5;124mfigure.figsize\u001b[39m\u001b[38;5;124m'\u001b[39m:(\u001b[38;5;241m22\u001b[39m,\u001b[38;5;241m10\u001b[39m)})\n\u001b[1;32m----> 2\u001b[0m \u001b[43msns\u001b[49m\u001b[38;5;241;43m.\u001b[39;49m\u001b[43mbarplot\u001b[49m\u001b[43m(\u001b[49m\u001b[43mx\u001b[49m\u001b[38;5;241;43m=\u001b[39;49m\u001b[38;5;124;43m\"\u001b[39;49m\u001b[38;5;124;43mIncome\u001b[39;49m\u001b[38;5;124;43m\"\u001b[39;49m\u001b[43m,\u001b[49m\u001b[43m \u001b[49m\u001b[43my\u001b[49m\u001b[38;5;241;43m=\u001b[39;49m\u001b[38;5;124;43m'\u001b[39;49m\u001b[38;5;124;43mPurchased Bike\u001b[39;49m\u001b[38;5;124;43m'\u001b[39;49m\u001b[43m,\u001b[49m\u001b[43m \u001b[49m\u001b[43mdata\u001b[49m\u001b[38;5;241;43m=\u001b[39;49m\u001b[43mdf\u001b[49m\u001b[43m)\u001b[49m\n\u001b[0;32m      3\u001b[0m plt\u001b[38;5;241m.\u001b[39mylabel(\u001b[38;5;124m\"\u001b[39m\u001b[38;5;124mPurchased Bike\u001b[39m\u001b[38;5;124m\"\u001b[39m)\n\u001b[0;32m      4\u001b[0m plt\u001b[38;5;241m.\u001b[39mxlabel(\u001b[38;5;124m\"\u001b[39m\u001b[38;5;124mIncome\u001b[39m\u001b[38;5;124m\"\u001b[39m)\n",
      "File \u001b[1;32m~\\anaconda3\\lib\\site-packages\\seaborn\\_decorators.py:46\u001b[0m, in \u001b[0;36m_deprecate_positional_args.<locals>.inner_f\u001b[1;34m(*args, **kwargs)\u001b[0m\n\u001b[0;32m     36\u001b[0m     warnings\u001b[38;5;241m.\u001b[39mwarn(\n\u001b[0;32m     37\u001b[0m         \u001b[38;5;124m\"\u001b[39m\u001b[38;5;124mPass the following variable\u001b[39m\u001b[38;5;132;01m{}\u001b[39;00m\u001b[38;5;124m as \u001b[39m\u001b[38;5;132;01m{}\u001b[39;00m\u001b[38;5;124mkeyword arg\u001b[39m\u001b[38;5;132;01m{}\u001b[39;00m\u001b[38;5;124m: \u001b[39m\u001b[38;5;132;01m{}\u001b[39;00m\u001b[38;5;124m. \u001b[39m\u001b[38;5;124m\"\u001b[39m\n\u001b[0;32m     38\u001b[0m         \u001b[38;5;124m\"\u001b[39m\u001b[38;5;124mFrom version 0.12, the only valid positional argument \u001b[39m\u001b[38;5;124m\"\u001b[39m\n\u001b[1;32m   (...)\u001b[0m\n\u001b[0;32m     43\u001b[0m         \u001b[38;5;167;01mFutureWarning\u001b[39;00m\n\u001b[0;32m     44\u001b[0m     )\n\u001b[0;32m     45\u001b[0m kwargs\u001b[38;5;241m.\u001b[39mupdate({k: arg \u001b[38;5;28;01mfor\u001b[39;00m k, arg \u001b[38;5;129;01min\u001b[39;00m \u001b[38;5;28mzip\u001b[39m(sig\u001b[38;5;241m.\u001b[39mparameters, args)})\n\u001b[1;32m---> 46\u001b[0m \u001b[38;5;28;01mreturn\u001b[39;00m f(\u001b[38;5;241m*\u001b[39m\u001b[38;5;241m*\u001b[39mkwargs)\n",
      "File \u001b[1;32m~\\anaconda3\\lib\\site-packages\\seaborn\\categorical.py:3182\u001b[0m, in \u001b[0;36mbarplot\u001b[1;34m(x, y, hue, data, order, hue_order, estimator, ci, n_boot, units, seed, orient, color, palette, saturation, errcolor, errwidth, capsize, dodge, ax, **kwargs)\u001b[0m\n\u001b[0;32m   3169\u001b[0m \u001b[38;5;129m@_deprecate_positional_args\u001b[39m\n\u001b[0;32m   3170\u001b[0m \u001b[38;5;28;01mdef\u001b[39;00m \u001b[38;5;21mbarplot\u001b[39m(\n\u001b[0;32m   3171\u001b[0m     \u001b[38;5;241m*\u001b[39m,\n\u001b[1;32m   (...)\u001b[0m\n\u001b[0;32m   3179\u001b[0m     \u001b[38;5;241m*\u001b[39m\u001b[38;5;241m*\u001b[39mkwargs,\n\u001b[0;32m   3180\u001b[0m ):\n\u001b[1;32m-> 3182\u001b[0m     plotter \u001b[38;5;241m=\u001b[39m \u001b[43m_BarPlotter\u001b[49m\u001b[43m(\u001b[49m\u001b[43mx\u001b[49m\u001b[43m,\u001b[49m\u001b[43m \u001b[49m\u001b[43my\u001b[49m\u001b[43m,\u001b[49m\u001b[43m \u001b[49m\u001b[43mhue\u001b[49m\u001b[43m,\u001b[49m\u001b[43m \u001b[49m\u001b[43mdata\u001b[49m\u001b[43m,\u001b[49m\u001b[43m \u001b[49m\u001b[43morder\u001b[49m\u001b[43m,\u001b[49m\u001b[43m \u001b[49m\u001b[43mhue_order\u001b[49m\u001b[43m,\u001b[49m\n\u001b[0;32m   3183\u001b[0m \u001b[43m                          \u001b[49m\u001b[43mestimator\u001b[49m\u001b[43m,\u001b[49m\u001b[43m \u001b[49m\u001b[43mci\u001b[49m\u001b[43m,\u001b[49m\u001b[43m \u001b[49m\u001b[43mn_boot\u001b[49m\u001b[43m,\u001b[49m\u001b[43m \u001b[49m\u001b[43munits\u001b[49m\u001b[43m,\u001b[49m\u001b[43m \u001b[49m\u001b[43mseed\u001b[49m\u001b[43m,\u001b[49m\n\u001b[0;32m   3184\u001b[0m \u001b[43m                          \u001b[49m\u001b[43morient\u001b[49m\u001b[43m,\u001b[49m\u001b[43m \u001b[49m\u001b[43mcolor\u001b[49m\u001b[43m,\u001b[49m\u001b[43m \u001b[49m\u001b[43mpalette\u001b[49m\u001b[43m,\u001b[49m\u001b[43m \u001b[49m\u001b[43msaturation\u001b[49m\u001b[43m,\u001b[49m\n\u001b[0;32m   3185\u001b[0m \u001b[43m                          \u001b[49m\u001b[43merrcolor\u001b[49m\u001b[43m,\u001b[49m\u001b[43m \u001b[49m\u001b[43merrwidth\u001b[49m\u001b[43m,\u001b[49m\u001b[43m \u001b[49m\u001b[43mcapsize\u001b[49m\u001b[43m,\u001b[49m\u001b[43m \u001b[49m\u001b[43mdodge\u001b[49m\u001b[43m)\u001b[49m\n\u001b[0;32m   3187\u001b[0m     \u001b[38;5;28;01mif\u001b[39;00m ax \u001b[38;5;129;01mis\u001b[39;00m \u001b[38;5;28;01mNone\u001b[39;00m:\n\u001b[0;32m   3188\u001b[0m         ax \u001b[38;5;241m=\u001b[39m plt\u001b[38;5;241m.\u001b[39mgca()\n",
      "File \u001b[1;32m~\\anaconda3\\lib\\site-packages\\seaborn\\categorical.py:1584\u001b[0m, in \u001b[0;36m_BarPlotter.__init__\u001b[1;34m(self, x, y, hue, data, order, hue_order, estimator, ci, n_boot, units, seed, orient, color, palette, saturation, errcolor, errwidth, capsize, dodge)\u001b[0m\n\u001b[0;32m   1579\u001b[0m \u001b[38;5;28;01mdef\u001b[39;00m \u001b[38;5;21m__init__\u001b[39m(\u001b[38;5;28mself\u001b[39m, x, y, hue, data, order, hue_order,\n\u001b[0;32m   1580\u001b[0m              estimator, ci, n_boot, units, seed,\n\u001b[0;32m   1581\u001b[0m              orient, color, palette, saturation, errcolor,\n\u001b[0;32m   1582\u001b[0m              errwidth, capsize, dodge):\n\u001b[0;32m   1583\u001b[0m     \u001b[38;5;124;03m\"\"\"Initialize the plotter.\"\"\"\u001b[39;00m\n\u001b[1;32m-> 1584\u001b[0m     \u001b[38;5;28;43mself\u001b[39;49m\u001b[38;5;241;43m.\u001b[39;49m\u001b[43mestablish_variables\u001b[49m\u001b[43m(\u001b[49m\u001b[43mx\u001b[49m\u001b[43m,\u001b[49m\u001b[43m \u001b[49m\u001b[43my\u001b[49m\u001b[43m,\u001b[49m\u001b[43m \u001b[49m\u001b[43mhue\u001b[49m\u001b[43m,\u001b[49m\u001b[43m \u001b[49m\u001b[43mdata\u001b[49m\u001b[43m,\u001b[49m\u001b[43m \u001b[49m\u001b[43morient\u001b[49m\u001b[43m,\u001b[49m\n\u001b[0;32m   1585\u001b[0m \u001b[43m                             \u001b[49m\u001b[43morder\u001b[49m\u001b[43m,\u001b[49m\u001b[43m \u001b[49m\u001b[43mhue_order\u001b[49m\u001b[43m,\u001b[49m\u001b[43m \u001b[49m\u001b[43munits\u001b[49m\u001b[43m)\u001b[49m\n\u001b[0;32m   1586\u001b[0m     \u001b[38;5;28mself\u001b[39m\u001b[38;5;241m.\u001b[39mestablish_colors(color, palette, saturation)\n\u001b[0;32m   1587\u001b[0m     \u001b[38;5;28mself\u001b[39m\u001b[38;5;241m.\u001b[39mestimate_statistic(estimator, ci, n_boot, seed)\n",
      "File \u001b[1;32m~\\anaconda3\\lib\\site-packages\\seaborn\\categorical.py:156\u001b[0m, in \u001b[0;36m_CategoricalPlotter.establish_variables\u001b[1;34m(self, x, y, hue, data, orient, order, hue_order, units)\u001b[0m\n\u001b[0;32m    153\u001b[0m         \u001b[38;5;28;01mraise\u001b[39;00m \u001b[38;5;167;01mValueError\u001b[39;00m(err)\n\u001b[0;32m    155\u001b[0m \u001b[38;5;66;03m# Figure out the plotting orientation\u001b[39;00m\n\u001b[1;32m--> 156\u001b[0m orient \u001b[38;5;241m=\u001b[39m \u001b[43minfer_orient\u001b[49m\u001b[43m(\u001b[49m\n\u001b[0;32m    157\u001b[0m \u001b[43m    \u001b[49m\u001b[43mx\u001b[49m\u001b[43m,\u001b[49m\u001b[43m \u001b[49m\u001b[43my\u001b[49m\u001b[43m,\u001b[49m\u001b[43m \u001b[49m\u001b[43morient\u001b[49m\u001b[43m,\u001b[49m\u001b[43m \u001b[49m\u001b[43mrequire_numeric\u001b[49m\u001b[38;5;241;43m=\u001b[39;49m\u001b[38;5;28;43mself\u001b[39;49m\u001b[38;5;241;43m.\u001b[39;49m\u001b[43mrequire_numeric\u001b[49m\n\u001b[0;32m    158\u001b[0m \u001b[43m\u001b[49m\u001b[43m)\u001b[49m\n\u001b[0;32m    160\u001b[0m \u001b[38;5;66;03m# Option 2a:\u001b[39;00m\n\u001b[0;32m    161\u001b[0m \u001b[38;5;66;03m# We are plotting a single set of data\u001b[39;00m\n\u001b[0;32m    162\u001b[0m \u001b[38;5;66;03m# ------------------------------------\u001b[39;00m\n\u001b[0;32m    163\u001b[0m \u001b[38;5;28;01mif\u001b[39;00m x \u001b[38;5;129;01mis\u001b[39;00m \u001b[38;5;28;01mNone\u001b[39;00m \u001b[38;5;129;01mor\u001b[39;00m y \u001b[38;5;129;01mis\u001b[39;00m \u001b[38;5;28;01mNone\u001b[39;00m:\n\u001b[0;32m    164\u001b[0m \n\u001b[0;32m    165\u001b[0m     \u001b[38;5;66;03m# Determine where the data are\u001b[39;00m\n",
      "File \u001b[1;32m~\\anaconda3\\lib\\site-packages\\seaborn\\_core.py:1352\u001b[0m, in \u001b[0;36minfer_orient\u001b[1;34m(x, y, orient, require_numeric)\u001b[0m\n\u001b[0;32m   1350\u001b[0m \u001b[38;5;28;01melif\u001b[39;00m require_numeric \u001b[38;5;129;01mand\u001b[39;00m \u001b[38;5;124m\"\u001b[39m\u001b[38;5;124mnumeric\u001b[39m\u001b[38;5;124m\"\u001b[39m \u001b[38;5;129;01mnot\u001b[39;00m \u001b[38;5;129;01min\u001b[39;00m (x_type, y_type):\n\u001b[0;32m   1351\u001b[0m     err \u001b[38;5;241m=\u001b[39m \u001b[38;5;124m\"\u001b[39m\u001b[38;5;124mNeither the `x` nor `y` variable appears to be numeric.\u001b[39m\u001b[38;5;124m\"\u001b[39m\n\u001b[1;32m-> 1352\u001b[0m     \u001b[38;5;28;01mraise\u001b[39;00m \u001b[38;5;167;01mTypeError\u001b[39;00m(err)\n\u001b[0;32m   1354\u001b[0m \u001b[38;5;28;01melse\u001b[39;00m:\n\u001b[0;32m   1355\u001b[0m     \u001b[38;5;28;01mreturn\u001b[39;00m \u001b[38;5;124m\"\u001b[39m\u001b[38;5;124mv\u001b[39m\u001b[38;5;124m\"\u001b[39m\n",
      "\u001b[1;31mTypeError\u001b[0m: Neither the `x` nor `y` variable appears to be numeric."
     ]
    }
   ],
   "source": [
    "sns.set(rc={'figure.figsize':(22,10)})\n",
    "sns.barplot(x=\"Income\", y='Purchased Bike', data=df)\n",
    "plt.ylabel(\"Purchased Bike\")\n",
    "plt.xlabel(\"Income\")\n",
    "plt.title(\"Income against Purchased Bikes\")\n",
    "plt.show()"
   ]
  },
  {
   "cell_type": "code",
   "execution_count": 1,
   "id": "b8c37ece",
   "metadata": {},
   "outputs": [
    {
     "ename": "SyntaxError",
     "evalue": "invalid syntax (114921150.py, line 4)",
     "output_type": "error",
     "traceback": [
      "\u001b[1;36m  Input \u001b[1;32mIn [1]\u001b[1;36m\u001b[0m\n\u001b[1;33m    int multiplication(int x, int y)\u001b[0m\n\u001b[1;37m        ^\u001b[0m\n\u001b[1;31mSyntaxError\u001b[0m\u001b[1;31m:\u001b[0m invalid syntax\n"
     ]
    }
   ],
   "source": [
    "#include <h.studio>\n",
    "#include <c.math>\n",
    "\n",
    "int multiplication(int x, int y)\n",
    "    {\n",
    "      return x * y;\n",
    "    }\n",
    "\n",
    "int main()\n",
    "    {\n",
    "        cout<<multiplication(2,3)<<endl;\n",
    "        \n",
    "        return 0;\n",
    "        \n",
    "    }\n"
   ]
  },
  {
   "cell_type": "code",
   "execution_count": 2,
   "id": "7ae8777c",
   "metadata": {},
   "outputs": [
    {
     "data": {
      "text/html": [
       "<div>\n",
       "<style scoped>\n",
       "    .dataframe tbody tr th:only-of-type {\n",
       "        vertical-align: middle;\n",
       "    }\n",
       "\n",
       "    .dataframe tbody tr th {\n",
       "        vertical-align: top;\n",
       "    }\n",
       "\n",
       "    .dataframe thead th {\n",
       "        text-align: right;\n",
       "    }\n",
       "</style>\n",
       "<table border=\"1\" class=\"dataframe\">\n",
       "  <thead>\n",
       "    <tr style=\"text-align: right;\">\n",
       "      <th></th>\n",
       "      <th>Unnamed: 0</th>\n",
       "      <th>work_year</th>\n",
       "      <th>experience_level</th>\n",
       "      <th>employment_type</th>\n",
       "      <th>job_title</th>\n",
       "      <th>salary</th>\n",
       "      <th>salary_currency</th>\n",
       "      <th>salary_in_usd</th>\n",
       "      <th>employee_residence</th>\n",
       "      <th>remote_ratio</th>\n",
       "      <th>company_location</th>\n",
       "      <th>company_size</th>\n",
       "    </tr>\n",
       "  </thead>\n",
       "  <tbody>\n",
       "    <tr>\n",
       "      <th>0</th>\n",
       "      <td>0</td>\n",
       "      <td>2020</td>\n",
       "      <td>MI</td>\n",
       "      <td>FT</td>\n",
       "      <td>Data Scientist</td>\n",
       "      <td>70000</td>\n",
       "      <td>EUR</td>\n",
       "      <td>79833</td>\n",
       "      <td>DE</td>\n",
       "      <td>0</td>\n",
       "      <td>DE</td>\n",
       "      <td>L</td>\n",
       "    </tr>\n",
       "    <tr>\n",
       "      <th>1</th>\n",
       "      <td>1</td>\n",
       "      <td>2020</td>\n",
       "      <td>SE</td>\n",
       "      <td>FT</td>\n",
       "      <td>Machine Learning Scientist</td>\n",
       "      <td>260000</td>\n",
       "      <td>USD</td>\n",
       "      <td>260000</td>\n",
       "      <td>JP</td>\n",
       "      <td>0</td>\n",
       "      <td>JP</td>\n",
       "      <td>S</td>\n",
       "    </tr>\n",
       "    <tr>\n",
       "      <th>2</th>\n",
       "      <td>2</td>\n",
       "      <td>2020</td>\n",
       "      <td>SE</td>\n",
       "      <td>FT</td>\n",
       "      <td>Big Data Engineer</td>\n",
       "      <td>85000</td>\n",
       "      <td>GBP</td>\n",
       "      <td>109024</td>\n",
       "      <td>GB</td>\n",
       "      <td>50</td>\n",
       "      <td>GB</td>\n",
       "      <td>M</td>\n",
       "    </tr>\n",
       "  </tbody>\n",
       "</table>\n",
       "</div>"
      ],
      "text/plain": [
       "   Unnamed: 0  work_year experience_level employment_type  \\\n",
       "0           0       2020               MI              FT   \n",
       "1           1       2020               SE              FT   \n",
       "2           2       2020               SE              FT   \n",
       "\n",
       "                    job_title  salary salary_currency  salary_in_usd  \\\n",
       "0              Data Scientist   70000             EUR          79833   \n",
       "1  Machine Learning Scientist  260000             USD         260000   \n",
       "2           Big Data Engineer   85000             GBP         109024   \n",
       "\n",
       "  employee_residence  remote_ratio company_location company_size  \n",
       "0                 DE             0               DE            L  \n",
       "1                 JP             0               JP            S  \n",
       "2                 GB            50               GB            M  "
      ]
     },
     "execution_count": 2,
     "metadata": {},
     "output_type": "execute_result"
    }
   ],
   "source": [
    "import numpy as np\n",
    "import pandas as pd\n",
    "from sklearn.linear_model import LinearRegression\n",
    "from sklearn.model_selection import train_test_split\n",
    "from sklearn.metrics import mean_squared_error\n",
    "from sklearn.neighbors import KNeighborsRegressor\n",
    "\n",
    "\n",
    "filename = \"C:/Users/HP/Downloads/ds_salaries.csv\"\n",
    "df = pd.read_csv(filename)\n",
    "df.head(n=3)\n"
   ]
  },
  {
   "cell_type": "code",
   "execution_count": 4,
   "id": "558e67e5",
   "metadata": {},
   "outputs": [
    {
     "name": "stdout",
     "output_type": "stream",
     "text": [
      "7290325580.83049\n",
      "[ 95888.2   6639.8 209640.    6639.8  92790.   52811.8 164999.2  52326.\n",
      "  62494.8  47398.  149294.8 119540.6  93897.8  90192.   48541.8  22562.2\n",
      " 140000.   47190.   34745.8 203783.2 135000.  175400.  149294.8 116569.2\n",
      " 120755.4 140000.  245666.2  95888.2   5882.4  94250.   81738.2  95888.2\n",
      "  98567.6  19837.  135000.   11880.  112555.    5882.4  59948.2 120540.6\n",
      "  52326.  215184.  135000.  117186.  175400.  135000.   58987.   79647.6\n",
      "  71162.  112555.  105332.   22562.2 116569.2 105332.  105332.   86526.8\n",
      "  52811.8 120755.4 213184.  220488.4  89242.8  56089.8  62144.2  72848.\n",
      "  18560.4  87994.4  65679.  216003.2  86526.8  66002.8 120755.4 105332.\n",
      " 203783.2  90192.   88594.4  47190.  192002.8 187920.  112555.  164999.2\n",
      " 216003.2  21361.2  63888.6  86526.8  95850.   71204.6 105332.   97298.\n",
      "  68094.6  63710.4  43720.8 101914.  124738.2  86526.8 111625.6  71991.8\n",
      " 209820.   29509.8 220488.4  71162.   68094.6 120755.4  92626.  168400.\n",
      " 169053.6 200000.   96542.2 190932.8  52811.8  88594.4  34745.8 199427.2\n",
      "  71162.   22176.6  98567.6 170000.  185935.6  29642.6  55573.2  61718.\n",
      "  92790.   68094.6]\n"
     ]
    }
   ],
   "source": [
    "#denote intdependent variables with x\n",
    "X = df[['salary', 'remote_ratio']]\n",
    "#denote depedent variable\n",
    "y = df['salary_in_usd']\n",
    "\n",
    "X_train, X_test, y_train, y_test = train_test_split(X,y,test_size=0.20, random_state=10)\n",
    "\n",
    "# LR_model = LinearRegression()\n",
    "KNN = KNeighborsRegressor()\n",
    "\n",
    "KNN.fit(X_train, y_train)\n",
    "\n",
    "predictions = KNN.predict(X_test)\n",
    "\n",
    "print (mean_squared_error(y_test, predictions))\n",
    "print (predictions)"
   ]
  },
  {
   "cell_type": "code",
   "execution_count": 20,
   "id": "3a944801",
   "metadata": {},
   "outputs": [
    {
     "ename": "ValueError",
     "evalue": "Expected 2D array, got 1D array instead:\narray=[1 2].\nReshape your data either using array.reshape(-1, 1) if your data has a single feature or array.reshape(1, -1) if it contains a single sample.",
     "output_type": "error",
     "traceback": [
      "\u001b[1;31m---------------------------------------------------------------------------\u001b[0m",
      "\u001b[1;31mValueError\u001b[0m                                Traceback (most recent call last)",
      "Input \u001b[1;32mIn [20]\u001b[0m, in \u001b[0;36m<cell line: 10>\u001b[1;34m()\u001b[0m\n\u001b[0;32m      5\u001b[0m \u001b[38;5;66;03m# test = [[3,4],[5,6]]\u001b[39;00m\n\u001b[0;32m      6\u001b[0m \u001b[38;5;66;03m# test2 = [11,13,15,17]\u001b[39;00m\n\u001b[0;32m      8\u001b[0m LR_model \u001b[38;5;241m=\u001b[39m LinearRegression()\n\u001b[1;32m---> 10\u001b[0m \u001b[43mLR_model\u001b[49m\u001b[38;5;241;43m.\u001b[39;49m\u001b[43mfit\u001b[49m\u001b[43m(\u001b[49m\u001b[43mX\u001b[49m\u001b[43m,\u001b[49m\u001b[43m \u001b[49m\u001b[43my\u001b[49m\u001b[43m)\u001b[49m\n\u001b[0;32m     12\u001b[0m predictions \u001b[38;5;241m=\u001b[39m LR_model\u001b[38;5;241m.\u001b[39mpredict(X)\n\u001b[0;32m     14\u001b[0m \u001b[38;5;28mprint\u001b[39m (mean_squared_error(y, predictions))\n",
      "File \u001b[1;32m~\\anaconda3\\lib\\site-packages\\sklearn\\linear_model\\_base.py:662\u001b[0m, in \u001b[0;36mLinearRegression.fit\u001b[1;34m(self, X, y, sample_weight)\u001b[0m\n\u001b[0;32m    658\u001b[0m n_jobs_ \u001b[38;5;241m=\u001b[39m \u001b[38;5;28mself\u001b[39m\u001b[38;5;241m.\u001b[39mn_jobs\n\u001b[0;32m    660\u001b[0m accept_sparse \u001b[38;5;241m=\u001b[39m \u001b[38;5;28;01mFalse\u001b[39;00m \u001b[38;5;28;01mif\u001b[39;00m \u001b[38;5;28mself\u001b[39m\u001b[38;5;241m.\u001b[39mpositive \u001b[38;5;28;01melse\u001b[39;00m [\u001b[38;5;124m\"\u001b[39m\u001b[38;5;124mcsr\u001b[39m\u001b[38;5;124m\"\u001b[39m, \u001b[38;5;124m\"\u001b[39m\u001b[38;5;124mcsc\u001b[39m\u001b[38;5;124m\"\u001b[39m, \u001b[38;5;124m\"\u001b[39m\u001b[38;5;124mcoo\u001b[39m\u001b[38;5;124m\"\u001b[39m]\n\u001b[1;32m--> 662\u001b[0m X, y \u001b[38;5;241m=\u001b[39m \u001b[38;5;28;43mself\u001b[39;49m\u001b[38;5;241;43m.\u001b[39;49m\u001b[43m_validate_data\u001b[49m\u001b[43m(\u001b[49m\n\u001b[0;32m    663\u001b[0m \u001b[43m    \u001b[49m\u001b[43mX\u001b[49m\u001b[43m,\u001b[49m\u001b[43m \u001b[49m\u001b[43my\u001b[49m\u001b[43m,\u001b[49m\u001b[43m \u001b[49m\u001b[43maccept_sparse\u001b[49m\u001b[38;5;241;43m=\u001b[39;49m\u001b[43maccept_sparse\u001b[49m\u001b[43m,\u001b[49m\u001b[43m \u001b[49m\u001b[43my_numeric\u001b[49m\u001b[38;5;241;43m=\u001b[39;49m\u001b[38;5;28;43;01mTrue\u001b[39;49;00m\u001b[43m,\u001b[49m\u001b[43m \u001b[49m\u001b[43mmulti_output\u001b[49m\u001b[38;5;241;43m=\u001b[39;49m\u001b[38;5;28;43;01mTrue\u001b[39;49;00m\n\u001b[0;32m    664\u001b[0m \u001b[43m\u001b[49m\u001b[43m)\u001b[49m\n\u001b[0;32m    666\u001b[0m \u001b[38;5;28;01mif\u001b[39;00m sample_weight \u001b[38;5;129;01mis\u001b[39;00m \u001b[38;5;129;01mnot\u001b[39;00m \u001b[38;5;28;01mNone\u001b[39;00m:\n\u001b[0;32m    667\u001b[0m     sample_weight \u001b[38;5;241m=\u001b[39m _check_sample_weight(sample_weight, X, dtype\u001b[38;5;241m=\u001b[39mX\u001b[38;5;241m.\u001b[39mdtype)\n",
      "File \u001b[1;32m~\\anaconda3\\lib\\site-packages\\sklearn\\base.py:581\u001b[0m, in \u001b[0;36mBaseEstimator._validate_data\u001b[1;34m(self, X, y, reset, validate_separately, **check_params)\u001b[0m\n\u001b[0;32m    579\u001b[0m         y \u001b[38;5;241m=\u001b[39m check_array(y, \u001b[38;5;241m*\u001b[39m\u001b[38;5;241m*\u001b[39mcheck_y_params)\n\u001b[0;32m    580\u001b[0m     \u001b[38;5;28;01melse\u001b[39;00m:\n\u001b[1;32m--> 581\u001b[0m         X, y \u001b[38;5;241m=\u001b[39m check_X_y(X, y, \u001b[38;5;241m*\u001b[39m\u001b[38;5;241m*\u001b[39mcheck_params)\n\u001b[0;32m    582\u001b[0m     out \u001b[38;5;241m=\u001b[39m X, y\n\u001b[0;32m    584\u001b[0m \u001b[38;5;28;01mif\u001b[39;00m \u001b[38;5;129;01mnot\u001b[39;00m no_val_X \u001b[38;5;129;01mand\u001b[39;00m check_params\u001b[38;5;241m.\u001b[39mget(\u001b[38;5;124m\"\u001b[39m\u001b[38;5;124mensure_2d\u001b[39m\u001b[38;5;124m\"\u001b[39m, \u001b[38;5;28;01mTrue\u001b[39;00m):\n",
      "File \u001b[1;32m~\\anaconda3\\lib\\site-packages\\sklearn\\utils\\validation.py:964\u001b[0m, in \u001b[0;36mcheck_X_y\u001b[1;34m(X, y, accept_sparse, accept_large_sparse, dtype, order, copy, force_all_finite, ensure_2d, allow_nd, multi_output, ensure_min_samples, ensure_min_features, y_numeric, estimator)\u001b[0m\n\u001b[0;32m    961\u001b[0m \u001b[38;5;28;01mif\u001b[39;00m y \u001b[38;5;129;01mis\u001b[39;00m \u001b[38;5;28;01mNone\u001b[39;00m:\n\u001b[0;32m    962\u001b[0m     \u001b[38;5;28;01mraise\u001b[39;00m \u001b[38;5;167;01mValueError\u001b[39;00m(\u001b[38;5;124m\"\u001b[39m\u001b[38;5;124my cannot be None\u001b[39m\u001b[38;5;124m\"\u001b[39m)\n\u001b[1;32m--> 964\u001b[0m X \u001b[38;5;241m=\u001b[39m \u001b[43mcheck_array\u001b[49m\u001b[43m(\u001b[49m\n\u001b[0;32m    965\u001b[0m \u001b[43m    \u001b[49m\u001b[43mX\u001b[49m\u001b[43m,\u001b[49m\n\u001b[0;32m    966\u001b[0m \u001b[43m    \u001b[49m\u001b[43maccept_sparse\u001b[49m\u001b[38;5;241;43m=\u001b[39;49m\u001b[43maccept_sparse\u001b[49m\u001b[43m,\u001b[49m\n\u001b[0;32m    967\u001b[0m \u001b[43m    \u001b[49m\u001b[43maccept_large_sparse\u001b[49m\u001b[38;5;241;43m=\u001b[39;49m\u001b[43maccept_large_sparse\u001b[49m\u001b[43m,\u001b[49m\n\u001b[0;32m    968\u001b[0m \u001b[43m    \u001b[49m\u001b[43mdtype\u001b[49m\u001b[38;5;241;43m=\u001b[39;49m\u001b[43mdtype\u001b[49m\u001b[43m,\u001b[49m\n\u001b[0;32m    969\u001b[0m \u001b[43m    \u001b[49m\u001b[43morder\u001b[49m\u001b[38;5;241;43m=\u001b[39;49m\u001b[43morder\u001b[49m\u001b[43m,\u001b[49m\n\u001b[0;32m    970\u001b[0m \u001b[43m    \u001b[49m\u001b[43mcopy\u001b[49m\u001b[38;5;241;43m=\u001b[39;49m\u001b[43mcopy\u001b[49m\u001b[43m,\u001b[49m\n\u001b[0;32m    971\u001b[0m \u001b[43m    \u001b[49m\u001b[43mforce_all_finite\u001b[49m\u001b[38;5;241;43m=\u001b[39;49m\u001b[43mforce_all_finite\u001b[49m\u001b[43m,\u001b[49m\n\u001b[0;32m    972\u001b[0m \u001b[43m    \u001b[49m\u001b[43mensure_2d\u001b[49m\u001b[38;5;241;43m=\u001b[39;49m\u001b[43mensure_2d\u001b[49m\u001b[43m,\u001b[49m\n\u001b[0;32m    973\u001b[0m \u001b[43m    \u001b[49m\u001b[43mallow_nd\u001b[49m\u001b[38;5;241;43m=\u001b[39;49m\u001b[43mallow_nd\u001b[49m\u001b[43m,\u001b[49m\n\u001b[0;32m    974\u001b[0m \u001b[43m    \u001b[49m\u001b[43mensure_min_samples\u001b[49m\u001b[38;5;241;43m=\u001b[39;49m\u001b[43mensure_min_samples\u001b[49m\u001b[43m,\u001b[49m\n\u001b[0;32m    975\u001b[0m \u001b[43m    \u001b[49m\u001b[43mensure_min_features\u001b[49m\u001b[38;5;241;43m=\u001b[39;49m\u001b[43mensure_min_features\u001b[49m\u001b[43m,\u001b[49m\n\u001b[0;32m    976\u001b[0m \u001b[43m    \u001b[49m\u001b[43mestimator\u001b[49m\u001b[38;5;241;43m=\u001b[39;49m\u001b[43mestimator\u001b[49m\u001b[43m,\u001b[49m\n\u001b[0;32m    977\u001b[0m \u001b[43m\u001b[49m\u001b[43m)\u001b[49m\n\u001b[0;32m    979\u001b[0m y \u001b[38;5;241m=\u001b[39m _check_y(y, multi_output\u001b[38;5;241m=\u001b[39mmulti_output, y_numeric\u001b[38;5;241m=\u001b[39my_numeric)\n\u001b[0;32m    981\u001b[0m check_consistent_length(X, y)\n",
      "File \u001b[1;32m~\\anaconda3\\lib\\site-packages\\sklearn\\utils\\validation.py:769\u001b[0m, in \u001b[0;36mcheck_array\u001b[1;34m(array, accept_sparse, accept_large_sparse, dtype, order, copy, force_all_finite, ensure_2d, allow_nd, ensure_min_samples, ensure_min_features, estimator)\u001b[0m\n\u001b[0;32m    767\u001b[0m     \u001b[38;5;66;03m# If input is 1D raise error\u001b[39;00m\n\u001b[0;32m    768\u001b[0m     \u001b[38;5;28;01mif\u001b[39;00m array\u001b[38;5;241m.\u001b[39mndim \u001b[38;5;241m==\u001b[39m \u001b[38;5;241m1\u001b[39m:\n\u001b[1;32m--> 769\u001b[0m         \u001b[38;5;28;01mraise\u001b[39;00m \u001b[38;5;167;01mValueError\u001b[39;00m(\n\u001b[0;32m    770\u001b[0m             \u001b[38;5;124m\"\u001b[39m\u001b[38;5;124mExpected 2D array, got 1D array instead:\u001b[39m\u001b[38;5;130;01m\\n\u001b[39;00m\u001b[38;5;124marray=\u001b[39m\u001b[38;5;132;01m{}\u001b[39;00m\u001b[38;5;124m.\u001b[39m\u001b[38;5;130;01m\\n\u001b[39;00m\u001b[38;5;124m\"\u001b[39m\n\u001b[0;32m    771\u001b[0m             \u001b[38;5;124m\"\u001b[39m\u001b[38;5;124mReshape your data either using array.reshape(-1, 1) if \u001b[39m\u001b[38;5;124m\"\u001b[39m\n\u001b[0;32m    772\u001b[0m             \u001b[38;5;124m\"\u001b[39m\u001b[38;5;124myour data has a single feature or array.reshape(1, -1) \u001b[39m\u001b[38;5;124m\"\u001b[39m\n\u001b[0;32m    773\u001b[0m             \u001b[38;5;124m\"\u001b[39m\u001b[38;5;124mif it contains a single sample.\u001b[39m\u001b[38;5;124m\"\u001b[39m\u001b[38;5;241m.\u001b[39mformat(array)\n\u001b[0;32m    774\u001b[0m         )\n\u001b[0;32m    776\u001b[0m \u001b[38;5;66;03m# make sure we actually converted to numeric:\u001b[39;00m\n\u001b[0;32m    777\u001b[0m \u001b[38;5;28;01mif\u001b[39;00m dtype_numeric \u001b[38;5;129;01mand\u001b[39;00m array\u001b[38;5;241m.\u001b[39mdtype\u001b[38;5;241m.\u001b[39mkind \u001b[38;5;129;01min\u001b[39;00m \u001b[38;5;124m\"\u001b[39m\u001b[38;5;124mOUSV\u001b[39m\u001b[38;5;124m\"\u001b[39m:\n",
      "\u001b[1;31mValueError\u001b[0m: Expected 2D array, got 1D array instead:\narray=[1 2].\nReshape your data either using array.reshape(-1, 1) if your data has a single feature or array.reshape(1, -1) if it contains a single sample."
     ]
    }
   ],
   "source": [
    "data =  [[1,1],[2,3]]\n",
    "X = [row[0] for row in data]\n",
    "y = [row[0] for row in data]\n",
    "\n",
    "# test = [[3,4],[5,6]]\n",
    "# test2 = [11,13,15,17]\n",
    "\n",
    "LR_model = LinearRegression()\n",
    "\n",
    "LR_model.fit(X, y)\n",
    "\n",
    "predictions = LR_model.predict(X)\n",
    "\n",
    "print (mean_squared_error(y, predictions))"
   ]
  },
  {
   "cell_type": "code",
   "execution_count": 11,
   "id": "3e93e61e",
   "metadata": {},
   "outputs": [
    {
     "data": {
      "text/html": [
       "<div>\n",
       "<style scoped>\n",
       "    .dataframe tbody tr th:only-of-type {\n",
       "        vertical-align: middle;\n",
       "    }\n",
       "\n",
       "    .dataframe tbody tr th {\n",
       "        vertical-align: top;\n",
       "    }\n",
       "\n",
       "    .dataframe thead th {\n",
       "        text-align: right;\n",
       "    }\n",
       "</style>\n",
       "<table border=\"1\" class=\"dataframe\">\n",
       "  <thead>\n",
       "    <tr style=\"text-align: right;\">\n",
       "      <th></th>\n",
       "      <th>Work Year</th>\n",
       "      <th>Experience Level</th>\n",
       "      <th>Employment Type</th>\n",
       "      <th>Job Title</th>\n",
       "      <th>Salary in Dollars</th>\n",
       "      <th>Employee Residence</th>\n",
       "      <th>Remote Ratio</th>\n",
       "      <th>Company Location</th>\n",
       "      <th>Company Size</th>\n",
       "      <th>Salary with currency</th>\n",
       "    </tr>\n",
       "  </thead>\n",
       "  <tbody>\n",
       "    <tr>\n",
       "      <th>0</th>\n",
       "      <td>2020</td>\n",
       "      <td>Intermediate</td>\n",
       "      <td>Full Time</td>\n",
       "      <td>Data Scientist</td>\n",
       "      <td>79833</td>\n",
       "      <td>Germany</td>\n",
       "      <td>No Remote Work</td>\n",
       "      <td>Germany</td>\n",
       "      <td>Large (More than 250)</td>\n",
       "      <td>EUR 70000</td>\n",
       "    </tr>\n",
       "    <tr>\n",
       "      <th>1</th>\n",
       "      <td>2020</td>\n",
       "      <td>Senior Level</td>\n",
       "      <td>Full Time</td>\n",
       "      <td>Machine Learning Scientist</td>\n",
       "      <td>260000</td>\n",
       "      <td>Japan</td>\n",
       "      <td>No Remote Work</td>\n",
       "      <td>Japan</td>\n",
       "      <td>Small (Less than 50)</td>\n",
       "      <td>USD 260000</td>\n",
       "    </tr>\n",
       "    <tr>\n",
       "      <th>2</th>\n",
       "      <td>2020</td>\n",
       "      <td>Senior Level</td>\n",
       "      <td>Full Time</td>\n",
       "      <td>Big Data Engineer</td>\n",
       "      <td>109024</td>\n",
       "      <td>Great Britain</td>\n",
       "      <td>Partially Remote</td>\n",
       "      <td>Great Britain</td>\n",
       "      <td>Medium (50-250)</td>\n",
       "      <td>GBP 85000</td>\n",
       "    </tr>\n",
       "    <tr>\n",
       "      <th>3</th>\n",
       "      <td>2020</td>\n",
       "      <td>Intermediate</td>\n",
       "      <td>Full Time</td>\n",
       "      <td>Product Data Analyst</td>\n",
       "      <td>20000</td>\n",
       "      <td>Honduras</td>\n",
       "      <td>No Remote Work</td>\n",
       "      <td>Honduras</td>\n",
       "      <td>Small (Less than 50)</td>\n",
       "      <td>USD 20000</td>\n",
       "    </tr>\n",
       "    <tr>\n",
       "      <th>4</th>\n",
       "      <td>2020</td>\n",
       "      <td>Senior Level</td>\n",
       "      <td>Full Time</td>\n",
       "      <td>Machine Learning Engineer</td>\n",
       "      <td>150000</td>\n",
       "      <td>United States of America</td>\n",
       "      <td>Partially Remote</td>\n",
       "      <td>United States of America</td>\n",
       "      <td>Large (More than 250)</td>\n",
       "      <td>USD 150000</td>\n",
       "    </tr>\n",
       "    <tr>\n",
       "      <th>...</th>\n",
       "      <td>...</td>\n",
       "      <td>...</td>\n",
       "      <td>...</td>\n",
       "      <td>...</td>\n",
       "      <td>...</td>\n",
       "      <td>...</td>\n",
       "      <td>...</td>\n",
       "      <td>...</td>\n",
       "      <td>...</td>\n",
       "      <td>...</td>\n",
       "    </tr>\n",
       "    <tr>\n",
       "      <th>560</th>\n",
       "      <td>2022</td>\n",
       "      <td>Senior Level</td>\n",
       "      <td>Full Time</td>\n",
       "      <td>Data Engineer</td>\n",
       "      <td>154000</td>\n",
       "      <td>United States of America</td>\n",
       "      <td>Fully Remote</td>\n",
       "      <td>United States of America</td>\n",
       "      <td>Medium (50-250)</td>\n",
       "      <td>USD 154000</td>\n",
       "    </tr>\n",
       "    <tr>\n",
       "      <th>561</th>\n",
       "      <td>2022</td>\n",
       "      <td>Senior Level</td>\n",
       "      <td>Full Time</td>\n",
       "      <td>Data Engineer</td>\n",
       "      <td>126000</td>\n",
       "      <td>United States of America</td>\n",
       "      <td>Fully Remote</td>\n",
       "      <td>United States of America</td>\n",
       "      <td>Medium (50-250)</td>\n",
       "      <td>USD 126000</td>\n",
       "    </tr>\n",
       "    <tr>\n",
       "      <th>562</th>\n",
       "      <td>2022</td>\n",
       "      <td>Senior Level</td>\n",
       "      <td>Full Time</td>\n",
       "      <td>Data Analyst</td>\n",
       "      <td>129000</td>\n",
       "      <td>United States of America</td>\n",
       "      <td>No Remote Work</td>\n",
       "      <td>United States of America</td>\n",
       "      <td>Medium (50-250)</td>\n",
       "      <td>USD 129000</td>\n",
       "    </tr>\n",
       "    <tr>\n",
       "      <th>563</th>\n",
       "      <td>2022</td>\n",
       "      <td>Senior Level</td>\n",
       "      <td>Full Time</td>\n",
       "      <td>Data Analyst</td>\n",
       "      <td>150000</td>\n",
       "      <td>United States of America</td>\n",
       "      <td>Fully Remote</td>\n",
       "      <td>United States of America</td>\n",
       "      <td>Medium (50-250)</td>\n",
       "      <td>USD 150000</td>\n",
       "    </tr>\n",
       "    <tr>\n",
       "      <th>564</th>\n",
       "      <td>2022</td>\n",
       "      <td>Intermediate</td>\n",
       "      <td>Full Time</td>\n",
       "      <td>AI Scientist</td>\n",
       "      <td>200000</td>\n",
       "      <td>India</td>\n",
       "      <td>Fully Remote</td>\n",
       "      <td>United States of America</td>\n",
       "      <td>Large (More than 250)</td>\n",
       "      <td>USD 200000</td>\n",
       "    </tr>\n",
       "  </tbody>\n",
       "</table>\n",
       "<p>565 rows × 10 columns</p>\n",
       "</div>"
      ],
      "text/plain": [
       "     Work Year Experience Level Employment Type                   Job Title  \\\n",
       "0         2020     Intermediate       Full Time              Data Scientist   \n",
       "1         2020     Senior Level       Full Time  Machine Learning Scientist   \n",
       "2         2020     Senior Level       Full Time           Big Data Engineer   \n",
       "3         2020     Intermediate       Full Time        Product Data Analyst   \n",
       "4         2020     Senior Level       Full Time   Machine Learning Engineer   \n",
       "..         ...              ...             ...                         ...   \n",
       "560       2022     Senior Level       Full Time               Data Engineer   \n",
       "561       2022     Senior Level       Full Time               Data Engineer   \n",
       "562       2022     Senior Level       Full Time                Data Analyst   \n",
       "563       2022     Senior Level       Full Time                Data Analyst   \n",
       "564       2022     Intermediate       Full Time                AI Scientist   \n",
       "\n",
       "     Salary in Dollars        Employee Residence      Remote Ratio  \\\n",
       "0                79833                   Germany    No Remote Work   \n",
       "1               260000                     Japan    No Remote Work   \n",
       "2               109024             Great Britain  Partially Remote   \n",
       "3                20000                  Honduras    No Remote Work   \n",
       "4               150000  United States of America  Partially Remote   \n",
       "..                 ...                       ...               ...   \n",
       "560             154000  United States of America      Fully Remote   \n",
       "561             126000  United States of America      Fully Remote   \n",
       "562             129000  United States of America    No Remote Work   \n",
       "563             150000  United States of America      Fully Remote   \n",
       "564             200000                     India      Fully Remote   \n",
       "\n",
       "             Company Location           Company Size Salary with currency  \n",
       "0                     Germany  Large (More than 250)            EUR 70000  \n",
       "1                       Japan   Small (Less than 50)           USD 260000  \n",
       "2               Great Britain        Medium (50-250)            GBP 85000  \n",
       "3                    Honduras   Small (Less than 50)            USD 20000  \n",
       "4    United States of America  Large (More than 250)           USD 150000  \n",
       "..                        ...                    ...                  ...  \n",
       "560  United States of America        Medium (50-250)           USD 154000  \n",
       "561  United States of America        Medium (50-250)           USD 126000  \n",
       "562  United States of America        Medium (50-250)           USD 129000  \n",
       "563  United States of America        Medium (50-250)           USD 150000  \n",
       "564  United States of America  Large (More than 250)           USD 200000  \n",
       "\n",
       "[565 rows x 10 columns]"
      ]
     },
     "execution_count": 11,
     "metadata": {},
     "output_type": "execute_result"
    }
   ],
   "source": [
    "import numpy as np\n",
    "import pandas as pd \n",
    "salary_data = \"C:/Users/HP/Downloads/Data_Scientist_Salaries.csv\"\n",
    "df_salary = pd.read_csv(salary_data)\n",
    "df_salary\n"
   ]
  },
  {
   "cell_type": "code",
   "execution_count": 12,
   "id": "977794e5",
   "metadata": {},
   "outputs": [
    {
     "data": {
      "text/html": [
       "<div>\n",
       "<style scoped>\n",
       "    .dataframe tbody tr th:only-of-type {\n",
       "        vertical-align: middle;\n",
       "    }\n",
       "\n",
       "    .dataframe tbody tr th {\n",
       "        vertical-align: top;\n",
       "    }\n",
       "\n",
       "    .dataframe thead th {\n",
       "        text-align: right;\n",
       "    }\n",
       "</style>\n",
       "<table border=\"1\" class=\"dataframe\">\n",
       "  <thead>\n",
       "    <tr style=\"text-align: right;\">\n",
       "      <th></th>\n",
       "      <th>Experience Level</th>\n",
       "      <th>Job Title</th>\n",
       "    </tr>\n",
       "  </thead>\n",
       "  <tbody>\n",
       "    <tr>\n",
       "      <th>0</th>\n",
       "      <td>Intermediate</td>\n",
       "      <td>Data Scientist</td>\n",
       "    </tr>\n",
       "    <tr>\n",
       "      <th>1</th>\n",
       "      <td>Senior Level</td>\n",
       "      <td>Machine Learning Scientist</td>\n",
       "    </tr>\n",
       "    <tr>\n",
       "      <th>2</th>\n",
       "      <td>Senior Level</td>\n",
       "      <td>Big Data Engineer</td>\n",
       "    </tr>\n",
       "    <tr>\n",
       "      <th>3</th>\n",
       "      <td>Intermediate</td>\n",
       "      <td>Product Data Analyst</td>\n",
       "    </tr>\n",
       "    <tr>\n",
       "      <th>4</th>\n",
       "      <td>Senior Level</td>\n",
       "      <td>Machine Learning Engineer</td>\n",
       "    </tr>\n",
       "    <tr>\n",
       "      <th>...</th>\n",
       "      <td>...</td>\n",
       "      <td>...</td>\n",
       "    </tr>\n",
       "    <tr>\n",
       "      <th>560</th>\n",
       "      <td>Senior Level</td>\n",
       "      <td>Data Engineer</td>\n",
       "    </tr>\n",
       "    <tr>\n",
       "      <th>561</th>\n",
       "      <td>Senior Level</td>\n",
       "      <td>Data Engineer</td>\n",
       "    </tr>\n",
       "    <tr>\n",
       "      <th>562</th>\n",
       "      <td>Senior Level</td>\n",
       "      <td>Data Analyst</td>\n",
       "    </tr>\n",
       "    <tr>\n",
       "      <th>563</th>\n",
       "      <td>Senior Level</td>\n",
       "      <td>Data Analyst</td>\n",
       "    </tr>\n",
       "    <tr>\n",
       "      <th>564</th>\n",
       "      <td>Intermediate</td>\n",
       "      <td>AI Scientist</td>\n",
       "    </tr>\n",
       "  </tbody>\n",
       "</table>\n",
       "<p>565 rows × 2 columns</p>\n",
       "</div>"
      ],
      "text/plain": [
       "    Experience Level                   Job Title\n",
       "0       Intermediate              Data Scientist\n",
       "1       Senior Level  Machine Learning Scientist\n",
       "2       Senior Level           Big Data Engineer\n",
       "3       Intermediate        Product Data Analyst\n",
       "4       Senior Level   Machine Learning Engineer\n",
       "..               ...                         ...\n",
       "560     Senior Level               Data Engineer\n",
       "561     Senior Level               Data Engineer\n",
       "562     Senior Level                Data Analyst\n",
       "563     Senior Level                Data Analyst\n",
       "564     Intermediate                AI Scientist\n",
       "\n",
       "[565 rows x 2 columns]"
      ]
     },
     "execution_count": 12,
     "metadata": {},
     "output_type": "execute_result"
    }
   ],
   "source": [
    "df_two_columns = df_salary[['Experience Level', 'Job Title']]\n",
    "df_two_columns"
   ]
  },
  {
   "cell_type": "code",
   "execution_count": 15,
   "id": "037f8085",
   "metadata": {},
   "outputs": [],
   "source": [
    "job_name = ['Data Scientist', 'Data Analyst', 'AI Scientist']\n",
    "new_column = df_two_columns[np.logical_not(df_two_columns['Job Title'].isin(job_name))]"
   ]
  },
  {
   "cell_type": "code",
   "execution_count": 16,
   "id": "0527b6df",
   "metadata": {},
   "outputs": [
    {
     "data": {
      "text/html": [
       "<div>\n",
       "<style scoped>\n",
       "    .dataframe tbody tr th:only-of-type {\n",
       "        vertical-align: middle;\n",
       "    }\n",
       "\n",
       "    .dataframe tbody tr th {\n",
       "        vertical-align: top;\n",
       "    }\n",
       "\n",
       "    .dataframe thead th {\n",
       "        text-align: right;\n",
       "    }\n",
       "</style>\n",
       "<table border=\"1\" class=\"dataframe\">\n",
       "  <thead>\n",
       "    <tr style=\"text-align: right;\">\n",
       "      <th></th>\n",
       "      <th>Experience Level</th>\n",
       "      <th>Job Title</th>\n",
       "    </tr>\n",
       "  </thead>\n",
       "  <tbody>\n",
       "    <tr>\n",
       "      <th>1</th>\n",
       "      <td>Senior Level</td>\n",
       "      <td>Machine Learning Scientist</td>\n",
       "    </tr>\n",
       "    <tr>\n",
       "      <th>2</th>\n",
       "      <td>Senior Level</td>\n",
       "      <td>Big Data Engineer</td>\n",
       "    </tr>\n",
       "    <tr>\n",
       "      <th>3</th>\n",
       "      <td>Intermediate</td>\n",
       "      <td>Product Data Analyst</td>\n",
       "    </tr>\n",
       "    <tr>\n",
       "      <th>4</th>\n",
       "      <td>Senior Level</td>\n",
       "      <td>Machine Learning Engineer</td>\n",
       "    </tr>\n",
       "    <tr>\n",
       "      <th>6</th>\n",
       "      <td>Senior Level</td>\n",
       "      <td>Lead Data Scientist</td>\n",
       "    </tr>\n",
       "    <tr>\n",
       "      <th>...</th>\n",
       "      <td>...</td>\n",
       "      <td>...</td>\n",
       "    </tr>\n",
       "    <tr>\n",
       "      <th>552</th>\n",
       "      <td>Senior Level</td>\n",
       "      <td>Data Architect</td>\n",
       "    </tr>\n",
       "    <tr>\n",
       "      <th>554</th>\n",
       "      <td>Senior Level</td>\n",
       "      <td>Data Analytics Manager</td>\n",
       "    </tr>\n",
       "    <tr>\n",
       "      <th>555</th>\n",
       "      <td>Senior Level</td>\n",
       "      <td>Data Analytics Manager</td>\n",
       "    </tr>\n",
       "    <tr>\n",
       "      <th>560</th>\n",
       "      <td>Senior Level</td>\n",
       "      <td>Data Engineer</td>\n",
       "    </tr>\n",
       "    <tr>\n",
       "      <th>561</th>\n",
       "      <td>Senior Level</td>\n",
       "      <td>Data Engineer</td>\n",
       "    </tr>\n",
       "  </tbody>\n",
       "</table>\n",
       "<p>346 rows × 2 columns</p>\n",
       "</div>"
      ],
      "text/plain": [
       "    Experience Level                   Job Title\n",
       "1       Senior Level  Machine Learning Scientist\n",
       "2       Senior Level           Big Data Engineer\n",
       "3       Intermediate        Product Data Analyst\n",
       "4       Senior Level   Machine Learning Engineer\n",
       "6       Senior Level         Lead Data Scientist\n",
       "..               ...                         ...\n",
       "552     Senior Level              Data Architect\n",
       "554     Senior Level      Data Analytics Manager\n",
       "555     Senior Level      Data Analytics Manager\n",
       "560     Senior Level               Data Engineer\n",
       "561     Senior Level               Data Engineer\n",
       "\n",
       "[346 rows x 2 columns]"
      ]
     },
     "execution_count": 16,
     "metadata": {},
     "output_type": "execute_result"
    }
   ],
   "source": [
    "new_column"
   ]
  },
  {
   "cell_type": "code",
   "execution_count": null,
   "id": "134a2405",
   "metadata": {},
   "outputs": [],
   "source": []
  }
 ],
 "metadata": {
  "kernelspec": {
   "display_name": "Python 3 (ipykernel)",
   "language": "python",
   "name": "python3"
  },
  "language_info": {
   "codemirror_mode": {
    "name": "ipython",
    "version": 3
   },
   "file_extension": ".py",
   "mimetype": "text/x-python",
   "name": "python",
   "nbconvert_exporter": "python",
   "pygments_lexer": "ipython3",
   "version": "3.9.12"
  }
 },
 "nbformat": 4,
 "nbformat_minor": 5
}
