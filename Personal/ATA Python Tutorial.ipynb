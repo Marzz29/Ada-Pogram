{
 "cells": [
  {
   "cell_type": "code",
   "execution_count": 2,
   "id": "efe73803",
   "metadata": {},
   "outputs": [
    {
     "name": "stdout",
     "output_type": "stream",
     "text": [
      "Hello World\n"
     ]
    }
   ],
   "source": [
    "print('Hello World')"
   ]
  },
  {
   "cell_type": "markdown",
   "id": "9b2d8d39",
   "metadata": {},
   "source": [
    "This command prints Hello world"
   ]
  },
  {
   "cell_type": "markdown",
   "id": "fed8ee50",
   "metadata": {},
   "source": [
    "# Variables in Python\n",
    "- A container for storing data values. It can be a string or an integer assigned to a variable.\n",
    "- This is effective with the use of = sign which means assignment in python.\n",
    "- When you use a variable, you do not have to also assign its data type.\n",
    "- You can overwrite an existing variable.\n",
    "- Variables are case sensitive, if lowercase y is assigned to something and uppercase Y is also assigned to the same thing, those two things are not the same.\n",
    "- Multiple values can be assigned to multiple variables.\n",
    "- Multiple variables can be assigned to a single value.\n",
    "- Variables can be assigned to lists, dictionaries, tuples, and sets."
   ]
  },
  {
   "cell_type": "code",
   "execution_count": 3,
   "id": "260494a2",
   "metadata": {},
   "outputs": [
    {
     "name": "stdout",
     "output_type": "stream",
     "text": [
      "22\n"
     ]
    }
   ],
   "source": [
    "x = 22\n",
    "\n",
    "print(x)"
   ]
  },
  {
   "cell_type": "code",
   "execution_count": 4,
   "id": "786b6372",
   "metadata": {},
   "outputs": [
    {
     "data": {
      "text/plain": [
       "int"
      ]
     },
     "execution_count": 4,
     "metadata": {},
     "output_type": "execute_result"
    }
   ],
   "source": [
    "type(x)"
   ]
  },
  {
   "cell_type": "code",
   "execution_count": 5,
   "id": "cf67c6f4",
   "metadata": {},
   "outputs": [
    {
     "name": "stdout",
     "output_type": "stream",
     "text": [
      "Mint Chocolate Chip\n"
     ]
    }
   ],
   "source": [
    "y = 'Mint Chocolate Chip'\n",
    "\n",
    "print(y)"
   ]
  },
  {
   "cell_type": "code",
   "execution_count": null,
   "id": "4ee5471a",
   "metadata": {},
   "outputs": [],
   "source": []
  },
  {
   "cell_type": "code",
   "execution_count": 6,
   "id": "c02bf1c2",
   "metadata": {},
   "outputs": [
    {
     "data": {
      "text/plain": [
       "str"
      ]
     },
     "execution_count": 6,
     "metadata": {},
     "output_type": "execute_result"
    }
   ],
   "source": [
    "type(y)"
   ]
  },
  {
   "cell_type": "code",
   "execution_count": 7,
   "id": "fd9e8fcd",
   "metadata": {},
   "outputs": [
    {
     "name": "stdout",
     "output_type": "stream",
     "text": [
      "Mint Chocolate Chip\n"
     ]
    }
   ],
   "source": [
    "y = 'Chocolate'\n",
    "\n",
    "y = 'Mint Chocolate Chip'\n",
    "\n",
    "print(y)"
   ]
  },
  {
   "cell_type": "code",
   "execution_count": 8,
   "id": "d176dca2",
   "metadata": {},
   "outputs": [
    {
     "name": "stdout",
     "output_type": "stream",
     "text": [
      "Mint Chocolate Chip\n"
     ]
    }
   ],
   "source": [
    "y = 'Chocolate'\n",
    "\n",
    "Y = 'Mint Chocolate Chip'\n",
    "\n",
    "print(Y)"
   ]
  },
  {
   "cell_type": "code",
   "execution_count": 9,
   "id": "0aa86d2c",
   "metadata": {},
   "outputs": [
    {
     "name": "stdout",
     "output_type": "stream",
     "text": [
      "Chocolate\n",
      "Vanilla\n",
      "Rocky Road\n"
     ]
    }
   ],
   "source": [
    "x,y,z = 'Chocolate', 'Vanilla', 'Rocky Road'\n",
    "\n",
    "print(x)\n",
    "print(y)\n",
    "print(z)"
   ]
  },
  {
   "cell_type": "code",
   "execution_count": 10,
   "id": "3851d849",
   "metadata": {
    "scrolled": true
   },
   "outputs": [
    {
     "name": "stdout",
     "output_type": "stream",
     "text": [
      "Root Beer Float\n",
      "Root Beer Float\n",
      "Root Beer Float\n"
     ]
    }
   ],
   "source": [
    "x = y = z = 'Root Beer Float'\n",
    "\n",
    "print(x)\n",
    "print(y)\n",
    "print(z)"
   ]
  },
  {
   "cell_type": "markdown",
   "id": "5d9a4159",
   "metadata": {},
   "source": [
    "# List\n",
    "- This cell contains a list. \n",
    "- A list is denoted in square brackets.\n",
    "- They can also be contained in a variable. In this example, the variable is ice-cream. Then we contained the variable ice_cream in another variable x,y,z."
   ]
  },
  {
   "cell_type": "code",
   "execution_count": 11,
   "id": "855663ce",
   "metadata": {},
   "outputs": [
    {
     "name": "stdout",
     "output_type": "stream",
     "text": [
      "Chocolate\n",
      "Vanilla\n",
      "Rocky Road\n"
     ]
    }
   ],
   "source": [
    "ice_cream = ['Chocolate', 'Vanilla', 'Rocky Road']\n",
    "\n",
    "x,y,z = ice_cream\n",
    "\n",
    "print(x)\n",
    "print(y)\n",
    "print(z)"
   ]
  },
  {
   "cell_type": "code",
   "execution_count": 23,
   "id": "70d666d5",
   "metadata": {},
   "outputs": [
    {
     "data": {
      "text/plain": [
       "['Chocolate',\n",
       " 'Vanilla',\n",
       " 'Strawberry',\n",
       " 'Strawberry',\n",
       " 'Butter Pecan',\n",
       " 'Butter Pecan',\n",
       " 'Butter Pecan']"
      ]
     },
     "execution_count": 23,
     "metadata": {},
     "output_type": "execute_result"
    }
   ],
   "source": [
    "ice_cream.append('Butter Pecan') #insert a new item at the back\n",
    "\n",
    "ice_cream[2] = 'Strawberry' #Change the item in a list\n",
    "\n",
    "ice_cream"
   ]
  },
  {
   "cell_type": "code",
   "execution_count": 31,
   "id": "9f91df70",
   "metadata": {},
   "outputs": [
    {
     "data": {
      "text/plain": [
       "'violet'"
      ]
     },
     "execution_count": 31,
     "metadata": {},
     "output_type": "execute_result"
    }
   ],
   "source": [
    "#You can also have a nested list\n",
    "rainbow = ['red', 'orange', 'yellow', 'green', 'blue', ['indigo', 'violet']]\n",
    "\n",
    "#To access the item in a list\n",
    "rainbow[0] #Lists use zero-based indexing so it would take 0 as the first item\n",
    "\n",
    "rainbow[:5] #this is used to access a range in the list with 0 being the default\n",
    "\n",
    "rainbow[2:4] #you can also input a starting range yourself\n",
    "\n",
    "rainbow[5][1] #You can also access a list within a list\n"
   ]
  },
  {
   "attachments": {},
   "cell_type": "markdown",
   "id": "b65d5384",
   "metadata": {},
   "source": [
    "# Tuples\n",
    "- Tuples are immutable which means it can not be modified or changed after it is created"
   ]
  },
  {
   "cell_type": "code",
   "execution_count": 33,
   "id": "e0d1f7df",
   "metadata": {},
   "outputs": [],
   "source": [
    "scoops = (1,2,3,2,1) #Tuples are created with parentheses"
   ]
  },
  {
   "cell_type": "code",
   "execution_count": 34,
   "id": "d6e862b7",
   "metadata": {},
   "outputs": [
    {
     "data": {
      "text/plain": [
       "1"
      ]
     },
     "execution_count": 34,
     "metadata": {},
     "output_type": "execute_result"
    }
   ],
   "source": [
    "scoops[0] #You can access tuples with indexing\n",
    "# Tuples would be used when data is not going to be changed e.g city name, country, or location"
   ]
  },
  {
   "attachments": {},
   "cell_type": "markdown",
   "id": "99d3cb1b",
   "metadata": {},
   "source": [
    "# Sets\n",
    "- No duplicate elements\n",
    "- Values ina set can not be accessed using index because it doesn't have an index because it is unordered.\n",
    "- Items can be accessed using the for loop"
   ]
  },
  {
   "cell_type": "code",
   "execution_count": 39,
   "id": "0ae94d4b",
   "metadata": {},
   "outputs": [],
   "source": [
    "daily_pints = {1,2,3}\n",
    "\n",
    "daily_pints_log = {2,8,2,3,1,8,67,67,12,2,3,4,5,5,6,7,8}\n",
    "wifes_daily_pints_log = {1, 2, 3,4, 31, 3, 6, 5, 2, 1, 87, 54, 12}"
   ]
  },
  {
   "cell_type": "code",
   "execution_count": 36,
   "id": "94c3ad88",
   "metadata": {},
   "outputs": [
    {
     "name": "stdout",
     "output_type": "stream",
     "text": [
      "{1, 2, 67, 3, 4, 5, 6, 8, 7, 12}\n"
     ]
    }
   ],
   "source": [
    "print(daily_pints_log)"
   ]
  },
  {
   "cell_type": "code",
   "execution_count": 40,
   "id": "56fef984",
   "metadata": {},
   "outputs": [
    {
     "name": "stdout",
     "output_type": "stream",
     "text": [
      "{1, 2, 67, 3, 4, 5, 6, 8, 7, 12, 87, 31, 54}\n"
     ]
    }
   ],
   "source": [
    "#Compare the unique values of daily_pints_log and wifes_daily_pints_log\n",
    "print(daily_pints_log | wifes_daily_pints_log) \n",
    "# The pipe (|) symbol in the print statement would help combine the unique values in the two variables\n"
   ]
  },
  {
   "cell_type": "code",
   "execution_count": 41,
   "id": "94df0555",
   "metadata": {},
   "outputs": [
    {
     "name": "stdout",
     "output_type": "stream",
     "text": [
      "{1, 2, 3, 4, 5, 6, 12}\n"
     ]
    }
   ],
   "source": [
    "print(daily_pints_log & wifes_daily_pints_log)\n",
    "#The ampersand (&) symbol in the print statement would help bring out only the unique values that *matches*"
   ]
  },
  {
   "cell_type": "code",
   "execution_count": 44,
   "id": "59794c07",
   "metadata": {},
   "outputs": [
    {
     "name": "stdout",
     "output_type": "stream",
     "text": [
      "{8, 67, 7}\n",
      "{31, 54, 87}\n",
      "{67, 8, 7, 54, 87, 31}\n"
     ]
    }
   ],
   "source": [
    "print(daily_pints_log - wifes_daily_pints_log)\n",
    "#The minus(-) symbol in the print statement would bring out the unique values that *do not match*\n",
    "# You would see that the values that do not match are not complete.This is because the position where each set variable is matters\n",
    "# Tis means the wifes set is being subtracted from the the dailys set\n",
    "# Let's reverse it\n",
    "print(wifes_daily_pints_log - daily_pints_log)\n",
    "# The caret (^) sign would print the values that do not match in both sets\n",
    "print(daily_pints_log ^ wifes_daily_pints_log)"
   ]
  },
  {
   "attachments": {},
   "cell_type": "markdown",
   "id": "4e26c6df",
   "metadata": {},
   "source": [
    "# Dictionaries\n",
    "- A dictionary has a key that indicates what that value is attributed too"
   ]
  },
  {
   "cell_type": "code",
   "execution_count": 45,
   "id": "590f8b0a",
   "metadata": {},
   "outputs": [],
   "source": [
    "cream = {'name': 'Alex', 'weekly intake': 5, 'favorite ice creams': ['MCC', 'Chocolate',]}"
   ]
  },
  {
   "cell_type": "code",
   "execution_count": 49,
   "id": "1a069af5",
   "metadata": {},
   "outputs": [
    {
     "data": {
      "text/plain": [
       "dict_items([('name', 'Alex'), ('weekly intake', 5), ('favorite ice creams', ['MCC', 'Chocolate'])])"
      ]
     },
     "execution_count": 49,
     "metadata": {},
     "output_type": "execute_result"
    }
   ],
   "source": [
    "# To show only the values in a dictionary\n",
    "cream.values()\n",
    "\n",
    "# To show only the keys in a dictionary\n",
    "cream.keys()\n",
    "\n",
    "# To show the items (Key value pairs) in a dictionary\n",
    "cream.items()"
   ]
  },
  {
   "cell_type": "code",
   "execution_count": 50,
   "id": "9943f4b3",
   "metadata": {},
   "outputs": [
    {
     "data": {
      "text/plain": [
       "'Alex'"
      ]
     },
     "execution_count": 50,
     "metadata": {},
     "output_type": "execute_result"
    }
   ],
   "source": [
    "# To access a dictionary, you have to call it by the key\n",
    "#'name' is the name of a key in the dictionary. This would print Alex as it is the value in the key\n",
    "cream['name']"
   ]
  },
  {
   "cell_type": "code",
   "execution_count": 52,
   "id": "9453dc93",
   "metadata": {},
   "outputs": [
    {
     "name": "stdout",
     "output_type": "stream",
     "text": [
      "{'name': 'Mariam', 'weekly intake': 5, 'favorite ice creams': ['MCC', 'Chocolate']}\n"
     ]
    }
   ],
   "source": [
    "# You can also update a dictionary\n",
    "cream['name'] = 'Mariam'\n",
    "\n",
    "print(cream)"
   ]
  },
  {
   "cell_type": "code",
   "execution_count": 55,
   "id": "4157dfac",
   "metadata": {},
   "outputs": [],
   "source": [
    "# You can also update all the values in a dictionary at once\n",
    "# This would only add to the dictionary and not subtract from it\n",
    "cream.update({'name': 'Mariam', 'weekly intake': 5, 'favorite ice creams': ['MCC', 'Chocolate'], 'weight': 300})"
   ]
  },
  {
   "cell_type": "markdown",
   "id": "0aafe899",
   "metadata": {},
   "source": [
    "# Naming your variables\n",
    "There are different ways people name their variables.\n",
    "- Camel Case\n",
    "- Pascal Case\n",
    "- Snake Case (The Best)\n",
    "Things that can't be used in your varialble names\n",
    "Numbers (especially at the beginning of the variable name because it would give an error), -, Commas, Space, period, /, = and this is because they won't work."
   ]
  },
  {
   "cell_type": "code",
   "execution_count": 13,
   "id": "6a469a61",
   "metadata": {},
   "outputs": [],
   "source": [
    "#Camel Case example\n",
    "#First word would be in lowercase and the beginning of the remainig words would be in uppercase\n",
    "testVariableCase = 'Vanilla Swirl'"
   ]
  },
  {
   "cell_type": "code",
   "execution_count": 14,
   "id": "357c9326",
   "metadata": {},
   "outputs": [],
   "source": [
    "#Pascal Case example\n",
    "#First word would be in uppercase\n",
    "TestVariableCase = 'Vanilla Swirl'"
   ]
  },
  {
   "cell_type": "code",
   "execution_count": 15,
   "id": "de20a673",
   "metadata": {},
   "outputs": [],
   "source": [
    "#Snake Case example\n",
    "#No capital letters used and seperate everything with an underscore\n",
    "test_variable_case = 'Vanilla Swirl'"
   ]
  },
  {
   "cell_type": "markdown",
   "id": "841e01d5",
   "metadata": {},
   "source": [
    "# Operators with variables.\n",
    "- You can use the + sign in a variable e.g you can add a string with a string and an integer with an integerbut you can't add a string with an integer. \n",
    "- addition sign (+) means concatenate"
   ]
  },
  {
   "cell_type": "code",
   "execution_count": 16,
   "id": "e696b16a",
   "metadata": {},
   "outputs": [
    {
     "name": "stdout",
     "output_type": "stream",
     "text": [
      "Ice cream is my favorite.\n"
     ]
    }
   ],
   "source": [
    "x = 'Ice cream is my favorite' + '.'\n",
    "\n",
    "print(x)"
   ]
  },
  {
   "cell_type": "code",
   "execution_count": 17,
   "id": "edc8389f",
   "metadata": {},
   "outputs": [
    {
     "name": "stdout",
     "output_type": "stream",
     "text": [
      "5\n"
     ]
    }
   ],
   "source": [
    "y = 3 + 2\n",
    "\n",
    "print(y)"
   ]
  },
  {
   "cell_type": "code",
   "execution_count": 18,
   "id": "a4acd62d",
   "metadata": {},
   "outputs": [
    {
     "name": "stdout",
     "output_type": "stream",
     "text": [
      "Ice cream is my favorite\n"
     ]
    }
   ],
   "source": [
    "# You can also add multiple variables within a print statement.\n",
    "x = 'Ice cream '\n",
    "y = 'is '\n",
    "z = 'my favorite'\n",
    "\n",
    "print(x+y+z)"
   ]
  },
  {
   "cell_type": "code",
   "execution_count": 19,
   "id": "b3bc3d50",
   "metadata": {},
   "outputs": [
    {
     "name": "stdout",
     "output_type": "stream",
     "text": [
      "16\n"
     ]
    }
   ],
   "source": [
    "x = 3\n",
    "y = 4\n",
    "z = 9\n",
    "\n",
    "print(x+y+z)"
   ]
  },
  {
   "cell_type": "code",
   "execution_count": 20,
   "id": "a5b67cef",
   "metadata": {},
   "outputs": [
    {
     "name": "stdout",
     "output_type": "stream",
     "text": [
      "Ice cream 4\n"
     ]
    }
   ],
   "source": [
    "# Combining a string and an integer in a print statement using the comma since we can't use the concatenate function (+)\n",
    "x = 'Ice cream'\n",
    "y = 4\n",
    "\n",
    "print(x,y)"
   ]
  },
  {
   "cell_type": "code",
   "execution_count": null,
   "id": "83d347ab",
   "metadata": {},
   "outputs": [],
   "source": []
  }
 ],
 "metadata": {
  "kernelspec": {
   "display_name": "Python 3",
   "language": "python",
   "name": "python3"
  },
  "language_info": {
   "codemirror_mode": {
    "name": "ipython",
    "version": 3
   },
   "file_extension": ".py",
   "mimetype": "text/x-python",
   "name": "python",
   "nbconvert_exporter": "python",
   "pygments_lexer": "ipython3",
   "version": "3.11.1"
  },
  "vscode": {
   "interpreter": {
    "hash": "1f6a27bcfbe46a917dbd192f4a82657396dda26148bae633192e8d28c70725f1"
   }
  }
 },
 "nbformat": 4,
 "nbformat_minor": 5
}
