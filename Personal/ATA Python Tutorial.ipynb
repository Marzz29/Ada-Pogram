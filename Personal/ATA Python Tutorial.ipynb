{
 "cells": [
  {
   "cell_type": "code",
   "execution_count": 2,
   "id": "efe73803",
   "metadata": {},
   "outputs": [
    {
     "name": "stdout",
     "output_type": "stream",
     "text": [
      "Hello World\n"
     ]
    }
   ],
   "source": [
    "print('Hello World')"
   ]
  },
  {
   "cell_type": "markdown",
   "id": "9b2d8d39",
   "metadata": {},
   "source": [
    "This command prints Hello world"
   ]
  },
  {
   "cell_type": "markdown",
   "id": "fed8ee50",
   "metadata": {},
   "source": [
    "# Variables in Python\n",
    "- A container for storing data values. It can be a string or an integer assigned to a variable.\n",
    "- This is effective with the use of = sign which means assignment in python.\n",
    "- When you use a variable, you do not have to also assign its data type.\n",
    "- You can overwrite an existing variable.\n",
    "- Variables are case sensitive, if lowercase y is assigned to something and uppercase Y is also assigned to the same thing, those two things are not the same.\n",
    "- Multiple values can be assigned to multiple variables.\n",
    "- Multiple variables can be assigned to a single value.\n",
    "- Variables can be assigned to lists, dictionaries, tuples, and sets."
   ]
  },
  {
   "cell_type": "code",
   "execution_count": 3,
   "id": "260494a2",
   "metadata": {},
   "outputs": [
    {
     "name": "stdout",
     "output_type": "stream",
     "text": [
      "22\n"
     ]
    }
   ],
   "source": [
    "x = 22\n",
    "\n",
    "print(x)"
   ]
  },
  {
   "cell_type": "code",
   "execution_count": 4,
   "id": "786b6372",
   "metadata": {},
   "outputs": [
    {
     "data": {
      "text/plain": [
       "int"
      ]
     },
     "execution_count": 4,
     "metadata": {},
     "output_type": "execute_result"
    }
   ],
   "source": [
    "type(x)"
   ]
  },
  {
   "cell_type": "code",
   "execution_count": 5,
   "id": "cf67c6f4",
   "metadata": {},
   "outputs": [
    {
     "name": "stdout",
     "output_type": "stream",
     "text": [
      "Mint Chocolate Chip\n"
     ]
    }
   ],
   "source": [
    "y = 'Mint Chocolate Chip'\n",
    "\n",
    "print(y)"
   ]
  },
  {
   "cell_type": "code",
   "execution_count": null,
   "id": "4ee5471a",
   "metadata": {},
   "outputs": [],
   "source": []
  },
  {
   "cell_type": "code",
   "execution_count": 6,
   "id": "c02bf1c2",
   "metadata": {},
   "outputs": [
    {
     "data": {
      "text/plain": [
       "str"
      ]
     },
     "execution_count": 6,
     "metadata": {},
     "output_type": "execute_result"
    }
   ],
   "source": [
    "type(y)"
   ]
  },
  {
   "cell_type": "code",
   "execution_count": 7,
   "id": "fd9e8fcd",
   "metadata": {},
   "outputs": [
    {
     "name": "stdout",
     "output_type": "stream",
     "text": [
      "Mint Chocolate Chip\n"
     ]
    }
   ],
   "source": [
    "y = 'Chocolate'\n",
    "\n",
    "y = 'Mint Chocolate Chip'\n",
    "\n",
    "print(y)"
   ]
  },
  {
   "cell_type": "code",
   "execution_count": 8,
   "id": "d176dca2",
   "metadata": {},
   "outputs": [
    {
     "name": "stdout",
     "output_type": "stream",
     "text": [
      "Mint Chocolate Chip\n"
     ]
    }
   ],
   "source": [
    "y = 'Chocolate'\n",
    "\n",
    "Y = 'Mint Chocolate Chip'\n",
    "\n",
    "print(Y)"
   ]
  },
  {
   "cell_type": "code",
   "execution_count": 9,
   "id": "0aa86d2c",
   "metadata": {},
   "outputs": [
    {
     "name": "stdout",
     "output_type": "stream",
     "text": [
      "Chocolate\n",
      "Vanilla\n",
      "Rocky Road\n"
     ]
    }
   ],
   "source": [
    "x,y,z = 'Chocolate', 'Vanilla', 'Rocky Road'\n",
    "\n",
    "print(x)\n",
    "print(y)\n",
    "print(z)"
   ]
  },
  {
   "cell_type": "code",
   "execution_count": 10,
   "id": "3851d849",
   "metadata": {
    "scrolled": true
   },
   "outputs": [
    {
     "name": "stdout",
     "output_type": "stream",
     "text": [
      "Root Beer Float\n",
      "Root Beer Float\n",
      "Root Beer Float\n"
     ]
    }
   ],
   "source": [
    "x = y = z = 'Root Beer Float'\n",
    "\n",
    "print(x)\n",
    "print(y)\n",
    "print(z)"
   ]
  },
  {
   "cell_type": "markdown",
   "id": "5d9a4159",
   "metadata": {},
   "source": [
    "# List\n",
    "- This cell contains a list. \n",
    "- A list is denoted in square brackets.\n",
    "- They can also be contained in a variable. In this example, the variable is ice-cream. Then we contained the variable ice_cream in another variable x,y,z."
   ]
  },
  {
   "cell_type": "code",
   "execution_count": 11,
   "id": "855663ce",
   "metadata": {},
   "outputs": [
    {
     "name": "stdout",
     "output_type": "stream",
     "text": [
      "Chocolate\n",
      "Vanilla\n",
      "Rocky Road\n"
     ]
    }
   ],
   "source": [
    "ice_cream = ['Chocolate', 'Vanilla', 'Rocky Road']\n",
    "\n",
    "x,y,z = ice_cream\n",
    "\n",
    "print(x)\n",
    "print(y)\n",
    "print(z)"
   ]
  },
  {
   "cell_type": "code",
   "execution_count": 23,
   "id": "70d666d5",
   "metadata": {},
   "outputs": [
    {
     "data": {
      "text/plain": [
       "['Chocolate',\n",
       " 'Vanilla',\n",
       " 'Strawberry',\n",
       " 'Strawberry',\n",
       " 'Butter Pecan',\n",
       " 'Butter Pecan',\n",
       " 'Butter Pecan']"
      ]
     },
     "execution_count": 23,
     "metadata": {},
     "output_type": "execute_result"
    }
   ],
   "source": [
    "ice_cream.append('Butter Pecan') #insert a new item at the back\n",
    "\n",
    "ice_cream[2] = 'Strawberry' #Change the item in a list\n",
    "\n",
    "ice_cream"
   ]
  },
  {
   "cell_type": "code",
   "execution_count": 31,
   "id": "9f91df70",
   "metadata": {},
   "outputs": [
    {
     "data": {
      "text/plain": [
       "'violet'"
      ]
     },
     "execution_count": 31,
     "metadata": {},
     "output_type": "execute_result"
    }
   ],
   "source": [
    "#You can also have a nested list\n",
    "rainbow = ['red', 'orange', 'yellow', 'green', 'blue', ['indigo', 'violet']]\n",
    "\n",
    "#To access the item in a list\n",
    "rainbow[0] #Lists use zero-based indexing so it would take 0 as the first item\n",
    "\n",
    "rainbow[:5] #this is used to access a range in the list with 0 being the default\n",
    "\n",
    "rainbow[2:4] #you can also input a starting range yourself\n",
    "\n",
    "rainbow[5][1] #You can also access a list within a list\n"
   ]
  },
  {
   "attachments": {},
   "cell_type": "markdown",
   "id": "b65d5384",
   "metadata": {},
   "source": [
    "# Tuples\n",
    "- Tuples are immutable which means it can not be modified or changed after it is created"
   ]
  },
  {
   "cell_type": "code",
   "execution_count": 33,
   "id": "e0d1f7df",
   "metadata": {},
   "outputs": [],
   "source": [
    "scoops = (1,2,3,2,1) #Tuples are created with parentheses"
   ]
  },
  {
   "cell_type": "code",
   "execution_count": 34,
   "id": "d6e862b7",
   "metadata": {},
   "outputs": [
    {
     "data": {
      "text/plain": [
       "1"
      ]
     },
     "execution_count": 34,
     "metadata": {},
     "output_type": "execute_result"
    }
   ],
   "source": [
    "scoops[0] #You can access tuples with indexing\n",
    "# Tuples would be used when data is not going to be changed e.g city name, country, or location"
   ]
  },
  {
   "attachments": {},
   "cell_type": "markdown",
   "id": "99d3cb1b",
   "metadata": {},
   "source": [
    "# Sets\n",
    "- No duplicate elements\n",
    "- Values ina set can not be accessed using index because it doesn't have an index because it is unordered.\n",
    "- Items can be accessed using the for loop"
   ]
  },
  {
   "cell_type": "code",
   "execution_count": 39,
   "id": "0ae94d4b",
   "metadata": {},
   "outputs": [],
   "source": [
    "daily_pints = {1,2,3}\n",
    "\n",
    "daily_pints_log = {2,8,2,3,1,8,67,67,12,2,3,4,5,5,6,7,8}\n",
    "wifes_daily_pints_log = {1, 2, 3,4, 31, 3, 6, 5, 2, 1, 87, 54, 12}"
   ]
  },
  {
   "cell_type": "code",
   "execution_count": 36,
   "id": "94c3ad88",
   "metadata": {},
   "outputs": [
    {
     "name": "stdout",
     "output_type": "stream",
     "text": [
      "{1, 2, 67, 3, 4, 5, 6, 8, 7, 12}\n"
     ]
    }
   ],
   "source": [
    "print(daily_pints_log)"
   ]
  },
  {
   "cell_type": "code",
   "execution_count": 40,
   "id": "56fef984",
   "metadata": {},
   "outputs": [
    {
     "name": "stdout",
     "output_type": "stream",
     "text": [
      "{1, 2, 67, 3, 4, 5, 6, 8, 7, 12, 87, 31, 54}\n"
     ]
    }
   ],
   "source": [
    "#Compare the unique values of daily_pints_log and wifes_daily_pints_log\n",
    "print(daily_pints_log | wifes_daily_pints_log) \n",
    "# The pipe (|) symbol in the print statement would help combine the unique values in the two variables\n"
   ]
  },
  {
   "cell_type": "code",
   "execution_count": 41,
   "id": "94df0555",
   "metadata": {},
   "outputs": [
    {
     "name": "stdout",
     "output_type": "stream",
     "text": [
      "{1, 2, 3, 4, 5, 6, 12}\n"
     ]
    }
   ],
   "source": [
    "print(daily_pints_log & wifes_daily_pints_log)\n",
    "#The ampersand (&) symbol in the print statement would help bring out only the unique values that *matches*"
   ]
  },
  {
   "cell_type": "code",
   "execution_count": 44,
   "id": "59794c07",
   "metadata": {},
   "outputs": [
    {
     "name": "stdout",
     "output_type": "stream",
     "text": [
      "{8, 67, 7}\n",
      "{31, 54, 87}\n",
      "{67, 8, 7, 54, 87, 31}\n"
     ]
    }
   ],
   "source": [
    "print(daily_pints_log - wifes_daily_pints_log)\n",
    "#The minus(-) symbol in the print statement would bring out the unique values that *do not match*\n",
    "# You would see that the values that do not match are not complete.This is because the position where each set variable is matters\n",
    "# Tis means the wifes set is being subtracted from the the dailys set\n",
    "# Let's reverse it\n",
    "print(wifes_daily_pints_log - daily_pints_log)\n",
    "# The caret (^) sign would print the values that do not match in both sets\n",
    "print(daily_pints_log ^ wifes_daily_pints_log)"
   ]
  },
  {
   "attachments": {},
   "cell_type": "markdown",
   "id": "4e26c6df",
   "metadata": {},
   "source": [
    "# Dictionaries\n",
    "- A dictionary has a key that indicates what that value is attributed too"
   ]
  },
  {
   "cell_type": "code",
   "execution_count": 45,
   "id": "590f8b0a",
   "metadata": {},
   "outputs": [],
   "source": [
    "cream = {'name': 'Alex', 'weekly intake': 5, 'favorite ice creams': ['MCC', 'Chocolate',]}"
   ]
  },
  {
   "cell_type": "code",
   "execution_count": 49,
   "id": "1a069af5",
   "metadata": {},
   "outputs": [
    {
     "data": {
      "text/plain": [
       "dict_items([('name', 'Alex'), ('weekly intake', 5), ('favorite ice creams', ['MCC', 'Chocolate'])])"
      ]
     },
     "execution_count": 49,
     "metadata": {},
     "output_type": "execute_result"
    }
   ],
   "source": [
    "# To show only the values in a dictionary\n",
    "cream.values()\n",
    "\n",
    "# To show only the keys in a dictionary\n",
    "cream.keys()\n",
    "\n",
    "# To show the items (Key value pairs) in a dictionary\n",
    "cream.items()"
   ]
  },
  {
   "cell_type": "code",
   "execution_count": 50,
   "id": "9943f4b3",
   "metadata": {},
   "outputs": [
    {
     "data": {
      "text/plain": [
       "'Alex'"
      ]
     },
     "execution_count": 50,
     "metadata": {},
     "output_type": "execute_result"
    }
   ],
   "source": [
    "# To access a dictionary, you have to call it by the key\n",
    "#'name' is the name of a key in the dictionary. This would print Alex as it is the value in the key\n",
    "cream['name']"
   ]
  },
  {
   "cell_type": "code",
   "execution_count": 52,
   "id": "9453dc93",
   "metadata": {},
   "outputs": [
    {
     "name": "stdout",
     "output_type": "stream",
     "text": [
      "{'name': 'Mariam', 'weekly intake': 5, 'favorite ice creams': ['MCC', 'Chocolate']}\n"
     ]
    }
   ],
   "source": [
    "# You can also update a dictionary\n",
    "cream['name'] = 'Mariam'\n",
    "\n",
    "print(cream)"
   ]
  },
  {
   "cell_type": "code",
   "execution_count": 55,
   "id": "4157dfac",
   "metadata": {},
   "outputs": [],
   "source": [
    "# You can also update all the values in a dictionary at once\n",
    "# This would only add to the dictionary and not subtract from it\n",
    "cream.update({'name': 'Mariam', 'weekly intake': 5, 'favorite ice creams': ['MCC', 'Chocolate'], 'weight': 300})"
   ]
  },
  {
   "cell_type": "markdown",
   "id": "0aafe899",
   "metadata": {},
   "source": [
    "# Naming your variables\n",
    "There are different ways people name their variables.\n",
    "- Camel Case\n",
    "- Pascal Case\n",
    "- Snake Case (The Best)\n",
    "Things that can't be used in your varialble names\n",
    "Numbers (especially at the beginning of the variable name because it would give an error), -, Commas, Space, period, /, = and this is because they won't work."
   ]
  },
  {
   "cell_type": "code",
   "execution_count": 13,
   "id": "6a469a61",
   "metadata": {},
   "outputs": [],
   "source": [
    "#Camel Case example\n",
    "#First word would be in lowercase and the beginning of the remainig words would be in uppercase\n",
    "testVariableCase = 'Vanilla Swirl'"
   ]
  },
  {
   "cell_type": "code",
   "execution_count": 14,
   "id": "357c9326",
   "metadata": {},
   "outputs": [],
   "source": [
    "#Pascal Case example\n",
    "#First word would be in uppercase\n",
    "TestVariableCase = 'Vanilla Swirl'"
   ]
  },
  {
   "cell_type": "code",
   "execution_count": 15,
   "id": "de20a673",
   "metadata": {},
   "outputs": [],
   "source": [
    "#Snake Case example\n",
    "#No capital letters used and seperate everything with an underscore\n",
    "test_variable_case = 'Vanilla Swirl'"
   ]
  },
  {
   "cell_type": "markdown",
   "id": "841e01d5",
   "metadata": {},
   "source": [
    "# Operators with variables.\n",
    "- You can use the + sign in a variable e.g you can add a string with a string and an integer with an integerbut you can't add a string with an integer. \n",
    "- addition sign (+) means concatenate"
   ]
  },
  {
   "cell_type": "code",
   "execution_count": 16,
   "id": "e696b16a",
   "metadata": {},
   "outputs": [
    {
     "name": "stdout",
     "output_type": "stream",
     "text": [
      "Ice cream is my favorite.\n"
     ]
    }
   ],
   "source": [
    "x = 'Ice cream is my favorite' + '.'\n",
    "\n",
    "print(x)"
   ]
  },
  {
   "cell_type": "code",
   "execution_count": 17,
   "id": "edc8389f",
   "metadata": {},
   "outputs": [
    {
     "name": "stdout",
     "output_type": "stream",
     "text": [
      "5\n"
     ]
    }
   ],
   "source": [
    "y = 3 + 2\n",
    "\n",
    "print(y)"
   ]
  },
  {
   "cell_type": "code",
   "execution_count": 18,
   "id": "a4acd62d",
   "metadata": {},
   "outputs": [
    {
     "name": "stdout",
     "output_type": "stream",
     "text": [
      "Ice cream is my favorite\n"
     ]
    }
   ],
   "source": [
    "# You can also add multiple variables within a print statement.\n",
    "x = 'Ice cream '\n",
    "y = 'is '\n",
    "z = 'my favorite'\n",
    "\n",
    "print(x+y+z)"
   ]
  },
  {
   "cell_type": "code",
   "execution_count": 19,
   "id": "b3bc3d50",
   "metadata": {},
   "outputs": [
    {
     "name": "stdout",
     "output_type": "stream",
     "text": [
      "16\n"
     ]
    }
   ],
   "source": [
    "x = 3\n",
    "y = 4\n",
    "z = 9\n",
    "\n",
    "print(x+y+z)"
   ]
  },
  {
   "cell_type": "code",
   "execution_count": 20,
   "id": "a5b67cef",
   "metadata": {},
   "outputs": [
    {
     "name": "stdout",
     "output_type": "stream",
     "text": [
      "Ice cream 4\n"
     ]
    }
   ],
   "source": [
    "# Combining a string and an integer in a print statement using the comma since we can't use the concatenate function (+)\n",
    "x = 'Ice cream'\n",
    "y = 4\n",
    "\n",
    "print(x,y)"
   ]
  },
  {
   "attachments": {},
   "cell_type": "markdown",
   "id": "740aa86b",
   "metadata": {},
   "source": [
    "# Comparison operators\n",
    "- They are used to perform operations on variables and values\n",
    "- They would be used to compare to values or variables to see if they are the same or different\n",
    "- Comprison operators result in true or false\n"
   ]
  },
  {
   "cell_type": "code",
   "execution_count": null,
   "id": "83d347ab",
   "metadata": {},
   "outputs": [],
   "source": [
    "# == Equal\n",
    "# != Not Equal\n",
    "# > Greater Than\n",
    "# < Less Than\n",
    "# >= Greater Than or Equal to \n",
    "# <= Less than or Equal to "
   ]
  },
  {
   "cell_type": "code",
   "execution_count": 1,
   "id": "28c7539a",
   "metadata": {},
   "outputs": [
    {
     "data": {
      "text/plain": [
       "False"
      ]
     },
     "execution_count": 1,
     "metadata": {},
     "output_type": "execute_result"
    }
   ],
   "source": [
    "#Equal sign\n",
    "10 == 50"
   ]
  },
  {
   "cell_type": "code",
   "execution_count": 7,
   "id": "d1800d10",
   "metadata": {},
   "outputs": [
    {
     "data": {
      "text/plain": [
       "False"
      ]
     },
     "execution_count": 7,
     "metadata": {},
     "output_type": "execute_result"
    }
   ],
   "source": [
    "#Values (String and Integers)\n",
    "10 < 1"
   ]
  },
  {
   "cell_type": "code",
   "execution_count": 6,
   "id": "2ad9d5cd",
   "metadata": {},
   "outputs": [
    {
     "data": {
      "text/plain": [
       "True"
      ]
     },
     "execution_count": 6,
     "metadata": {},
     "output_type": "execute_result"
    }
   ],
   "source": [
    "'Vanilla' == 'Vanilla'"
   ]
  },
  {
   "cell_type": "code",
   "execution_count": 9,
   "id": "eb794c60",
   "metadata": {},
   "outputs": [
    {
     "data": {
      "text/plain": [
       "False"
      ]
     },
     "execution_count": 9,
     "metadata": {},
     "output_type": "execute_result"
    }
   ],
   "source": [
    "#Variables\n",
    "x = 'Vanilla'\n",
    "y = 'Chocolate'\n",
    "\n",
    "x==y"
   ]
  },
  {
   "attachments": {},
   "cell_type": "markdown",
   "id": "f6cafa30",
   "metadata": {},
   "source": [
    "# Logical Operators\n",
    "- They are often combined with comparison operators\n",
    "- AND OR NOT\n",
    "- AND = Both statements are true\n",
    "- OR = only one of the statements is true\n",
    "- NOT = This reverses the result so if it is supposed to be true it would return false"
   ]
  },
  {
   "cell_type": "code",
   "execution_count": 12,
   "id": "9cf14b4a",
   "metadata": {},
   "outputs": [
    {
     "data": {
      "text/plain": [
       "True"
      ]
     },
     "execution_count": 12,
     "metadata": {},
     "output_type": "execute_result"
    }
   ],
   "source": [
    "(70 > 50) and (50 > 10)"
   ]
  },
  {
   "cell_type": "code",
   "execution_count": 13,
   "id": "c583a2cf",
   "metadata": {},
   "outputs": [
    {
     "data": {
      "text/plain": [
       "True"
      ]
     },
     "execution_count": 13,
     "metadata": {},
     "output_type": "execute_result"
    }
   ],
   "source": [
    "(10 > 50) or (50 > 10)"
   ]
  },
  {
   "cell_type": "code",
   "execution_count": 14,
   "id": "8f8f9900",
   "metadata": {},
   "outputs": [
    {
     "data": {
      "text/plain": [
       "True"
      ]
     },
     "execution_count": 14,
     "metadata": {},
     "output_type": "execute_result"
    }
   ],
   "source": [
    "# This can be done with strings too\n",
    "# It looks at the position of the first letter of the alphabet\n",
    "# Since V is 21st and C is 3, V is greater than C\n",
    "('Vanilla' > 'Chocolate') or (50 > 10)"
   ]
  },
  {
   "cell_type": "code",
   "execution_count": 15,
   "id": "19983dde",
   "metadata": {},
   "outputs": [
    {
     "data": {
      "text/plain": [
       "False"
      ]
     },
     "execution_count": 15,
     "metadata": {},
     "output_type": "execute_result"
    }
   ],
   "source": [
    "# NOT opposite\n",
    "not(50 > 10)"
   ]
  },
  {
   "attachments": {},
   "cell_type": "markdown",
   "id": "5b8d8397",
   "metadata": {},
   "source": [
    "# Membership Operators\n",
    "- This is used to check whether the value or a string is within another value or string or sequence.\n",
    "- IN and NOT In\n",
    "- IN = Returns TRUE if the specified value is present in the sequence\n",
    "- NOT IN = It would also return *TRUE* if the specified value is *not in* the sequence or object\n",
    "- It can be used with strings, lists"
   ]
  },
  {
   "cell_type": "code",
   "execution_count": 16,
   "id": "730ae344",
   "metadata": {},
   "outputs": [
    {
     "data": {
      "text/plain": [
       "True"
      ]
     },
     "execution_count": 16,
     "metadata": {},
     "output_type": "execute_result"
    }
   ],
   "source": [
    "#strings\n",
    "ice_cream = 'I love Chocolate ice cream'\n",
    "\n",
    "'love' in ice_cream"
   ]
  },
  {
   "cell_type": "code",
   "execution_count": 18,
   "id": "a3ca2c2b",
   "metadata": {},
   "outputs": [
    {
     "data": {
      "text/plain": [
       "True"
      ]
     },
     "execution_count": 18,
     "metadata": {},
     "output_type": "execute_result"
    }
   ],
   "source": [
    "#Lists\n",
    "scoops = [1, 2, 3, 4, 5]\n",
    "6 not in scoops"
   ]
  },
  {
   "cell_type": "code",
   "execution_count": 19,
   "id": "b010b2e2",
   "metadata": {},
   "outputs": [
    {
     "data": {
      "text/plain": [
       "False"
      ]
     },
     "execution_count": 19,
     "metadata": {},
     "output_type": "execute_result"
    }
   ],
   "source": [
    "# Can also be done with variables\n",
    "wanted_scoops = 9\n",
    "\n",
    "wanted_scoops in scoops"
   ]
  },
  {
   "attachments": {},
   "cell_type": "markdown",
   "id": "ba0a6407",
   "metadata": {},
   "source": [
    "# IF, ELIF, and ELSE statements\n",
    "- IF = If the condition in the if statement is met a body of code would be ran.\n",
    "- ELIF = If the condition in the if statement is not met, it would go to the elif condition. If the elif statement is met, the body of code for the elif statement would be ran.\n",
    "- ELSE = If the elif statement is not met, the body of code of the else statement would be ran.The else statement is basically if everything does not work, then run this body of code\n",
    "- You can have any amount of elif statement but you can only have one if statement and else statement\n",
    "- "
   ]
  },
  {
   "cell_type": "code",
   "execution_count": 20,
   "id": "56eed7d7",
   "metadata": {},
   "outputs": [
    {
     "name": "stdout",
     "output_type": "stream",
     "text": [
      "it worked\n"
     ]
    }
   ],
   "source": [
    "if 25 > 10: #condition\n",
    "    print('it worked!') #body of code i.e what would happen if it the condition is met"
   ]
  },
  {
   "cell_type": "code",
   "execution_count": 21,
   "id": "dd577007",
   "metadata": {},
   "outputs": [],
   "source": [
    "if 25 < 10: #Since this statement is not true it would not provide an output\n",
    "    print('it worked!')\n"
   ]
  },
  {
   "cell_type": "code",
   "execution_count": 23,
   "id": "38182529",
   "metadata": {},
   "outputs": [
    {
     "name": "stdout",
     "output_type": "stream",
     "text": [
      "it did not work...\n"
     ]
    }
   ],
   "source": [
    "# Add an else statement\n",
    "if 25 < 10: \n",
    "    print('it worked!')\n",
    "else: #This else statement does not have a condition so it would just execute the body of code\n",
    "    print('it did not work...')"
   ]
  },
  {
   "cell_type": "code",
   "execution_count": 24,
   "id": "e7a5c931",
   "metadata": {},
   "outputs": [
    {
     "name": "stdout",
     "output_type": "stream",
     "text": [
      "it worked!\n"
     ]
    }
   ],
   "source": [
    "if 25 > 10: #This statement is now true so it would not read the else statement\n",
    "    print('it worked!')\n",
    "else: \n",
    "    print('it did not work...')"
   ]
  },
  {
   "cell_type": "code",
   "execution_count": 26,
   "id": "fe7f1586",
   "metadata": {},
   "outputs": [
    {
     "name": "stdout",
     "output_type": "stream",
     "text": [
      "elif 3 worked!\n"
     ]
    }
   ],
   "source": [
    "# If you want to try different conditions, try the elif statement\n",
    "# The elif condition that is met first is what would be returned\n",
    "if 25 < 10: \n",
    "    print('it worked!')\n",
    "elif 25 < 20: \n",
    "    print('elif worked!')\n",
    "elif 25 < 21: \n",
    "    print('elif 2 worked!')\n",
    "elif 25 < 40: \n",
    "    print('elif 3 worked!')\n",
    "elif 25 < 50: \n",
    "    print('elif 4 worked!')\n",
    "else: \n",
    "    print('it did not work...')"
   ]
  },
  {
   "cell_type": "code",
   "execution_count": 29,
   "id": "d81debf2",
   "metadata": {},
   "outputs": [
    {
     "name": "stdout",
     "output_type": "stream",
     "text": [
      "it worked!\n"
     ]
    }
   ],
   "source": [
    "# Logical operators and Membership operatorscan also be used in if statements\n",
    "if 25 < 10 or (1 in [3, 1, 5, 6]): \n",
    "    print('it worked!')\n",
    "elif 25 < 20: \n",
    "    print('elif worked!')\n",
    "elif 25 < 21: \n",
    "    print('elif 2 worked!')\n",
    "elif 25 < 40: \n",
    "    print('elif 3 worked!')\n",
    "elif 25 < 50: \n",
    "    print('elif 4 worked!')\n",
    "else: \n",
    "    print('it did not work...')"
   ]
  },
  {
   "cell_type": "code",
   "execution_count": 30,
   "id": "c82c701c",
   "metadata": {},
   "outputs": [
    {
     "name": "stdout",
     "output_type": "stream",
     "text": [
      "It did not work...\n"
     ]
    }
   ],
   "source": [
    "# If statements on one line\n",
    "print('it worked!') if 10 > 30 else print('It did not work...')"
   ]
  },
  {
   "cell_type": "code",
   "execution_count": 33,
   "id": "160a348f",
   "metadata": {},
   "outputs": [
    {
     "name": "stdout",
     "output_type": "stream",
     "text": [
      "it worked!\n",
      "This nested if statement worked\n"
     ]
    }
   ],
   "source": [
    "# Nested if statements\n",
    "if (25 < 10) or (1 < 3): \n",
    "    print('it worked!')\n",
    "    if 10 > 5:\n",
    "        print('This nested if statement worked')\n",
    "elif 25 < 20: \n",
    "    print('elif worked!')\n",
    "elif 25 < 21: \n",
    "    print('elif 2 worked!')\n",
    "elif 25 < 40: \n",
    "    print('elif 3 worked!')\n",
    "elif 25 < 50: \n",
    "    print('elif 4 worked!')\n",
    "else: \n",
    "    print('it did not work...')"
   ]
  },
  {
   "attachments": {},
   "cell_type": "markdown",
   "id": "b22a738f",
   "metadata": {},
   "source": [
    "# For Loops\n",
    "- A for loop is used to iterate over a sequence (i.e a list, tuple, array, string, or dictionary)\n",
    "- The for loop is going to start by looking at the first item in the sequence, then it would ask if it is the last element in the list, if it is not, it would go to the body of the for loop, then it would ask again it it is the last element reached until it reaches the last element\n",
    "- Once it reaches the last element, we would exit the loop and the for loop would be over"
   ]
  },
  {
   "cell_type": "code",
   "execution_count": 37,
   "id": "c27baf8d",
   "metadata": {},
   "outputs": [],
   "source": [
    "integers = [1, 2, 3, 4, 5] #This is the sequence we would be using"
   ]
  },
  {
   "cell_type": "code",
   "execution_count": 38,
   "id": "46f3d164",
   "metadata": {},
   "outputs": [
    {
     "name": "stdout",
     "output_type": "stream",
     "text": [
      "1\n",
      "2\n",
      "3\n",
      "4\n",
      "5\n"
     ]
    }
   ],
   "source": [
    "#Number here is a temporary variable for this for loop. As the loop is iterating it is going to be a temporaray variable\n",
    "for number in integers: # This can be any sequence and it is what we are iterating through\n",
    "    print(number)# body of code to be executed when we iterate through our list\n",
    "# It would print the temporaray variable number i.e all the numbers in integers"
   ]
  },
  {
   "cell_type": "code",
   "execution_count": 39,
   "id": "125d7e60",
   "metadata": {},
   "outputs": [
    {
     "name": "stdout",
     "output_type": "stream",
     "text": [
      "yep!\n",
      "yep!\n",
      "yep!\n",
      "yep!\n",
      "yep!\n"
     ]
    }
   ],
   "source": [
    "for number in integers:\n",
    "    print('yep!')\n",
    "# This shows the numbers in the list are not being used just the count of the numbers"
   ]
  },
  {
   "cell_type": "code",
   "execution_count": null,
   "id": "4a46ecba",
   "metadata": {},
   "outputs": [],
   "source": [
    "integers = [1, 2, 3, 4, 5]"
   ]
  },
  {
   "cell_type": "code",
   "execution_count": 40,
   "id": "2f82f6f5",
   "metadata": {},
   "outputs": [
    {
     "name": "stdout",
     "output_type": "stream",
     "text": [
      "2\n",
      "4\n",
      "6\n",
      "8\n",
      "10\n"
     ]
    }
   ],
   "source": [
    "for marz in integers: #The temp variable name does not have to be number it can be any variable name\n",
    "    print(marz + marz)\n",
    "# The for loop would excute the body of code that is given. In this case, it is the addition of each variable to itself"
   ]
  },
  {
   "cell_type": "code",
   "execution_count": 41,
   "id": "e84a032d",
   "metadata": {},
   "outputs": [],
   "source": [
    "# For a dictionary sequence, it is going to be different\n",
    "ice_cream_dict = {'name': 'Mariam', 'weekly intake': 5, 'favorite ice creams': ['MCC', 'Chocolate']}"
   ]
  },
  {
   "cell_type": "code",
   "execution_count": 42,
   "id": "283a8fc0",
   "metadata": {},
   "outputs": [
    {
     "name": "stdout",
     "output_type": "stream",
     "text": [
      "Mariam\n",
      "5\n",
      "['MCC', 'Chocolate']\n"
     ]
    }
   ],
   "source": [
    "# For a dictionary, you have to specify the item or key or value you want to iterate\n",
    "# To pull only the key, you type .key()\n",
    "for cream in ice_cream_dict.values():\n",
    "    print(cream)"
   ]
  },
  {
   "cell_type": "code",
   "execution_count": 44,
   "id": "f2731bb6",
   "metadata": {},
   "outputs": [
    {
     "name": "stdout",
     "output_type": "stream",
     "text": [
      "name -> Mariam\n",
      "weekly intake -> 5\n",
      "favorite ice creams -> ['MCC', 'Chocolate']\n"
     ]
    }
   ],
   "source": [
    "# You can also pull the key and the value\n",
    "# In this instance you have to use 2 temporary variables and they should be seperated by a comma\n",
    "for key, value in ice_cream_dict.items():\n",
    "    print(key, '->', value)"
   ]
  },
  {
   "cell_type": "code",
   "execution_count": 45,
   "id": "d6f1755e",
   "metadata": {},
   "outputs": [],
   "source": [
    "# Nested For loops\n",
    "flavors = ['Vanilla', 'Chocolate', 'Cookie Dough']\n",
    "toppings = ['Hot Fudge', 'Oreos', 'Marshmellows']\n"
   ]
  },
  {
   "cell_type": "code",
   "execution_count": 46,
   "id": "bc898627",
   "metadata": {},
   "outputs": [
    {
     "name": "stdout",
     "output_type": "stream",
     "text": [
      "Vanilla topped with Hot Fudge\n",
      "Vanilla topped with Oreos\n",
      "Vanilla topped with Marshmellows\n",
      "Chocolate topped with Hot Fudge\n",
      "Chocolate topped with Oreos\n",
      "Chocolate topped with Marshmellows\n",
      "Cookie Dough topped with Hot Fudge\n",
      "Cookie Dough topped with Oreos\n",
      "Cookie Dough topped with Marshmellows\n"
     ]
    }
   ],
   "source": [
    "for one in flavors:\n",
    "    for two in toppings:\n",
    "        print(one,'topped with' , two)"
   ]
  },
  {
   "attachments": {},
   "cell_type": "markdown",
   "id": "84995994",
   "metadata": {},
   "source": [
    "# While Loops\n",
    "- The while loop is used to iterate a block of code as long as the test condition is met.\n",
    "- The difference between a for and while loop is that a for loop is going to iterate over the whole sequence regardless of the condition BUT a while loop is only going to iterate over that sequence unless a specific condition is met if the the condition is not met, the code is going to stop and it is not going to iterate over that sequence"
   ]
  },
  {
   "cell_type": "code",
   "execution_count": 47,
   "id": "06cb30be",
   "metadata": {},
   "outputs": [
    {
     "name": "stdout",
     "output_type": "stream",
     "text": [
      "0\n",
      "1\n",
      "2\n",
      "3\n",
      "4\n"
     ]
    }
   ],
   "source": [
    "number = 0 #starter variable\n",
    "\n",
    "while number < 5: #condition to be met\n",
    "    print(number) #body of code to be exeuted\n",
    "    number = number + 1 #counter"
   ]
  },
  {
   "cell_type": "code",
   "execution_count": 48,
   "id": "9519904b",
   "metadata": {},
   "outputs": [
    {
     "name": "stdout",
     "output_type": "stream",
     "text": [
      "0\n",
      "1\n",
      "2\n",
      "3\n"
     ]
    }
   ],
   "source": [
    "# Break statement\n",
    "number = 0 \n",
    "\n",
    "while number < 5: \n",
    "    print(number) \n",
    "    if number == 3: #This would stop when the counter adds to 0 to make it 3. It is executed with an if statement\n",
    "        break\n",
    "    number = number + 1"
   ]
  },
  {
   "cell_type": "code",
   "execution_count": 49,
   "id": "b85e9118",
   "metadata": {},
   "outputs": [
    {
     "name": "stdout",
     "output_type": "stream",
     "text": [
      "0\n",
      "1\n",
      "2\n",
      "3\n",
      "4\n",
      "No longer < 5\n"
     ]
    }
   ],
   "source": [
    "# else statement\n",
    "number = 0 \n",
    "\n",
    "while number < 5: \n",
    "    print(number) \n",
    "    if number == 6:\n",
    "        break\n",
    "    number = number + 1\n",
    "else: # when the number is no longer less than 5\n",
    "    print('No longer < 5')"
   ]
  },
  {
   "cell_type": "code",
   "execution_count": null,
   "id": "171b2a57",
   "metadata": {},
   "outputs": [],
   "source": [
    "# Continue statement: If this is triggered, it rejects all of the statements in the current iteration of the loop and it would go to the next iteration.\n",
    "# This means it is not going to continue with the iterations below it (in this case the counter and else statement), but would go back to the beginning of the while loop\n",
    "number = 0 \n",
    "\n",
    "while number < 5: \n",
    "    print(number) \n",
    "    if number == 3:\n",
    "        continue\n",
    "    number = number + 1\n",
    "else:\n",
    "    print('No longer < 5')\n"
   ]
  },
  {
   "cell_type": "code",
   "execution_count": 52,
   "id": "d25a802d",
   "metadata": {},
   "outputs": [
    {
     "name": "stdout",
     "output_type": "stream",
     "text": [
      "1\n",
      "2\n",
      "4\n",
      "5\n",
      "No longer < 5\n"
     ]
    }
   ],
   "source": [
    "# If you change the position of the loop structure\n",
    "number = 0 \n",
    "\n",
    "while number < 5: \n",
    "    number = number + 1 \n",
    "    if number == 3:\n",
    "        continue\n",
    "    print(number)\n",
    "else:\n",
    "    print('No longer < 5')"
   ]
  },
  {
   "attachments": {},
   "cell_type": "markdown",
   "id": "b992a01b",
   "metadata": {},
   "source": [
    "# Functions in Python\n",
    "- A function is a block of code that will only run when you call it."
   ]
  },
  {
   "cell_type": "code",
   "execution_count": 53,
   "id": "32b87bc5",
   "metadata": {},
   "outputs": [],
   "source": [
    "def first_function():\n",
    "    print('We did it!')"
   ]
  },
  {
   "cell_type": "code",
   "execution_count": 54,
   "id": "d2385d48",
   "metadata": {},
   "outputs": [
    {
     "name": "stdout",
     "output_type": "stream",
     "text": [
      "We did it!\n"
     ]
    }
   ],
   "source": [
    "first_function()"
   ]
  },
  {
   "cell_type": "code",
   "execution_count": 55,
   "id": "6a7bf3f3",
   "metadata": {},
   "outputs": [],
   "source": [
    "# Arguments\n",
    "def number_squared(number): # Arguments are passed in the parentheses. You can name your arguments x or y or make it more descriptive like the number example\n",
    "    print(number**2) # This is the body of code that would be executed. It would execute the number race to the power of 2\n",
    "    "
   ]
  },
  {
   "cell_type": "code",
   "execution_count": 56,
   "id": "7763ca06",
   "metadata": {},
   "outputs": [
    {
     "name": "stdout",
     "output_type": "stream",
     "text": [
      "25\n"
     ]
    }
   ],
   "source": [
    "number_squared(5)"
   ]
  },
  {
   "cell_type": "code",
   "execution_count": 59,
   "id": "32c72f22",
   "metadata": {},
   "outputs": [],
   "source": [
    "# Multiple Arguments\n",
    "# You can call as multiple arguments as you want in a function you just have to seperate them by commas\n",
    "def number_squared_cust(number, power): \n",
    "    print(number**power)\n",
    "\n",
    "# This would make it easier to specify the number and the power and not just default it as 2\n",
    "# If you pass in 2 arguments when you define your function, you also have to pass 2 arguments when calling the function"
   ]
  },
  {
   "cell_type": "code",
   "execution_count": 58,
   "id": "71dc6aac",
   "metadata": {},
   "outputs": [
    {
     "name": "stdout",
     "output_type": "stream",
     "text": [
      "125\n"
     ]
    }
   ],
   "source": [
    "number_squared_cust(5, 3)"
   ]
  },
  {
   "cell_type": "code",
   "execution_count": 65,
   "id": "7b53eb7e",
   "metadata": {},
   "outputs": [],
   "source": [
    "#Arbitrary arguments\n",
    "# If you don't know how many arguments you want to pass through, an arbitrary argument would help specify that later when you are calling the argument, so you don't have to do it upfront and know the information\n",
    "args_tuple = (5, 6, 1, 2, 8)\n",
    "def number_args(*number):\n",
    "    print(number[2]*number[3])\n",
    "    # print(number[1]*number[4])\n",
    "\n",
    "# Using this method, you are calling the position of the argument in the tuple and not the number itself.\n",
    "# You can use a different position\n",
    "# Functions are structured in tuples so you can create a variable of tuples to be your arbritary argument\n",
    "# The star is compulsory but the name of the argument can be anything *find *love"
   ]
  },
  {
   "cell_type": "code",
   "execution_count": 66,
   "id": "9f724a45",
   "metadata": {},
   "outputs": [
    {
     "name": "stdout",
     "output_type": "stream",
     "text": [
      "2\n"
     ]
    }
   ],
   "source": [
    "number_args(*args_tuple) # The star is also compulsory here"
   ]
  },
  {
   "cell_type": "code",
   "execution_count": 67,
   "id": "124a6b80",
   "metadata": {},
   "outputs": [],
   "source": [
    "# Keyword Arguments\n",
    "# Keyword arguments give more control of multiple arguments\n",
    "def number_squared_cust(number, power): \n",
    "    print(number**power)"
   ]
  },
  {
   "cell_type": "code",
   "execution_count": 68,
   "id": "90f9faf8",
   "metadata": {},
   "outputs": [
    {
     "name": "stdout",
     "output_type": "stream",
     "text": [
      "243\n"
     ]
    }
   ],
   "source": [
    "# The keyword arguments helps you control which argument is for which function if you have multiple arguments\n",
    "number_squared_cust(power = 5, number = 3)"
   ]
  },
  {
   "cell_type": "code",
   "execution_count": 74,
   "id": "5ec2c742",
   "metadata": {},
   "outputs": [],
   "source": [
    "# Arbitrary keyword arguments\n",
    "# This is used when you don't know how many keywords function you want to pass into your argument\n",
    "# You have to use two stars for this\n",
    "def number_kwarg(**number): #This is arbitrary argument\n",
    "    print('My number is: ' + number['integer'] + ' My other number: ' + number['integer2'])\n"
   ]
  },
  {
   "cell_type": "code",
   "execution_count": 75,
   "id": "01ae1046",
   "metadata": {},
   "outputs": [
    {
     "name": "stdout",
     "output_type": "stream",
     "text": [
      "My number is: 2309 My other number: 349\n"
     ]
    }
   ],
   "source": [
    "number_kwarg(integer = '2309', integer2 = '349') #This is keyword argument\n",
    "# The number has to be a string\n",
    "# + means concatenate"
   ]
  },
  {
   "attachments": {},
   "cell_type": "markdown",
   "id": "e434e7b6",
   "metadata": {},
   "source": [
    "# Converting Data Types and Data Structures in Python\n",
    "- "
   ]
  },
  {
   "cell_type": "code",
   "execution_count": 2,
   "id": "1abd61ec",
   "metadata": {},
   "outputs": [
    {
     "data": {
      "text/plain": [
       "int"
      ]
     },
     "execution_count": 2,
     "metadata": {},
     "output_type": "execute_result"
    }
   ],
   "source": [
    "num_int = 7\n",
    "\n",
    "# Check the data type\n",
    "type(num_int)"
   ]
  },
  {
   "cell_type": "code",
   "execution_count": 3,
   "id": "7fd25f05",
   "metadata": {},
   "outputs": [
    {
     "data": {
      "text/plain": [
       "str"
      ]
     },
     "execution_count": 3,
     "metadata": {},
     "output_type": "execute_result"
    }
   ],
   "source": [
    "num_str = '7'\n",
    "\n",
    "type(num_str)"
   ]
  },
  {
   "cell_type": "code",
   "execution_count": 4,
   "id": "570a4e6d",
   "metadata": {},
   "outputs": [],
   "source": [
    "num_str_conv = int(num_str)"
   ]
  },
  {
   "cell_type": "code",
   "execution_count": 6,
   "id": "4e477039",
   "metadata": {},
   "outputs": [
    {
     "name": "stdout",
     "output_type": "stream",
     "text": [
      "14\n"
     ]
    }
   ],
   "source": [
    "num_sum = num_int + num_str_conv\n",
    "\n",
    "print(num_sum)"
   ]
  },
  {
   "cell_type": "code",
   "execution_count": 11,
   "id": "51262bfe",
   "metadata": {},
   "outputs": [
    {
     "data": {
      "text/plain": [
       "list"
      ]
     },
     "execution_count": 11,
     "metadata": {},
     "output_type": "execute_result"
    }
   ],
   "source": [
    "list_type = [1, 2, 3, 3, 2, 1, 3, 4, 5, 4, 6, 5]\n",
    "\n",
    "type(list_type)"
   ]
  },
  {
   "cell_type": "code",
   "execution_count": 9,
   "id": "857d5cea",
   "metadata": {},
   "outputs": [
    {
     "data": {
      "text/plain": [
       "tuple"
      ]
     },
     "execution_count": 9,
     "metadata": {},
     "output_type": "execute_result"
    }
   ],
   "source": [
    "type(tuple(list_type))\n"
   ]
  },
  {
   "cell_type": "code",
   "execution_count": 13,
   "id": "a51da63c",
   "metadata": {},
   "outputs": [
    {
     "data": {
      "text/plain": [
       "set"
      ]
     },
     "execution_count": 13,
     "metadata": {},
     "output_type": "execute_result"
    }
   ],
   "source": [
    "# Converting a list or tuple into a set may change the valuse in it\n",
    "type(set(list_type))"
   ]
  },
  {
   "cell_type": "code",
   "execution_count": 17,
   "id": "13c96558",
   "metadata": {},
   "outputs": [
    {
     "data": {
      "text/plain": [
       "dict"
      ]
     },
     "execution_count": 17,
     "metadata": {},
     "output_type": "execute_result"
    }
   ],
   "source": [
    "dict_type = {'name': 'Mariam', 'age': 20, 'hair': 'Brown'}\n",
    "\n",
    "type(dict_type)"
   ]
  },
  {
   "cell_type": "code",
   "execution_count": 18,
   "id": "22140415",
   "metadata": {},
   "outputs": [
    {
     "data": {
      "text/plain": [
       "dict_items([('name', 'Mariam'), ('age', 20), ('hair', 'Brown')])"
      ]
     },
     "execution_count": 18,
     "metadata": {},
     "output_type": "execute_result"
    }
   ],
   "source": [
    "dict_type.items()"
   ]
  },
  {
   "cell_type": "code",
   "execution_count": 19,
   "id": "dee3c0df",
   "metadata": {},
   "outputs": [
    {
     "data": {
      "text/plain": [
       "dict_values(['Mariam', 20, 'Brown'])"
      ]
     },
     "execution_count": 19,
     "metadata": {},
     "output_type": "execute_result"
    }
   ],
   "source": [
    "dict_type.values()"
   ]
  },
  {
   "cell_type": "code",
   "execution_count": 20,
   "id": "60848524",
   "metadata": {},
   "outputs": [
    {
     "data": {
      "text/plain": [
       "dict_keys(['name', 'age', 'hair'])"
      ]
     },
     "execution_count": 20,
     "metadata": {},
     "output_type": "execute_result"
    }
   ],
   "source": [
    "dict_type.keys()"
   ]
  },
  {
   "cell_type": "code",
   "execution_count": 22,
   "id": "724ff090",
   "metadata": {},
   "outputs": [
    {
     "data": {
      "text/plain": [
       "['name', 'age', 'hair']"
      ]
     },
     "execution_count": 22,
     "metadata": {},
     "output_type": "execute_result"
    }
   ],
   "source": [
    "list(dict_type.keys())"
   ]
  },
  {
   "cell_type": "code",
   "execution_count": 27,
   "id": "2d590945",
   "metadata": {},
   "outputs": [
    {
     "name": "stdout",
     "output_type": "stream",
     "text": [
      "[('name', 'Mariam'), ('age', 20), ('hair', 'Brown')]\n"
     ]
    }
   ],
   "source": [
    "list(dict_type.items())\n",
    "print(list(dict_type.items()))"
   ]
  },
  {
   "cell_type": "code",
   "execution_count": 29,
   "id": "f47b4002",
   "metadata": {},
   "outputs": [
    {
     "data": {
      "text/plain": [
       "['I', ' ', 'l', 'i', 'k', 'e', ' ', 't', 'o', ' ', 'p', 'a', 'r', 't', 'y']"
      ]
     },
     "execution_count": 29,
     "metadata": {},
     "output_type": "execute_result"
    }
   ],
   "source": [
    "# When you change a string into a list, it sepearates each character into individual lists.\n",
    "long_str = 'I like to party'\n",
    "list(long_str)"
   ]
  },
  {
   "cell_type": "code",
   "execution_count": 32,
   "id": "5e70ad05",
   "metadata": {},
   "outputs": [
    {
     "name": "stdout",
     "output_type": "stream",
     "text": [
      "{'i', 'l', 'p', 'r', 'y', 'I', 't', 'k', ' ', 'o', 'a', 'e'}\n"
     ]
    }
   ],
   "source": [
    "# changing a string into a set would remove duplicates (even for the spaces)\n",
    "\n",
    "set(long_str)\n",
    "\n",
    "print(set(long_str))"
   ]
  }
 ],
 "metadata": {
  "kernelspec": {
   "display_name": "Python 3",
   "language": "python",
   "name": "python3"
  },
  "language_info": {
   "codemirror_mode": {
    "name": "ipython",
    "version": 3
   },
   "file_extension": ".py",
   "mimetype": "text/x-python",
   "name": "python",
   "nbconvert_exporter": "python",
   "pygments_lexer": "ipython3",
   "version": "3.10.9"
  },
  "vscode": {
   "interpreter": {
    "hash": "1f6a27bcfbe46a917dbd192f4a82657396dda26148bae633192e8d28c70725f1"
   }
  }
 },
 "nbformat": 4,
 "nbformat_minor": 5
}
