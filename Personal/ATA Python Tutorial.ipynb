{
 "cells": [
  {
   "cell_type": "code",
   "execution_count": 1,
   "id": "efe73803",
   "metadata": {},
   "outputs": [
    {
     "name": "stdout",
     "output_type": "stream",
     "text": [
      "Hello World\n"
     ]
    }
   ],
   "source": [
    "print('Hello World')"
   ]
  },
  {
   "cell_type": "markdown",
   "id": "9b2d8d39",
   "metadata": {},
   "source": [
    "This command prints Hello world"
   ]
  },
  {
   "cell_type": "markdown",
   "id": "fed8ee50",
   "metadata": {},
   "source": [
    "# Variables in Python\n",
    "- A container for storing data values. It can be a string or an integer assigned to a variable.\n",
    "- This is effective with the use of = sign which means assignment in python.\n",
    "- When you use a variable, you do not have to also assign its data type.\n",
    "- You can overwrite an existing variable.\n",
    "- Variables are case sensitive, if lowercase y is assigned to something and uppercase Y is also assigned to the same thing, those two things are not the same.\n",
    "- Multiple values can be assigned to multiple variables.\n",
    "- Multiple variables can be assigned to a single value.\n",
    "- Variables can be assigned to lists, dictionaries, tuples, and sets."
   ]
  },
  {
   "cell_type": "code",
   "execution_count": 1,
   "id": "260494a2",
   "metadata": {},
   "outputs": [
    {
     "name": "stdout",
     "output_type": "stream",
     "text": [
      "22\n"
     ]
    }
   ],
   "source": [
    "x = 22\n",
    "\n",
    "print(x)"
   ]
  },
  {
   "cell_type": "code",
   "execution_count": 2,
   "id": "786b6372",
   "metadata": {},
   "outputs": [
    {
     "data": {
      "text/plain": [
       "int"
      ]
     },
     "execution_count": 2,
     "metadata": {},
     "output_type": "execute_result"
    }
   ],
   "source": [
    "type(x)"
   ]
  },
  {
   "cell_type": "code",
   "execution_count": 3,
   "id": "cf67c6f4",
   "metadata": {},
   "outputs": [
    {
     "name": "stdout",
     "output_type": "stream",
     "text": [
      "Mint Chocolate Chip\n"
     ]
    }
   ],
   "source": [
    "y = 'Mint Chocolate Chip'\n",
    "\n",
    "print(y)"
   ]
  },
  {
   "cell_type": "code",
   "execution_count": 4,
   "id": "c02bf1c2",
   "metadata": {},
   "outputs": [
    {
     "data": {
      "text/plain": [
       "str"
      ]
     },
     "execution_count": 4,
     "metadata": {},
     "output_type": "execute_result"
    }
   ],
   "source": [
    "type(y)"
   ]
  },
  {
   "cell_type": "code",
   "execution_count": 5,
   "id": "fd9e8fcd",
   "metadata": {},
   "outputs": [
    {
     "name": "stdout",
     "output_type": "stream",
     "text": [
      "Mint Chocolate Chip\n"
     ]
    }
   ],
   "source": [
    "y = 'Chocolate'\n",
    "\n",
    "y = 'Mint Chocolate Chip'\n",
    "\n",
    "print(y)"
   ]
  },
  {
   "cell_type": "code",
   "execution_count": 6,
   "id": "d176dca2",
   "metadata": {},
   "outputs": [
    {
     "name": "stdout",
     "output_type": "stream",
     "text": [
      "Mint Chocolate Chip\n"
     ]
    }
   ],
   "source": [
    "y = 'Chocolate'\n",
    "\n",
    "Y = 'Mint Chocolate Chip'\n",
    "\n",
    "print(Y)"
   ]
  },
  {
   "cell_type": "code",
   "execution_count": 7,
   "id": "0aa86d2c",
   "metadata": {},
   "outputs": [
    {
     "name": "stdout",
     "output_type": "stream",
     "text": [
      "Chocolate\n",
      "Vanilla\n",
      "Rocky Road\n"
     ]
    }
   ],
   "source": [
    "x,y,z = 'Chocolate', 'Vanilla', 'Rocky Road'\n",
    "\n",
    "print(x)\n",
    "print(y)\n",
    "print(z)"
   ]
  },
  {
   "cell_type": "code",
   "execution_count": 8,
   "id": "3851d849",
   "metadata": {
    "scrolled": true
   },
   "outputs": [
    {
     "name": "stdout",
     "output_type": "stream",
     "text": [
      "Root Beer Float\n",
      "Root Beer Float\n",
      "Root Beer Float\n"
     ]
    }
   ],
   "source": [
    "x = y = z = 'Root Beer Float'\n",
    "\n",
    "print(x)\n",
    "print(y)\n",
    "print(z)"
   ]
  },
  {
   "cell_type": "markdown",
   "id": "5d9a4159",
   "metadata": {},
   "source": [
    "# List\n",
    "- This cell contains a list. \n",
    "- A list is denoted in square brackets.\n",
    "- They can also be contained in a variable. In this example, the variable is ice-cream. Then we contained the variable ice_cream in another variable x,y,z."
   ]
  },
  {
   "cell_type": "code",
   "execution_count": 9,
   "id": "855663ce",
   "metadata": {},
   "outputs": [
    {
     "name": "stdout",
     "output_type": "stream",
     "text": [
      "Chocolate\n",
      "Vanilla\n",
      "Rocky Road\n"
     ]
    }
   ],
   "source": [
    "ice_cream = ['Chocolate', 'Vanilla', 'Rocky Road']\n",
    "\n",
    "x,y,z = ice_cream\n",
    "\n",
    "print(x)\n",
    "print(y)\n",
    "print(z)"
   ]
  },
  {
   "cell_type": "markdown",
   "id": "0aafe899",
   "metadata": {},
   "source": [
    "# Naming your variables\n",
    "There are different ways people name their variables.\n",
    "- Camel Case\n",
    "- Pascal Case\n",
    "- Snake Case (The Best)\n",
    "Things that can't be used in your varialble names\n",
    "Numbers (especially at the beginning of the variable name because it would give an error), -, Commas, Space, period, /, = and this is because they won't work."
   ]
  },
  {
   "cell_type": "code",
   "execution_count": 11,
   "id": "6a469a61",
   "metadata": {},
   "outputs": [],
   "source": [
    "#Camel Case example\n",
    "#First word would be in lowercase and the beginning of the remainig words would be in uppercase\n",
    "testVariableCase = 'Vanilla Swirl'"
   ]
  },
  {
   "cell_type": "code",
   "execution_count": 12,
   "id": "357c9326",
   "metadata": {},
   "outputs": [],
   "source": [
    "#Pascal Case example\n",
    "#First word would be in uppercase\n",
    "TestVariableCase = 'Vanilla Swirl'"
   ]
  },
  {
   "cell_type": "code",
   "execution_count": 13,
   "id": "de20a673",
   "metadata": {},
   "outputs": [],
   "source": [
    "#Snake Case example\n",
    "#No capital letters used and seperate everything with an underscore\n",
    "test_variable_case = 'Vanilla Swirl'"
   ]
  },
  {
   "cell_type": "markdown",
   "id": "841e01d5",
   "metadata": {},
   "source": [
    "# Operators with variables.\n",
    "- You can use the + sign in a variable e.g you can add a string with a string and an integer with an integerbut you can't add a string with an integer. \n",
    "- addition sign (+) means concatenate"
   ]
  },
  {
   "cell_type": "code",
   "execution_count": 14,
   "id": "e696b16a",
   "metadata": {},
   "outputs": [
    {
     "name": "stdout",
     "output_type": "stream",
     "text": [
      "Ice cream is my favorite.\n"
     ]
    }
   ],
   "source": [
    "x = 'Ice cream is my favorite' + '.'\n",
    "\n",
    "print(x)"
   ]
  },
  {
   "cell_type": "code",
   "execution_count": 15,
   "id": "edc8389f",
   "metadata": {},
   "outputs": [
    {
     "name": "stdout",
     "output_type": "stream",
     "text": [
      "5\n"
     ]
    }
   ],
   "source": [
    "y = 3 + 2\n",
    "\n",
    "print(y)"
   ]
  },
  {
   "cell_type": "code",
   "execution_count": 17,
   "id": "a4acd62d",
   "metadata": {},
   "outputs": [
    {
     "name": "stdout",
     "output_type": "stream",
     "text": [
      "Ice cream is my favorite\n"
     ]
    }
   ],
   "source": [
    "# You can also add multiple variables within a print statement.\n",
    "x = 'Ice cream '\n",
    "y = 'is '\n",
    "z = 'my favorite'\n",
    "\n",
    "print(x+y+z)"
   ]
  },
  {
   "cell_type": "code",
   "execution_count": 18,
   "id": "b3bc3d50",
   "metadata": {},
   "outputs": [
    {
     "name": "stdout",
     "output_type": "stream",
     "text": [
      "16\n"
     ]
    }
   ],
   "source": [
    "x = 3\n",
    "y = 4\n",
    "z = 9\n",
    "\n",
    "print(x+y+z)"
   ]
  },
  {
   "cell_type": "code",
   "execution_count": 19,
   "id": "a5b67cef",
   "metadata": {},
   "outputs": [
    {
     "name": "stdout",
     "output_type": "stream",
     "text": [
      "Ice cream 4\n"
     ]
    }
   ],
   "source": [
    "# Combining a string and an integer in a print statement using the comma since we can't use the concatenate function (+)\n",
    "x = 'Ice cream'\n",
    "y = 4\n",
    "\n",
    "print(x,y)"
   ]
  },
  {
   "cell_type": "code",
   "execution_count": null,
   "id": "83d347ab",
   "metadata": {},
   "outputs": [],
   "source": []
  }
 ],
 "metadata": {
  "kernelspec": {
   "display_name": "Python 3",
   "language": "python",
   "name": "python3"
  },
  "language_info": {
   "codemirror_mode": {
    "name": "ipython",
    "version": 3
   },
   "file_extension": ".py",
   "mimetype": "text/x-python",
   "name": "python",
   "nbconvert_exporter": "python",
   "pygments_lexer": "ipython3",
   "version": "3.11.1 (tags/v3.11.1:a7a450f, Dec  6 2022, 19:58:39) [MSC v.1934 64 bit (AMD64)]"
  },
  "vscode": {
   "interpreter": {
    "hash": "1f6a27bcfbe46a917dbd192f4a82657396dda26148bae633192e8d28c70725f1"
   }
  }
 },
 "nbformat": 4,
 "nbformat_minor": 5
}
